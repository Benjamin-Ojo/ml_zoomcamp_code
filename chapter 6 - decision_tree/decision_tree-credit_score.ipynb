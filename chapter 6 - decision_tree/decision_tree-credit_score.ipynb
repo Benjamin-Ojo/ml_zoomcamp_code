{
 "cells": [
  {
   "cell_type": "markdown",
   "id": "e2f78412",
   "metadata": {},
   "source": [
    "# Chapter 6 - Decision Tree Model"
   ]
  },
  {
   "cell_type": "markdown",
   "id": "d042db02",
   "metadata": {},
   "source": [
    "## Project: Credit Risk Score."
   ]
  },
  {
   "cell_type": "code",
   "execution_count": null,
   "id": "cecba22f",
   "metadata": {},
   "outputs": [],
   "source": [
    "# Importing Python Packages. \n",
    "\n",
    "# Data Manipulation. \n",
    "import pandas as pd \n",
    "import numpy as np\n",
    "\n",
    "# Data Visualization Packages. \n",
    "import seaborn as sns \n",
    "import matplotlib.pyplot as plt\n",
    "\n",
    "# Data Gathering Package. \n",
    "import wget \n",
    "\n",
    "# Other\n",
    "%matplotlib inline"
   ]
  }
 ],
 "metadata": {
  "kernelspec": {
   "display_name": "Python 3 (ipykernel)",
   "language": "python",
   "name": "python3"
  },
  "language_info": {
   "codemirror_mode": {
    "name": "ipython",
    "version": 3
   },
   "file_extension": ".py",
   "mimetype": "text/x-python",
   "name": "python",
   "nbconvert_exporter": "python",
   "pygments_lexer": "ipython3",
   "version": "3.9.13"
  }
 },
 "nbformat": 4,
 "nbformat_minor": 5
}
