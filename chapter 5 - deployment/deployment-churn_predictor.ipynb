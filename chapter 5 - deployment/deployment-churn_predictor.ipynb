{
 "cells": [
  {
   "cell_type": "code",
   "execution_count": null,
   "id": "5331e275",
   "metadata": {},
   "outputs": [],
   "source": [
    "# Importing packages\n",
    "import numpy as np\n",
    "import pandas as pd \n",
    "\n",
    "from sklearn.feature_extraction import DictVectorizer\n",
    "from sklearn.metrics import roc_auc_score\n",
    "\n",
    "from sklearn.linear_model import LogisticRegression\n",
    "from sklearn.model_selection import train_test_split"
   ]
  },
  {
   "cell_type": "code",
   "execution_count": null,
   "id": "856cd125",
   "metadata": {
    "scrolled": true
   },
   "outputs": [],
   "source": [
    "# Load dataset.\n",
    "telco_data = pd.read_csv('data/telco_customer_churn.csv')\n",
    "\n",
    "# Checking dataframe.\n",
    "telco_data.head()"
   ]
  },
  {
   "cell_type": "code",
   "execution_count": null,
   "id": "0871e4e0",
   "metadata": {},
   "outputs": [],
   "source": [
    "# Cleaning up columns names and categorical variables. \n",
    "columns = telco_data.columns.str.lower().str.replace(' ', '_')\n",
    "\n",
    "# changeing columns names \n",
    "telco_data.columns = columns\n",
    "\n",
    "# Checking for changes made. \n",
    "telco_data.columns"
   ]
  },
  {
   "cell_type": "code",
   "execution_count": null,
   "id": "6aa80e45",
   "metadata": {},
   "outputs": [],
   "source": []
  },
  {
   "cell_type": "code",
   "execution_count": null,
   "id": "c9bbfa8e",
   "metadata": {},
   "outputs": [],
   "source": [
    "# Categorical Features. \n",
    "categorical = ['customerid', 'gender', 'partner', 'dependents', 'phoneservice',\n",
    "       'multiplelines', 'internetservice', 'onlinesecurity', 'onlinebackup',\n",
    "       'deviceprotection', 'techsupport', 'streamingtv', 'streamingmovies',\n",
    "       'contract', 'paperlessbilling', 'paymentmethod',\n",
    "       'churn']\n",
    "\n",
    "# Converting to lower case and removing space. \n",
    "for c in categorical: \n",
    "    telco_data[c] = telco_data[c].str.lower().str.replace(' ', '_')\n",
    "    print(c)"
   ]
  },
  {
   "cell_type": "code",
   "execution_count": null,
   "id": "6f841167",
   "metadata": {},
   "outputs": [],
   "source": [
    "# Checking dataframe.\n",
    "telco_data.head().T"
   ]
  },
  {
   "cell_type": "code",
   "execution_count": null,
   "id": "15b47055",
   "metadata": {},
   "outputs": [],
   "source": [
    "# Converting totalcharge column to number. \n",
    "telco_data['totalcharges'] = pd.to_numeric(telco_data['totalcharges'], errors='coerce')\n",
    "\n",
    "# Filling null values with 0. \n",
    "telco_data['totalcharges'] = telco_data['totalcharges'].fillna(0)\n",
    "\n",
    "# checking for null. \n",
    "telco_data['totalcharges'].isna().sum()"
   ]
  },
  {
   "cell_type": "code",
   "execution_count": null,
   "id": "eaf5ed50",
   "metadata": {},
   "outputs": [],
   "source": [
    "# converting churn to int\n",
    "telco_data['churn'] = (telco_data['churn']== 'yes').astype(int)\n",
    "\n",
    "# Checking churn features.\n",
    "telco_data.churn.value_counts()"
   ]
  },
  {
   "cell_type": "code",
   "execution_count": null,
   "id": "304036a3",
   "metadata": {},
   "outputs": [],
   "source": [
    "# Setting up data validation dataset. \n",
    "telco_train, telco_test = train_test_split(telco_data, test_size = 0.20, random_state = 1)\n",
    "\n",
    "telco_train = telco_train.reset_index()\n",
    "telco_test = telco_test.reset_index()\n",
    "\n",
    "# Creating y features. \n",
    "y_train = telco_train['churn'].values\n",
    "y_test = telco_test['churn'].values\n",
    "\n",
    "# Deleting churn from dataset. \n",
    "del telco_train['churn']\n",
    "del telco_test['churn']"
   ]
  },
  {
   "cell_type": "code",
   "execution_count": null,
   "id": "ebc6599f",
   "metadata": {},
   "outputs": [],
   "source": [
    "telco_test"
   ]
  },
  {
   "cell_type": "code",
   "execution_count": null,
   "id": "568c778f",
   "metadata": {},
   "outputs": [],
   "source": [
    "# Defining a training function. \n",
    "def train(df_train, df_y, c = 1.0):\n",
    "    model = LogisticRegression(C= c , max_iter = 1000)\n",
    "    dv = DictVectorizer(sparse = False)\n",
    "    \n",
    "    dict_train = df_train.to_dict(orient = 'records')\n",
    "    x_train = dv.fit_transform(dict_train)\n",
    "    \n",
    "    model.fit(x_train, df_y)\n",
    "    \n",
    "    return model, dv"
   ]
  },
  {
   "cell_type": "code",
   "execution_count": null,
   "id": "8e0c26b1",
   "metadata": {},
   "outputs": [],
   "source": [
    "# Defining prediction function. \n",
    "def predict(df_val, model, dv): \n",
    "    dict_val = df_val.to_dict(orient = 'records')\n",
    "    x_val = dv.transform(dict_val)\n",
    "    \n",
    "    y_pred = model.predict_proba(x_val)[:, 1]\n",
    "    \n",
    "    return y_pred"
   ]
  },
  {
   "cell_type": "code",
   "execution_count": null,
   "id": "6bd03653",
   "metadata": {},
   "outputs": [],
   "source": [
    "# Setting parameters.\n",
    "\n",
    "# Logistic regression parameter.\n",
    "c = 0.1"
   ]
  },
  {
   "cell_type": "code",
   "execution_count": null,
   "id": "d111376f",
   "metadata": {},
   "outputs": [],
   "source": [
    "# Training model.\n",
    "model, dv = train(telco_train, y_train, c= c)\n",
    "\n",
    "# Model prediction.\n",
    "y_pred = predict(telco_test,model, dv)\n",
    "\n",
    "# Evaluating prediction with auc. \n",
    "auc = roc_auc_score(y_test, y_pred)\n",
    "\n",
    "print(auc)"
   ]
  },
  {
   "cell_type": "code",
   "execution_count": null,
   "id": "c141e811",
   "metadata": {},
   "outputs": [],
   "source": [
    "customer = {\n",
    "    'customerid': '8879-zkjof',\n",
    "    'gender': 'female',\n",
    "    'seniorcitizen': 0,\n",
    "    'partner': 'no',\n",
    "    'dependents': 'no',\n",
    "    'tenure': 41,\n",
    "    'phoneservice': 'yes',\n",
    "    'multiplelines': 'no',\n",
    "    'internetservice': 'dsl',\n",
    "    'onlinesecurity': 'yes',\n",
    "    'onlinebackup': 'no',\n",
    "    'deviceprotection': 'yes',\n",
    "    'techsupport': 'yes',\n",
    "    'streamingtv': 'yes',\n",
    "    'streamingmovies': 'yes',\n",
    "    'contract': 'one_year',\n",
    "    'paperlessbilling': 'yes',\n",
    "    'paymentmethod': 'bank_transfer_(automatic)',\n",
    "    'monthlycharges': 79.85,\n",
    "    'totalcharges': 3320.75\n",
    "}"
   ]
  },
  {
   "cell_type": "code",
   "execution_count": null,
   "id": "b5d3c69d",
   "metadata": {},
   "outputs": [],
   "source": [
    "def predict_customer(customer, model, dv):\n",
    "    x = dv.transform(customer)\n",
    "    y_pred = model.predict_proba(x)[:, 1]\n",
    "    return y_pred[0].round(3)"
   ]
  },
  {
   "cell_type": "code",
   "execution_count": null,
   "id": "de6548d4",
   "metadata": {},
   "outputs": [],
   "source": [
    "# Predicting a single customer\n",
    "result = predict_customer(customer, model, dv)\n",
    "\n",
    "# Result of prediction.\n",
    "result"
   ]
  },
  {
   "cell_type": "code",
   "execution_count": null,
   "id": "56790d4a",
   "metadata": {},
   "outputs": [],
   "source": [
    "# Importing pickle package.\n",
    "import pickle"
   ]
  },
  {
   "cell_type": "code",
   "execution_count": null,
   "id": "d5897e8a",
   "metadata": {},
   "outputs": [],
   "source": [
    "# file tile\n",
    "churn_model = f'model_C={c}.bin'"
   ]
  },
  {
   "cell_type": "code",
   "execution_count": null,
   "id": "accb9478",
   "metadata": {},
   "outputs": [],
   "source": [
    "# writting model to .bin file. \n",
    "with open(churn_model, 'wb') as f_out: \n",
    "    pickle.dump((model, dv), f_out)"
   ]
  }
 ],
 "metadata": {
  "kernelspec": {
   "display_name": "Python 3 (ipykernel)",
   "language": "python",
   "name": "python3"
  },
  "language_info": {
   "codemirror_mode": {
    "name": "ipython",
    "version": 3
   },
   "file_extension": ".py",
   "mimetype": "text/x-python",
   "name": "python",
   "nbconvert_exporter": "python",
   "pygments_lexer": "ipython3",
   "version": "3.9.13"
  }
 },
 "nbformat": 4,
 "nbformat_minor": 5
}
