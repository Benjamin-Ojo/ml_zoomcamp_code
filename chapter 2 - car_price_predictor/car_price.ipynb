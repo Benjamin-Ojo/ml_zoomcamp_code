{
 "cells": [
  {
   "cell_type": "markdown",
   "id": "a2d75cf2",
   "metadata": {},
   "source": [
    "# Chapter 2 - Machine Learning using Regression Models. "
   ]
  },
  {
   "cell_type": "markdown",
   "id": "e02813a2",
   "metadata": {},
   "source": [
    "## Project: Car Price Predicator."
   ]
  },
  {
   "cell_type": "code",
   "execution_count": 1,
   "id": "64088f33",
   "metadata": {},
   "outputs": [],
   "source": [
    "# Importing python packages\n",
    "\n",
    "# Data manipulation packages\n",
    "import numpy as np\n",
    "import pandas as pd\n",
    "\n",
    "# Data Visualization Pactages\n",
    "import matplotlib.pyplot as plt\n",
    "import seaborn as sns\n",
    "\n",
    "# Visualizer code\n",
    "%matplotlib inline "
   ]
  },
  {
   "cell_type": "markdown",
   "id": "ef3ca41a",
   "metadata": {},
   "source": [
    "## Data Gathering. "
   ]
  },
  {
   "cell_type": "code",
   "execution_count": 2,
   "id": "9dba8244",
   "metadata": {},
   "outputs": [
    {
     "data": {
      "text/html": [
       "<div>\n",
       "<style scoped>\n",
       "    .dataframe tbody tr th:only-of-type {\n",
       "        vertical-align: middle;\n",
       "    }\n",
       "\n",
       "    .dataframe tbody tr th {\n",
       "        vertical-align: top;\n",
       "    }\n",
       "\n",
       "    .dataframe thead th {\n",
       "        text-align: right;\n",
       "    }\n",
       "</style>\n",
       "<table border=\"1\" class=\"dataframe\">\n",
       "  <thead>\n",
       "    <tr style=\"text-align: right;\">\n",
       "      <th></th>\n",
       "      <th>Make</th>\n",
       "      <th>Model</th>\n",
       "      <th>Year</th>\n",
       "      <th>Engine Fuel Type</th>\n",
       "      <th>Engine HP</th>\n",
       "      <th>Engine Cylinders</th>\n",
       "      <th>Transmission Type</th>\n",
       "      <th>Driven_Wheels</th>\n",
       "      <th>Number of Doors</th>\n",
       "      <th>Market Category</th>\n",
       "      <th>Vehicle Size</th>\n",
       "      <th>Vehicle Style</th>\n",
       "      <th>highway MPG</th>\n",
       "      <th>city mpg</th>\n",
       "      <th>Popularity</th>\n",
       "      <th>MSRP</th>\n",
       "    </tr>\n",
       "  </thead>\n",
       "  <tbody>\n",
       "    <tr>\n",
       "      <th>0</th>\n",
       "      <td>BMW</td>\n",
       "      <td>1 Series M</td>\n",
       "      <td>2011</td>\n",
       "      <td>premium unleaded (required)</td>\n",
       "      <td>335.0</td>\n",
       "      <td>6.0</td>\n",
       "      <td>MANUAL</td>\n",
       "      <td>rear wheel drive</td>\n",
       "      <td>2.0</td>\n",
       "      <td>Factory Tuner,Luxury,High-Performance</td>\n",
       "      <td>Compact</td>\n",
       "      <td>Coupe</td>\n",
       "      <td>26</td>\n",
       "      <td>19</td>\n",
       "      <td>3916</td>\n",
       "      <td>46135</td>\n",
       "    </tr>\n",
       "    <tr>\n",
       "      <th>1</th>\n",
       "      <td>BMW</td>\n",
       "      <td>1 Series</td>\n",
       "      <td>2011</td>\n",
       "      <td>premium unleaded (required)</td>\n",
       "      <td>300.0</td>\n",
       "      <td>6.0</td>\n",
       "      <td>MANUAL</td>\n",
       "      <td>rear wheel drive</td>\n",
       "      <td>2.0</td>\n",
       "      <td>Luxury,Performance</td>\n",
       "      <td>Compact</td>\n",
       "      <td>Convertible</td>\n",
       "      <td>28</td>\n",
       "      <td>19</td>\n",
       "      <td>3916</td>\n",
       "      <td>40650</td>\n",
       "    </tr>\n",
       "    <tr>\n",
       "      <th>2</th>\n",
       "      <td>BMW</td>\n",
       "      <td>1 Series</td>\n",
       "      <td>2011</td>\n",
       "      <td>premium unleaded (required)</td>\n",
       "      <td>300.0</td>\n",
       "      <td>6.0</td>\n",
       "      <td>MANUAL</td>\n",
       "      <td>rear wheel drive</td>\n",
       "      <td>2.0</td>\n",
       "      <td>Luxury,High-Performance</td>\n",
       "      <td>Compact</td>\n",
       "      <td>Coupe</td>\n",
       "      <td>28</td>\n",
       "      <td>20</td>\n",
       "      <td>3916</td>\n",
       "      <td>36350</td>\n",
       "    </tr>\n",
       "    <tr>\n",
       "      <th>3</th>\n",
       "      <td>BMW</td>\n",
       "      <td>1 Series</td>\n",
       "      <td>2011</td>\n",
       "      <td>premium unleaded (required)</td>\n",
       "      <td>230.0</td>\n",
       "      <td>6.0</td>\n",
       "      <td>MANUAL</td>\n",
       "      <td>rear wheel drive</td>\n",
       "      <td>2.0</td>\n",
       "      <td>Luxury,Performance</td>\n",
       "      <td>Compact</td>\n",
       "      <td>Coupe</td>\n",
       "      <td>28</td>\n",
       "      <td>18</td>\n",
       "      <td>3916</td>\n",
       "      <td>29450</td>\n",
       "    </tr>\n",
       "    <tr>\n",
       "      <th>4</th>\n",
       "      <td>BMW</td>\n",
       "      <td>1 Series</td>\n",
       "      <td>2011</td>\n",
       "      <td>premium unleaded (required)</td>\n",
       "      <td>230.0</td>\n",
       "      <td>6.0</td>\n",
       "      <td>MANUAL</td>\n",
       "      <td>rear wheel drive</td>\n",
       "      <td>2.0</td>\n",
       "      <td>Luxury</td>\n",
       "      <td>Compact</td>\n",
       "      <td>Convertible</td>\n",
       "      <td>28</td>\n",
       "      <td>18</td>\n",
       "      <td>3916</td>\n",
       "      <td>34500</td>\n",
       "    </tr>\n",
       "  </tbody>\n",
       "</table>\n",
       "</div>"
      ],
      "text/plain": [
       "  Make       Model  Year             Engine Fuel Type  Engine HP  \\\n",
       "0  BMW  1 Series M  2011  premium unleaded (required)      335.0   \n",
       "1  BMW    1 Series  2011  premium unleaded (required)      300.0   \n",
       "2  BMW    1 Series  2011  premium unleaded (required)      300.0   \n",
       "3  BMW    1 Series  2011  premium unleaded (required)      230.0   \n",
       "4  BMW    1 Series  2011  premium unleaded (required)      230.0   \n",
       "\n",
       "   Engine Cylinders Transmission Type     Driven_Wheels  Number of Doors  \\\n",
       "0               6.0            MANUAL  rear wheel drive              2.0   \n",
       "1               6.0            MANUAL  rear wheel drive              2.0   \n",
       "2               6.0            MANUAL  rear wheel drive              2.0   \n",
       "3               6.0            MANUAL  rear wheel drive              2.0   \n",
       "4               6.0            MANUAL  rear wheel drive              2.0   \n",
       "\n",
       "                         Market Category Vehicle Size Vehicle Style  \\\n",
       "0  Factory Tuner,Luxury,High-Performance      Compact         Coupe   \n",
       "1                     Luxury,Performance      Compact   Convertible   \n",
       "2                Luxury,High-Performance      Compact         Coupe   \n",
       "3                     Luxury,Performance      Compact         Coupe   \n",
       "4                                 Luxury      Compact   Convertible   \n",
       "\n",
       "   highway MPG  city mpg  Popularity   MSRP  \n",
       "0           26        19        3916  46135  \n",
       "1           28        19        3916  40650  \n",
       "2           28        20        3916  36350  \n",
       "3           28        18        3916  29450  \n",
       "4           28        18        3916  34500  "
      ]
     },
     "execution_count": 2,
     "metadata": {},
     "output_type": "execute_result"
    }
   ],
   "source": [
    "# Loading dataset.\n",
    "car = pd.read_csv('data/data.csv')\n",
    "\n",
    "# Viewing dataset\n",
    "car.head()"
   ]
  },
  {
   "cell_type": "markdown",
   "id": "dfe28976",
   "metadata": {},
   "source": [
    "## Data Assessment."
   ]
  },
  {
   "cell_type": "code",
   "execution_count": 3,
   "id": "046134ac",
   "metadata": {},
   "outputs": [
    {
     "data": {
      "text/html": [
       "<div>\n",
       "<style scoped>\n",
       "    .dataframe tbody tr th:only-of-type {\n",
       "        vertical-align: middle;\n",
       "    }\n",
       "\n",
       "    .dataframe tbody tr th {\n",
       "        vertical-align: top;\n",
       "    }\n",
       "\n",
       "    .dataframe thead th {\n",
       "        text-align: right;\n",
       "    }\n",
       "</style>\n",
       "<table border=\"1\" class=\"dataframe\">\n",
       "  <thead>\n",
       "    <tr style=\"text-align: right;\">\n",
       "      <th></th>\n",
       "      <th>Make</th>\n",
       "      <th>Model</th>\n",
       "      <th>Year</th>\n",
       "      <th>Engine Fuel Type</th>\n",
       "      <th>Engine HP</th>\n",
       "      <th>Engine Cylinders</th>\n",
       "      <th>Transmission Type</th>\n",
       "      <th>Driven_Wheels</th>\n",
       "      <th>Number of Doors</th>\n",
       "      <th>Market Category</th>\n",
       "      <th>Vehicle Size</th>\n",
       "      <th>Vehicle Style</th>\n",
       "      <th>highway MPG</th>\n",
       "      <th>city mpg</th>\n",
       "      <th>Popularity</th>\n",
       "      <th>MSRP</th>\n",
       "    </tr>\n",
       "  </thead>\n",
       "  <tbody>\n",
       "    <tr>\n",
       "      <th>3049</th>\n",
       "      <td>Honda</td>\n",
       "      <td>CR-V</td>\n",
       "      <td>2015</td>\n",
       "      <td>regular unleaded</td>\n",
       "      <td>185.0</td>\n",
       "      <td>4.0</td>\n",
       "      <td>AUTOMATIC</td>\n",
       "      <td>all wheel drive</td>\n",
       "      <td>4.0</td>\n",
       "      <td>Crossover</td>\n",
       "      <td>Compact</td>\n",
       "      <td>4dr SUV</td>\n",
       "      <td>33</td>\n",
       "      <td>26</td>\n",
       "      <td>2202</td>\n",
       "      <td>30895</td>\n",
       "    </tr>\n",
       "    <tr>\n",
       "      <th>5995</th>\n",
       "      <td>Infiniti</td>\n",
       "      <td>J30</td>\n",
       "      <td>1996</td>\n",
       "      <td>regular unleaded</td>\n",
       "      <td>210.0</td>\n",
       "      <td>6.0</td>\n",
       "      <td>AUTOMATIC</td>\n",
       "      <td>rear wheel drive</td>\n",
       "      <td>4.0</td>\n",
       "      <td>Luxury</td>\n",
       "      <td>Midsize</td>\n",
       "      <td>Sedan</td>\n",
       "      <td>22</td>\n",
       "      <td>16</td>\n",
       "      <td>190</td>\n",
       "      <td>2000</td>\n",
       "    </tr>\n",
       "    <tr>\n",
       "      <th>5479</th>\n",
       "      <td>Pontiac</td>\n",
       "      <td>Grand Am</td>\n",
       "      <td>2004</td>\n",
       "      <td>regular unleaded</td>\n",
       "      <td>175.0</td>\n",
       "      <td>6.0</td>\n",
       "      <td>AUTOMATIC</td>\n",
       "      <td>front wheel drive</td>\n",
       "      <td>4.0</td>\n",
       "      <td>NaN</td>\n",
       "      <td>Midsize</td>\n",
       "      <td>Sedan</td>\n",
       "      <td>27</td>\n",
       "      <td>18</td>\n",
       "      <td>210</td>\n",
       "      <td>22280</td>\n",
       "    </tr>\n",
       "    <tr>\n",
       "      <th>7262</th>\n",
       "      <td>Acura</td>\n",
       "      <td>NSX</td>\n",
       "      <td>2005</td>\n",
       "      <td>regular unleaded</td>\n",
       "      <td>252.0</td>\n",
       "      <td>6.0</td>\n",
       "      <td>AUTOMATIC</td>\n",
       "      <td>rear wheel drive</td>\n",
       "      <td>2.0</td>\n",
       "      <td>Exotic,Luxury,High-Performance</td>\n",
       "      <td>Compact</td>\n",
       "      <td>Coupe</td>\n",
       "      <td>22</td>\n",
       "      <td>16</td>\n",
       "      <td>204</td>\n",
       "      <td>89000</td>\n",
       "    </tr>\n",
       "    <tr>\n",
       "      <th>6849</th>\n",
       "      <td>Lincoln</td>\n",
       "      <td>MKC</td>\n",
       "      <td>2016</td>\n",
       "      <td>regular unleaded</td>\n",
       "      <td>240.0</td>\n",
       "      <td>4.0</td>\n",
       "      <td>AUTOMATIC</td>\n",
       "      <td>front wheel drive</td>\n",
       "      <td>4.0</td>\n",
       "      <td>Crossover,Luxury</td>\n",
       "      <td>Compact</td>\n",
       "      <td>4dr SUV</td>\n",
       "      <td>29</td>\n",
       "      <td>20</td>\n",
       "      <td>61</td>\n",
       "      <td>40460</td>\n",
       "    </tr>\n",
       "    <tr>\n",
       "      <th>4630</th>\n",
       "      <td>Ford</td>\n",
       "      <td>F-250</td>\n",
       "      <td>1999</td>\n",
       "      <td>regular unleaded</td>\n",
       "      <td>220.0</td>\n",
       "      <td>8.0</td>\n",
       "      <td>MANUAL</td>\n",
       "      <td>four wheel drive</td>\n",
       "      <td>2.0</td>\n",
       "      <td>NaN</td>\n",
       "      <td>Large</td>\n",
       "      <td>Regular Cab Pickup</td>\n",
       "      <td>16</td>\n",
       "      <td>12</td>\n",
       "      <td>5657</td>\n",
       "      <td>3269</td>\n",
       "    </tr>\n",
       "    <tr>\n",
       "      <th>3251</th>\n",
       "      <td>Cadillac</td>\n",
       "      <td>CTS</td>\n",
       "      <td>2015</td>\n",
       "      <td>flex-fuel (unleaded/E85)</td>\n",
       "      <td>321.0</td>\n",
       "      <td>6.0</td>\n",
       "      <td>AUTOMATIC</td>\n",
       "      <td>all wheel drive</td>\n",
       "      <td>4.0</td>\n",
       "      <td>Flex Fuel,Luxury,Performance</td>\n",
       "      <td>Large</td>\n",
       "      <td>Sedan</td>\n",
       "      <td>26</td>\n",
       "      <td>18</td>\n",
       "      <td>1624</td>\n",
       "      <td>59370</td>\n",
       "    </tr>\n",
       "    <tr>\n",
       "      <th>28</th>\n",
       "      <td>Audi</td>\n",
       "      <td>100</td>\n",
       "      <td>1994</td>\n",
       "      <td>regular unleaded</td>\n",
       "      <td>172.0</td>\n",
       "      <td>6.0</td>\n",
       "      <td>MANUAL</td>\n",
       "      <td>all wheel drive</td>\n",
       "      <td>4.0</td>\n",
       "      <td>Luxury</td>\n",
       "      <td>Midsize</td>\n",
       "      <td>Sedan</td>\n",
       "      <td>22</td>\n",
       "      <td>16</td>\n",
       "      <td>3105</td>\n",
       "      <td>2000</td>\n",
       "    </tr>\n",
       "    <tr>\n",
       "      <th>8295</th>\n",
       "      <td>Land Rover</td>\n",
       "      <td>Range Rover</td>\n",
       "      <td>2014</td>\n",
       "      <td>premium unleaded (required)</td>\n",
       "      <td>510.0</td>\n",
       "      <td>8.0</td>\n",
       "      <td>AUTOMATIC</td>\n",
       "      <td>four wheel drive</td>\n",
       "      <td>4.0</td>\n",
       "      <td>Luxury,High-Performance</td>\n",
       "      <td>Large</td>\n",
       "      <td>4dr SUV</td>\n",
       "      <td>19</td>\n",
       "      <td>13</td>\n",
       "      <td>258</td>\n",
       "      <td>105300</td>\n",
       "    </tr>\n",
       "    <tr>\n",
       "      <th>4610</th>\n",
       "      <td>Ford</td>\n",
       "      <td>F-250</td>\n",
       "      <td>1997</td>\n",
       "      <td>regular unleaded</td>\n",
       "      <td>220.0</td>\n",
       "      <td>8.0</td>\n",
       "      <td>MANUAL</td>\n",
       "      <td>rear wheel drive</td>\n",
       "      <td>3.0</td>\n",
       "      <td>NaN</td>\n",
       "      <td>Large</td>\n",
       "      <td>Extended Cab Pickup</td>\n",
       "      <td>17</td>\n",
       "      <td>12</td>\n",
       "      <td>5657</td>\n",
       "      <td>3156</td>\n",
       "    </tr>\n",
       "  </tbody>\n",
       "</table>\n",
       "</div>"
      ],
      "text/plain": [
       "            Make        Model  Year             Engine Fuel Type  Engine HP  \\\n",
       "3049       Honda         CR-V  2015             regular unleaded      185.0   \n",
       "5995    Infiniti          J30  1996             regular unleaded      210.0   \n",
       "5479     Pontiac     Grand Am  2004             regular unleaded      175.0   \n",
       "7262       Acura          NSX  2005             regular unleaded      252.0   \n",
       "6849     Lincoln          MKC  2016             regular unleaded      240.0   \n",
       "4630        Ford        F-250  1999             regular unleaded      220.0   \n",
       "3251    Cadillac          CTS  2015     flex-fuel (unleaded/E85)      321.0   \n",
       "28          Audi          100  1994             regular unleaded      172.0   \n",
       "8295  Land Rover  Range Rover  2014  premium unleaded (required)      510.0   \n",
       "4610        Ford        F-250  1997             regular unleaded      220.0   \n",
       "\n",
       "      Engine Cylinders Transmission Type      Driven_Wheels  Number of Doors  \\\n",
       "3049               4.0         AUTOMATIC    all wheel drive              4.0   \n",
       "5995               6.0         AUTOMATIC   rear wheel drive              4.0   \n",
       "5479               6.0         AUTOMATIC  front wheel drive              4.0   \n",
       "7262               6.0         AUTOMATIC   rear wheel drive              2.0   \n",
       "6849               4.0         AUTOMATIC  front wheel drive              4.0   \n",
       "4630               8.0            MANUAL   four wheel drive              2.0   \n",
       "3251               6.0         AUTOMATIC    all wheel drive              4.0   \n",
       "28                 6.0            MANUAL    all wheel drive              4.0   \n",
       "8295               8.0         AUTOMATIC   four wheel drive              4.0   \n",
       "4610               8.0            MANUAL   rear wheel drive              3.0   \n",
       "\n",
       "                     Market Category Vehicle Size        Vehicle Style  \\\n",
       "3049                       Crossover      Compact              4dr SUV   \n",
       "5995                          Luxury      Midsize                Sedan   \n",
       "5479                             NaN      Midsize                Sedan   \n",
       "7262  Exotic,Luxury,High-Performance      Compact                Coupe   \n",
       "6849                Crossover,Luxury      Compact              4dr SUV   \n",
       "4630                             NaN        Large   Regular Cab Pickup   \n",
       "3251    Flex Fuel,Luxury,Performance        Large                Sedan   \n",
       "28                            Luxury      Midsize                Sedan   \n",
       "8295         Luxury,High-Performance        Large              4dr SUV   \n",
       "4610                             NaN        Large  Extended Cab Pickup   \n",
       "\n",
       "      highway MPG  city mpg  Popularity    MSRP  \n",
       "3049           33        26        2202   30895  \n",
       "5995           22        16         190    2000  \n",
       "5479           27        18         210   22280  \n",
       "7262           22        16         204   89000  \n",
       "6849           29        20          61   40460  \n",
       "4630           16        12        5657    3269  \n",
       "3251           26        18        1624   59370  \n",
       "28             22        16        3105    2000  \n",
       "8295           19        13         258  105300  \n",
       "4610           17        12        5657    3156  "
      ]
     },
     "execution_count": 3,
     "metadata": {},
     "output_type": "execute_result"
    }
   ],
   "source": [
    "# Data Summary \n",
    "car.sample(10)"
   ]
  },
  {
   "cell_type": "code",
   "execution_count": 4,
   "id": "ef9fa67a",
   "metadata": {},
   "outputs": [
    {
     "name": "stdout",
     "output_type": "stream",
     "text": [
      "There are 11914 rows and 16 columns in the car dataset\n"
     ]
    }
   ],
   "source": [
    "# Viewing the data shape. \n",
    "print(f\"There are {car.shape[0]} rows and {car.shape[1]} columns in the car dataset\")"
   ]
  },
  {
   "cell_type": "code",
   "execution_count": 5,
   "id": "4551e633",
   "metadata": {},
   "outputs": [
    {
     "data": {
      "text/plain": [
       "Index(['Make', 'Model', 'Year', 'Engine Fuel Type', 'Engine HP',\n",
       "       'Engine Cylinders', 'Transmission Type', 'Driven_Wheels',\n",
       "       'Number of Doors', 'Market Category', 'Vehicle Size', 'Vehicle Style',\n",
       "       'highway MPG', 'city mpg', 'Popularity', 'MSRP'],\n",
       "      dtype='object')"
      ]
     },
     "execution_count": 5,
     "metadata": {},
     "output_type": "execute_result"
    }
   ],
   "source": [
    "# Columns in the dataset\n",
    "car.columns"
   ]
  },
  {
   "cell_type": "code",
   "execution_count": 6,
   "id": "6c89310f",
   "metadata": {},
   "outputs": [
    {
     "name": "stdout",
     "output_type": "stream",
     "text": [
      "<class 'pandas.core.frame.DataFrame'>\n",
      "RangeIndex: 11914 entries, 0 to 11913\n",
      "Data columns (total 16 columns):\n",
      " #   Column             Non-Null Count  Dtype  \n",
      "---  ------             --------------  -----  \n",
      " 0   Make               11914 non-null  object \n",
      " 1   Model              11914 non-null  object \n",
      " 2   Year               11914 non-null  int64  \n",
      " 3   Engine Fuel Type   11911 non-null  object \n",
      " 4   Engine HP          11845 non-null  float64\n",
      " 5   Engine Cylinders   11884 non-null  float64\n",
      " 6   Transmission Type  11914 non-null  object \n",
      " 7   Driven_Wheels      11914 non-null  object \n",
      " 8   Number of Doors    11908 non-null  float64\n",
      " 9   Market Category    8172 non-null   object \n",
      " 10  Vehicle Size       11914 non-null  object \n",
      " 11  Vehicle Style      11914 non-null  object \n",
      " 12  highway MPG        11914 non-null  int64  \n",
      " 13  city mpg           11914 non-null  int64  \n",
      " 14  Popularity         11914 non-null  int64  \n",
      " 15  MSRP               11914 non-null  int64  \n",
      "dtypes: float64(3), int64(5), object(8)\n",
      "memory usage: 1.5+ MB\n"
     ]
    }
   ],
   "source": [
    "# Data structure \n",
    "car.info()"
   ]
  },
  {
   "cell_type": "code",
   "execution_count": 7,
   "id": "aa335516",
   "metadata": {},
   "outputs": [
    {
     "name": "stdout",
     "output_type": "stream",
     "text": [
      "Engine HP\n",
      "\n",
      "[ 335.  300.  230.  320.  172.  160.  130.  158.  240.  248.  162.  217.\n",
      "  184.  295.  115.  140.  155.  114.  100.  241.  180.  177.  228.  121.\n",
      "  148.  194.  218.  161.  292.  250.  255.  222.   82.  134.  306.  400.\n",
      "  425.  350.  332.  268.  282.  275.  201.  442.  562.  597.  237.  270.\n",
      "  445.  443.  302.  322.  315.   nan  101.  135.  485.  238.  515.  543.\n",
      "  631.  604.  620.  611.  661.  157.  402.  389.  110.  532.  170.  165.\n",
      "  125.  641.  535.  153.  144.  188.  372.  108.  168.  190.  205.  200.\n",
      "  227.  173.  220.  210.  280.  207.  265.  260.  290.  285.  390.  225.\n",
      "  185.  150.  430.  520.  560.  475.  500.  540.  370.  580.  420.  345.\n",
      "  195.  193.  208.  181.  236.  186.  252.  310.  333.  340.  450.  281.\n",
      "  288.  138.  137.  106.  271.  196.  212.  278.  189.  480.  152.  600.\n",
      "  375.  198.  182.  179.  264.  503.  456.  317.  235.  385.  303.   63.\n",
      "  321.  272.  464.  202.  215.  283.  700.  720.  750.  107.  293.  119.\n",
      "  143.  245.  120.  337.  276.  330.  132.  199.  530.  451.  329.  469.\n",
      "  362.   94.  553.  453.  483.  323.  426.  505.  455.  650.  178.  242.\n",
      "  305.  605.  440.  570.  325.  175.  707.  131.   62.   92.  102.  127.\n",
      "  174.  621.  510.  429.  536.  355.  382.  577.  113.  136.  234.  552.\n",
      "  626.  616.  572.  521.  567.  582.  460.  164.  192.  224.  239.  404.\n",
      "  318.  556.  640.  122.  146.  244.  273.  563.  141.  435.  550.  360.\n",
      "  145.  349.  166.  147.  128.  197.  291.  660.  261.  156.  403.   95.\n",
      "  297.   81.  257.  365.  203.  231.  731.  651.  287.  123.  126.  416.\n",
      "  343.  348.  328.  298.  171.  219.  221.  311.  361.  256.  415.  274.\n",
      "  449.  395.  401.  454.  444.  338.  342.  467.  545.  565.  301.  263.\n",
      "   93.  187.  610.   66.  111.   98.  204.  211.   73.  304.  381.  142.\n",
      "   74.  424.  253.   90.  386.  359.  438.  232.  383.  518.  493.  259.\n",
      "  523.   55.   79.  116.  151.   78.  191.  592.  632.  670.   88.  167.\n",
      "  118.  380.  214.  573.  284.   99.  103.  525.  254.  470.  154.  176.\n",
      "  279.  377.  251.  223.  308.  105.  316.  124.  526.  662.  266.  296.\n",
      "  557.  617.  583.  622.   84.  163.  354.  159.   96.  206.  169.  133.\n",
      "  568.  109. 1001.  645.  490.  624.  410.   97.  394.]\n",
      "\n",
      "\n",
      "Engine Cylinders\n",
      "\n",
      "[ 6.  4.  5.  8. 12.  0. nan 10.  3. 16.]\n",
      "\n",
      "\n",
      "Number of Doors\n",
      "\n",
      "[ 2.  4.  3. nan]\n",
      "\n",
      "\n",
      "Make\n",
      "\n",
      "['BMW' 'Audi' 'FIAT' 'Mercedes-Benz' 'Chrysler' 'Nissan' 'Volvo' 'Mazda'\n",
      " 'Mitsubishi' 'Ferrari' 'Alfa Romeo' 'Toyota' 'McLaren' 'Maybach'\n",
      " 'Pontiac' 'Porsche' 'Saab' 'GMC' 'Hyundai' 'Plymouth' 'Honda'\n",
      " 'Oldsmobile' 'Suzuki' 'Ford' 'Cadillac' 'Kia' 'Bentley' 'Chevrolet'\n",
      " 'Dodge' 'Lamborghini' 'Lincoln' 'Subaru' 'Volkswagen' 'Spyker' 'Buick'\n",
      " 'Acura' 'Rolls-Royce' 'Maserati' 'Lexus' 'Aston Martin' 'Land Rover'\n",
      " 'Lotus' 'Infiniti' 'Scion' 'Genesis' 'HUMMER' 'Tesla' 'Bugatti']\n",
      "\n",
      "\n",
      "Model\n",
      "\n",
      "['1 Series M' '1 Series' '100' '124 Spider' '190-Class' '2 Series' '200'\n",
      " '200SX' '240SX' '240' '2' '3 Series Gran Turismo' '3 Series' '300-Class'\n",
      " '3000GT' '300' '300M' '300ZX' '323' '350-Class' '350Z' '360' '370Z' '3'\n",
      " '4 Series Gran Coupe' '4 Series' '400-Class' '420-Class' '456M'\n",
      " '458 Italia' '4C' '4Runner' '5 Series Gran Turismo' '5 Series'\n",
      " '500-Class' '500e' '500' '500L' '500X' '550' '560-Class' '570S' '575M'\n",
      " '57' '599' '5' '6 Series Gran Coupe' '6 Series' '600-Class' '6000'\n",
      " '612 Scaglietti' '626' '62' '650S Coupe' '650S Spider' '6' '7 Series'\n",
      " '718 Cayman' '740' '760' '780' '8 Series' '80' '850' '86' '9-2X'\n",
      " '9-3 Griffin' '9-3' '9-4X' '9-5' '9-7X' '9000' '900' '90' '911' '928'\n",
      " '929' '940' '944' '960' '968' 'A3' 'A4 allroad' 'A4' 'A5' 'A6' 'A7' 'A8'\n",
      " 'Acadia Limited' 'Acadia' 'Accent' 'Acclaim' 'Accord Crosstour'\n",
      " 'Accord Hybrid' 'Accord Plug-In Hybrid' 'Accord' 'Achieva'\n",
      " 'ActiveHybrid 5' 'ActiveHybrid 7' 'ActiveHybrid X6' 'Aerio' 'Aerostar'\n",
      " 'Alero' 'Allante' 'allroad quattro' 'allroad' 'ALPINA B6 Gran Coupe'\n",
      " 'ALPINA B7' 'Alpina' 'Altima Hybrid' 'Altima' 'Amanti' 'AMG GT' 'Armada'\n",
      " 'Arnage' 'Aspen' 'Aspire' 'Astro Cargo' 'Astro' 'ATS Coupe' 'ATS-V' 'ATS'\n",
      " 'Aurora' 'Avalanche' 'Avalon Hybrid' 'Avalon' 'Avenger' 'Aventador'\n",
      " 'Aveo' 'Aviator' 'Axxess' 'Azera' 'Aztek' 'Azure T' 'Azure'\n",
      " 'B-Class Electric Drive' 'B-Series Pickup' 'B-Series Truck' 'B-Series'\n",
      " 'B9 Tribeca' 'Baja' 'Beetle Convertible' 'Beetle' 'Beretta'\n",
      " 'Black Diamond Avalanche' 'Blackwood' 'Blazer' 'Bolt EV' 'Bonneville'\n",
      " 'Borrego' 'Boxster' 'Bravada' 'Breeze' 'Bronco II' 'Bronco' 'Brooklands'\n",
      " 'Brougham' 'BRZ' 'C-Class' 'C-Max Hybrid' 'C30' 'C36 AMG' 'C43 AMG' 'C70'\n",
      " 'C8' 'Cabriolet' 'Cabrio' 'Cadenza' 'Caliber' 'California T' 'California'\n",
      " 'Camaro' 'Camry Hybrid' 'Camry Solara' 'Camry' 'Canyon' 'Caprice'\n",
      " 'Captiva Sport' 'Caravan' 'Carrera GT' 'Cascada' 'Catera' 'Cavalier'\n",
      " 'Cayenne' 'Cayman S' 'Cayman' 'CC' 'Celebrity' 'Celica' 'Century'\n",
      " 'Challenger' 'Charger' 'Chevy Van' 'Ciera' 'Cirrus' 'City Express'\n",
      " 'Civic CRX' 'Civic del Sol' 'Civic' 'C/K 1500 Series' 'C/K 2500 Series'\n",
      " 'CL-Class' 'CLA-Class' 'CL' 'Classic' 'CLK-Class' 'CLS-Class' 'Cobalt'\n",
      " 'Colorado' 'Colt' 'Concorde' 'Continental Flying Spur Speed'\n",
      " 'Continental Flying Spur' 'Continental GT Speed Convertible'\n",
      " 'Continental GT Speed' 'Continental GT3-R' 'Continental GT'\n",
      " 'Continental GTC Speed' 'Continental GTC'\n",
      " 'Continental Supersports Convertible' 'Continental Supersports'\n",
      " 'Continental' 'Contour SVT' 'Contour' 'Corniche' 'Corolla iM' 'Corolla'\n",
      " 'Corrado' 'Corsica' 'Corvette Stingray' 'Corvette' 'Coupe' 'CR-V' 'CR-Z'\n",
      " 'Cressida' 'Crossfire' 'Crosstour' 'Crosstrek' 'Crown Victoria'\n",
      " 'Cruze Limited' 'Cruze' 'CT 200h' 'CT6' 'CTS Coupe' 'CTS-V Coupe'\n",
      " 'CTS-V Wagon' 'CTS-V' 'CTS Wagon' 'CTS' 'Cube' 'Custom Cruiser'\n",
      " 'Cutlass Calais' 'Cutlass Ciera' 'Cutlass Supreme' 'Cutlass' 'CX-3'\n",
      " 'CX-5' 'CX-7' 'CX-9' 'Dakota' 'Dart' 'Dawn' 'Daytona' 'DB7' 'DB9 GT'\n",
      " 'DB9' 'DBS' 'Defender' 'DeVille' 'Diablo' 'Diamante'\n",
      " 'Discovery Series II' 'Discovery Sport' 'Discovery' 'DTS' 'Durango'\n",
      " 'Dynasty' 'E-150' 'E-250' 'E-Class' 'e-Golf' 'E-Series Van'\n",
      " 'E-Series Wagon' 'E55 AMG' 'ECHO' 'Eclipse Spyder' 'Eclipse' 'Edge'\n",
      " 'Eighty-Eight Royale' 'Eighty-Eight' 'Elantra Coupe' 'Elantra GT'\n",
      " 'Elantra Touring' 'Elantra' 'Eldorado' 'Electra' 'Element' 'Elise'\n",
      " 'Enclave' 'Encore' 'Endeavor' 'Entourage' 'Envision' 'Envoy XL'\n",
      " 'Envoy XUV' 'Envoy' 'Enzo' 'Eos' 'Equator' 'Equinox' 'Equus' 'ES 250'\n",
      " 'ES 300h' 'ES 300' 'ES 330' 'ES 350' 'Escalade ESV' 'Escalade EXT'\n",
      " 'Escalade Hybrid' 'Escalade' 'Escape Hybrid' 'Escape' 'Escort' 'Esprit'\n",
      " 'Estate Wagon' 'Esteem' 'EuroVan' 'Evora 400' 'Evora' 'EX35' 'Excel'\n",
      " 'Exige' 'EX' 'Expedition' 'Explorer Sport Trac' 'Explorer Sport'\n",
      " 'Explorer' 'Expo' 'Express Cargo' 'Express' 'F-150 Heritage'\n",
      " 'F-150 SVT Lightning' 'F-150' 'F-250' 'F12 Berlinetta' 'F430' 'Festiva'\n",
      " 'FF' 'Fiesta' 'Firebird' 'Fit EV' 'Fit' 'Five Hundred' 'FJ Cruiser'\n",
      " 'Fleetwood' 'Flex' 'Flying Spur' 'Focus RS' 'Focus ST' 'Focus' 'Forenza'\n",
      " 'Forester' 'Forte' 'Fox' 'FR-S' 'Freelander' 'Freestar' 'Freestyle'\n",
      " 'Frontier' 'Fusion Hybrid' 'Fusion' 'FX35' 'FX45' 'FX50' 'FX' 'G-Class'\n",
      " 'G Convertible' 'G Coupe' 'G Sedan' 'G20' 'G35' 'G37 Convertible'\n",
      " 'G37 Coupe' 'G37 Sedan' 'G37' 'G3' 'G5' 'G6' 'G80' 'G8' 'Galant'\n",
      " 'Gallardo' 'Genesis Coupe' 'Genesis' 'Ghibli' 'Ghost Series II' 'Ghost'\n",
      " 'GL-Class' 'GLA-Class' 'GLC-Class' 'GLE-Class Coupe' 'GLE-Class' 'GLI'\n",
      " 'GLK-Class' 'GLS-Class' 'Golf Alltrack' 'Golf GTI' 'Golf R'\n",
      " 'Golf SportWagen' 'Golf' 'Grand Am' 'Grand Caravan' 'Grand Prix'\n",
      " 'Grand Vitara' 'Grand Voyager' 'GranSport' 'GranTurismo Convertible'\n",
      " 'GranTurismo' 'GS 200t' 'GS 300' 'GS 350' 'GS 400' 'GS 430' 'GS 450h'\n",
      " 'GS 460' 'GS F' 'GT-R' 'GT' 'GTI' 'GTO' 'GX 460' 'GX 470' 'H3' 'H3T'\n",
      " 'HHR' 'Highlander Hybrid' 'Highlander' 'Horizon' 'HR-V' 'HS 250h'\n",
      " 'Huracan' 'i-MiEV' 'I30' 'I35' 'i3' 'iA' 'ILX Hybrid' 'ILX'\n",
      " 'Impala Limited' 'Impala' 'Imperial' 'Impreza WRX' 'Impreza' 'iM'\n",
      " 'Insight' 'Integra' 'Intrepid' 'Intrigue' 'iQ' 'IS 200t' 'IS 250 C'\n",
      " 'IS 250' 'IS 300' 'IS 350 C' 'IS 350' 'IS F' 'J30' 'Jetta GLI'\n",
      " 'Jetta Hybrid' 'Jetta SportWagen' 'Jetta' 'Jimmy' 'Journey' 'Juke'\n",
      " 'Justy' 'JX' 'K900' 'Kizashi' 'LaCrosse' 'Lancer Evolution'\n",
      " 'Lancer Sportback' 'Lancer' 'Land Cruiser' 'Landaulet' 'Laser' 'Le Baron'\n",
      " 'Le Mans' 'Leaf' 'Legacy' 'Legend' 'LeSabre' 'Levante' 'LFA' 'LHS'\n",
      " 'Loyale' 'LR2' 'LR3' 'LR4' 'LS 400' 'LS 430' 'LS 460' 'LS 600h L' 'LS'\n",
      " 'LSS' 'LTD Crown Victoria' 'Lucerne' 'Lumina Minivan' 'Lumina' 'LX 450'\n",
      " 'LX 470' 'LX 570' 'M-Class' 'M2' 'M30' 'M35' 'M37' 'M3' 'M4 GTS' 'M45'\n",
      " 'M4' 'M56' 'M5' 'M6 Gran Coupe' 'M6' 'Macan' 'Magnum' 'Malibu Classic'\n",
      " 'Malibu Hybrid' 'Malibu Limited' 'Malibu Maxx' 'Malibu' 'Mark LT'\n",
      " 'Mark VIII' 'Mark VII' 'Matrix' 'Maxima' 'Maybach' 'Mazdaspeed 3'\n",
      " 'Mazdaspeed 6' 'Mazdaspeed MX-5 Miata' 'Mazdaspeed Protege' 'M' 'MDX'\n",
      " 'Metris' 'Metro' 'Mighty Max Pickup' 'Millenia' 'Mirage G4' 'Mirage'\n",
      " 'MKC' 'MKS' 'MKT' 'MKX' 'MKZ Hybrid' 'MKZ' 'ML55 AMG' 'Model S' 'Monaco'\n",
      " 'Montana SV6' 'Montana' 'Monte Carlo' 'Montero Sport' 'Montero' 'MP4-12C'\n",
      " 'MPV' 'MR2 Spyder' 'MR2' 'Mulsanne' 'Murano CrossCabriolet' 'Murano'\n",
      " 'Murcielago' 'Mustang SVT Cobra' 'Mustang' 'MX-3' 'MX-5 Miata' 'MX-6'\n",
      " 'Navajo' 'Navigator' 'Neon' 'New Beetle' 'New Yorker' 'Ninety-Eight'\n",
      " 'Nitro' 'NSX' 'NV200' 'NX 200t' 'NX 300h' 'NX' 'Odyssey' 'Omni'\n",
      " 'Optima Hybrid' 'Optima' 'Outback' 'Outlander Sport' 'Outlander'\n",
      " 'Pacifica' 'Panamera' 'Park Avenue' 'Park Ward' 'Paseo' 'Passat'\n",
      " 'Passport' 'Pathfinder' 'Phaeton' 'Phantom Coupe'\n",
      " 'Phantom Drophead Coupe' 'Phantom' 'Pickup' 'Pilot' 'Precis' 'Prelude'\n",
      " 'Previa' 'Prius c' 'Prius Prime' 'Prius v' 'Prius' 'Prizm' 'Probe'\n",
      " 'Protege5' 'Protege' 'Prowler' 'PT Cruiser' 'Pulsar' 'Q3' 'Q40' 'Q45'\n",
      " 'Q50' 'Q5' 'Q60 Convertible' 'Q60 Coupe' 'Q70' 'Q7' 'Quattroporte'\n",
      " 'Quest' 'QX4' 'QX50' 'QX56' 'QX60' 'QX70' 'QX80' 'QX' 'R-Class' 'R32'\n",
      " 'R8' 'Rabbit' 'Raider' 'Rainier' 'Rally Wagon' 'RAM 150' 'RAM 250'\n",
      " 'Ram 50 Pickup' 'Ram Cargo' 'Ram Pickup 1500' 'Ram Van' 'Ram Wagon'\n",
      " 'Ramcharger' 'Range Rover Evoque' 'Range Rover Sport' 'Range Rover'\n",
      " 'Ranger' 'Rapide S' 'Rapide' 'RAV4 EV' 'RAV4 Hybrid' 'RAV4' 'RC 200t'\n",
      " 'RC 300' 'RC 350' 'RC F' 'RDX' 'Reatta' 'Regal' 'Regency' 'Rendezvous'\n",
      " 'Reno' 'Reventon' 'Ridgeline' 'Rio' 'Riviera' 'RL' 'RLX' 'Roadmaster'\n",
      " 'Rogue Select' 'Rogue' 'Rondo' 'Routan' 'RS 4' 'RS 5' 'RS 6' 'RS 7' 'RSX'\n",
      " 'RX 300' 'RX 330' 'RX 350' 'RX 400h' 'RX 450h' 'RX-7' 'RX-8'\n",
      " 'S-10 Blazer' 'S-10' 'S-15 Jimmy' 'S-15' 'S-Class' 'S2000' 'S3' 'S40'\n",
      " 'S4' 'S5' 'S60 Cross Country' 'S60' 'S6' 'S70' 'S7' 'S80' 'S8' 'S90'\n",
      " 'Safari Cargo' 'Safari' 'Samurai' 'Santa Fe Sport' 'Santa Fe'\n",
      " 'Savana Cargo' 'Savana' 'SC 300' 'SC 400' 'SC 430' 'Scoupe' 'Sebring'\n",
      " 'Sedona' 'Sentra' 'Sephia' 'Sequoia' 'Seville' 'Shadow' 'Shelby GT350'\n",
      " 'Shelby GT500' 'Sidekick' 'Sienna' 'Sierra 1500 Classic'\n",
      " 'Sierra 1500 Hybrid' 'Sierra 1500' 'Sierra 1500HD' 'Sierra C3'\n",
      " 'Sierra Classic 1500' 'Sigma' 'Silhouette' 'Silver Seraph'\n",
      " 'Silverado 1500 Classic' 'Silverado 1500 Hybrid' 'Silverado 1500'\n",
      " 'Sixty Special' 'Skylark' 'SL-Class' 'SLC-Class' 'SLK-Class'\n",
      " 'SLR McLaren' 'SLS AMG GT Final Edition' 'SLS AMG GT' 'SLS AMG' 'SLX'\n",
      " 'Solstice' 'Sonata Hybrid' 'Sonata' 'Sonic' 'Sonoma' 'Sorento' 'Soul EV'\n",
      " 'Soul' 'Spark EV' 'Spark' 'Spectra' 'Spirit' 'Sportage' 'Sportvan'\n",
      " 'Spyder' 'SQ5' 'SRT Viper' 'SRX' 'SS' 'SSR' 'Stanza' 'Stealth' 'Stratus'\n",
      " 'STS-V' 'STS' 'Suburban' 'Sunbird' 'Sundance' 'Sunfire' 'Superamerica'\n",
      " 'Supersports Convertible ISR' 'Supra' 'SVX' 'Swift' 'SX4' 'Syclone'\n",
      " 'T100' 'Tacoma' 'Tahoe Hybrid' 'Tahoe Limited/Z71' 'Tahoe' 'Taurus X'\n",
      " 'Taurus' 'TC' 'tC' 'Tempo' 'Tercel' 'Terrain' 'Terraza' 'Thunderbird'\n",
      " 'Tiburon' 'Tiguan' 'Titan' 'TL' 'TLX' 'Toronado' 'Torrent' 'Touareg 2'\n",
      " 'Touareg' 'Town and Country' 'Town Car' 'Tracker' 'TrailBlazer EXT'\n",
      " 'TrailBlazer' 'Trans Sport' 'Transit Connect' 'Transit Wagon' 'Traverse'\n",
      " 'Trax' 'Tribeca' 'Tribute Hybrid' 'Tribute' 'Truck' 'TSX Sport Wagon'\n",
      " 'TSX' 'TT RS' 'TT' 'TTS' 'Tucson' 'Tundra' 'Typhoon' 'Uplander'\n",
      " 'V12 Vanquish' 'V12 Vantage S' 'V12 Vantage' 'V40' 'V50'\n",
      " 'V60 Cross Country' 'V60' 'V70' 'V8 Vantage' 'V8' 'V90' 'Vanagon'\n",
      " 'Vandura' 'Van' 'Vanquish' 'Vanwagon' 'Veloster' 'Venture' 'Venza'\n",
      " 'Veracruz' 'Verano' 'Verona' 'Versa Note' 'Versa' 'Veyron 16.4' 'Vibe'\n",
      " 'Vigor' 'Viper' 'Virage' 'Vitara' 'Voyager' 'Windstar Cargo' 'Windstar'\n",
      " 'Wraith' 'WRX' 'X-90' 'X1' 'X3' 'X4' 'X5 M' 'X5' 'X6 M' 'X6' 'xA' 'xB'\n",
      " 'XC60' 'XC70' 'XC90' 'XC' 'xD' 'XG300' 'XG350' 'XL-7' 'XL7' 'XLR-V' 'XLR'\n",
      " 'XT5' 'Xterra' 'XTS' 'XT' 'XV Crosstrek' 'Yaris iA' 'Yaris'\n",
      " 'Yukon Denali' 'Yukon Hybrid' 'Yukon XL' 'Yukon' 'Z3' 'Z4 M' 'Z4' 'Z8'\n",
      " 'ZDX' 'Zephyr']\n",
      "\n",
      "\n",
      "Engine Fuel Type\n",
      "\n",
      "['premium unleaded (required)' 'regular unleaded'\n",
      " 'premium unleaded (recommended)' 'flex-fuel (unleaded/E85)' 'diesel'\n",
      " 'electric' 'flex-fuel (premium unleaded recommended/E85)' 'natural gas'\n",
      " 'flex-fuel (premium unleaded required/E85)'\n",
      " 'flex-fuel (unleaded/natural gas)' nan]\n",
      "\n",
      "\n",
      "Transmission Type\n",
      "\n",
      "['MANUAL' 'AUTOMATIC' 'AUTOMATED_MANUAL' 'DIRECT_DRIVE' 'UNKNOWN']\n",
      "\n",
      "\n",
      "Driven_Wheels\n",
      "\n",
      "['rear wheel drive' 'front wheel drive' 'all wheel drive'\n",
      " 'four wheel drive']\n",
      "\n",
      "\n",
      "Market Category\n",
      "\n",
      "['Factory Tuner,Luxury,High-Performance' 'Luxury,Performance'\n",
      " 'Luxury,High-Performance' 'Luxury' 'Performance' 'Flex Fuel'\n",
      " 'Flex Fuel,Performance' nan 'Hatchback' 'Hatchback,Luxury,Performance'\n",
      " 'Hatchback,Luxury' 'Luxury,High-Performance,Hybrid' 'Diesel,Luxury'\n",
      " 'Hatchback,Performance' 'Hatchback,Factory Tuner,Performance'\n",
      " 'High-Performance' 'Factory Tuner,High-Performance'\n",
      " 'Exotic,High-Performance' 'Exotic,Factory Tuner,High-Performance'\n",
      " 'Factory Tuner,Performance' 'Crossover' 'Exotic,Luxury'\n",
      " 'Exotic,Luxury,High-Performance' 'Exotic,Luxury,Performance'\n",
      " 'Factory Tuner,Luxury,Performance' 'Flex Fuel,Luxury' 'Crossover,Luxury'\n",
      " 'Hatchback,Factory Tuner,Luxury,Performance' 'Crossover,Hatchback'\n",
      " 'Hybrid' 'Luxury,Performance,Hybrid'\n",
      " 'Crossover,Luxury,Performance,Hybrid' 'Crossover,Luxury,Performance'\n",
      " 'Exotic,Factory Tuner,Luxury,High-Performance'\n",
      " 'Flex Fuel,Luxury,High-Performance' 'Crossover,Flex Fuel' 'Diesel'\n",
      " 'Hatchback,Diesel' 'Crossover,Luxury,Diesel'\n",
      " 'Crossover,Luxury,High-Performance'\n",
      " 'Exotic,Flex Fuel,Factory Tuner,Luxury,High-Performance'\n",
      " 'Exotic,Flex Fuel,Luxury,High-Performance'\n",
      " 'Exotic,Factory Tuner,Luxury,Performance' 'Hatchback,Hybrid'\n",
      " 'Crossover,Hybrid' 'Hatchback,Luxury,Hybrid'\n",
      " 'Flex Fuel,Luxury,Performance' 'Crossover,Performance' 'Luxury,Hybrid'\n",
      " 'Crossover,Flex Fuel,Luxury,Performance' 'Crossover,Flex Fuel,Luxury'\n",
      " 'Crossover,Flex Fuel,Performance'\n",
      " 'Hatchback,Factory Tuner,High-Performance' 'Hatchback,Flex Fuel'\n",
      " 'Factory Tuner,Luxury' 'Crossover,Factory Tuner,Luxury,High-Performance'\n",
      " 'Crossover,Factory Tuner,Luxury,Performance'\n",
      " 'Crossover,Hatchback,Factory Tuner,Performance'\n",
      " 'Crossover,Hatchback,Performance' 'Flex Fuel,Hybrid'\n",
      " 'Flex Fuel,Performance,Hybrid' 'Crossover,Exotic,Luxury,High-Performance'\n",
      " 'Crossover,Exotic,Luxury,Performance' 'Exotic,Performance'\n",
      " 'Exotic,Luxury,High-Performance,Hybrid' 'Crossover,Luxury,Hybrid'\n",
      " 'Flex Fuel,Factory Tuner,Luxury,High-Performance' 'Performance,Hybrid'\n",
      " 'Crossover,Factory Tuner,Performance' 'Crossover,Diesel'\n",
      " 'Flex Fuel,Diesel' 'Crossover,Hatchback,Luxury']\n",
      "\n",
      "\n",
      "Vehicle Size\n",
      "\n",
      "['Compact' 'Midsize' 'Large']\n",
      "\n",
      "\n",
      "Vehicle Style\n",
      "\n",
      "['Coupe' 'Convertible' 'Sedan' 'Wagon' '4dr Hatchback' '2dr Hatchback'\n",
      " '4dr SUV' 'Passenger Minivan' 'Cargo Minivan' 'Crew Cab Pickup'\n",
      " 'Regular Cab Pickup' 'Extended Cab Pickup' '2dr SUV' 'Cargo Van'\n",
      " 'Convertible SUV' 'Passenger Van']\n",
      "\n",
      "\n",
      "Year\n",
      "\n",
      "[2011 2012 2013 1992 1993 1994 2017 1991 2016 1990 2015 1996 1997 1998\n",
      " 2014 1999 2002 2003 2004 1995 2007 2008 2009 2001 2010 2000 2005 2006]\n",
      "\n",
      "\n",
      "highway MPG\n",
      "\n",
      "[ 26  28  27  25  24  20  21  22  35  34  31  30  32  33  23  36  29  45\n",
      "  43  40  42  19  18  17  15  37  39  41  16  14  38 108 103  12 354  47\n",
      "  46  82 110  44  13 105  99 102 111 106  48 101  90  97  94  98 100 107\n",
      "  53  50  74  92 109]\n",
      "\n",
      "\n",
      "city mpg\n",
      "\n",
      "[ 19  20  18  17  16  26  23  22  21  24  15  25  29  28  32  31  30  14\n",
      "  10  27  12  13   9  11 122 121   8  50  49  47  35  33  40  85 128  42\n",
      "  43  36  44 126   7  34 132 110 137 129  39  41 124  37  88  94  86 101\n",
      "  95  89 102  98  92  97  91  53  55  51  54  58  78  38 120]\n",
      "\n",
      "\n",
      "Popularity\n",
      "\n",
      "[3916 3105  819  617 1013 2009  870  586  436 2774  113 2031  416   67\n",
      "  210 1715  376  549 1439  535 2202   26  481 5657 1624 1720  520 1385\n",
      " 1851 1158   61  640  873    2  155  204   86  238  454  259  258  613\n",
      "  190  105   21  130 1391  820]\n",
      "\n",
      "\n",
      "MSRP\n",
      "\n",
      "[46135 40650 36350 ... 46120 50620 50920]\n",
      "\n",
      "\n"
     ]
    }
   ],
   "source": [
    "# checking unique values from each data set\n",
    "car_float = car.columns[car.dtypes == \"float64\"]\n",
    "\n",
    "for col in car_float: \n",
    "    print(f\"{col}\\n\")\n",
    "    print(f\"{car[col].unique()}\\n\\n\")\n",
    "    \n",
    "car_object = car.columns[car.dtypes == \"object\"]\n",
    "\n",
    "for col in car_object: \n",
    "    print(f\"{col}\\n\")\n",
    "    print(f\"{car[col].unique()}\\n\\n\")\n",
    "\n",
    "car_int = car.columns[car.dtypes == \"int64\"]\n",
    "\n",
    "for col in car_int: \n",
    "    print(f\"{col}\\n\")\n",
    "    print(f\"{car[col].unique()}\\n\\n\")\n"
   ]
  },
  {
   "cell_type": "code",
   "execution_count": 8,
   "id": "70f5661b",
   "metadata": {},
   "outputs": [
    {
     "data": {
      "text/plain": [
       "Make                    0\n",
       "Model                   0\n",
       "Year                    0\n",
       "Engine Fuel Type        3\n",
       "Engine HP              69\n",
       "Engine Cylinders       30\n",
       "Transmission Type       0\n",
       "Driven_Wheels           0\n",
       "Number of Doors         6\n",
       "Market Category      3742\n",
       "Vehicle Size            0\n",
       "Vehicle Style           0\n",
       "highway MPG             0\n",
       "city mpg                0\n",
       "Popularity              0\n",
       "MSRP                    0\n",
       "dtype: int64"
      ]
     },
     "execution_count": 8,
     "metadata": {},
     "output_type": "execute_result"
    }
   ],
   "source": [
    "# Checking for None vulues in the dataset.\n",
    "car.isna().sum()"
   ]
  },
  {
   "cell_type": "markdown",
   "id": "83949032",
   "metadata": {},
   "source": [
    "### Data Assessment Observation: \n",
    "- Column names needs to be renamed and replace all space with _\n",
    "- Converting all object to lower case and replacing spaces with _ \n",
    "- Converting data type\n",
    "- replacing none values "
   ]
  },
  {
   "cell_type": "markdown",
   "id": "b5f4bfb1",
   "metadata": {},
   "source": [
    "## Data Cleaning"
   ]
  },
  {
   "cell_type": "markdown",
   "id": "e9b3cdf3",
   "metadata": {},
   "source": [
    "### 1. Renaming all columns by removing space and upper case."
   ]
  },
  {
   "cell_type": "code",
   "execution_count": 9,
   "id": "cc618373",
   "metadata": {},
   "outputs": [
    {
     "name": "stdout",
     "output_type": "stream",
     "text": [
      "Index(['Make', 'Model', 'Year', 'Engine Fuel Type', 'Engine HP',\n",
      "       'Engine Cylinders', 'Transmission Type', 'Driven_Wheels',\n",
      "       'Number of Doors', 'Market Category', 'Vehicle Size', 'Vehicle Style',\n",
      "       'highway MPG', 'city mpg', 'Popularity', 'MSRP'],\n",
      "      dtype='object')\n"
     ]
    }
   ],
   "source": [
    "# Renaming columns with cap and space. \n",
    "\n",
    "# Checking the columns name \n",
    "print(car.columns)"
   ]
  },
  {
   "cell_type": "code",
   "execution_count": 10,
   "id": "17e1d9d4",
   "metadata": {},
   "outputs": [
    {
     "data": {
      "text/plain": [
       "Index(['make', 'model', 'year', 'engine_fuel_type', 'engine_hp',\n",
       "       'engine_cylinders', 'transmission_type', 'driven_wheels',\n",
       "       'number_of_doors', 'market_category', 'vehicle_size', 'vehicle_style',\n",
       "       'highway_mpg', 'city_mpg', 'popularity', 'msrp'],\n",
       "      dtype='object')"
      ]
     },
     "execution_count": 10,
     "metadata": {},
     "output_type": "execute_result"
    }
   ],
   "source": [
    "# Renamin columns\n",
    "col_name = car.columns.str.lower()\n",
    "\n",
    "# Removing sma\n",
    "col_name = col_name.str.replace(\" \", \"_\")\n",
    "\n",
    "# Renaming column name \n",
    "car.columns = col_name\n",
    "\n",
    "# checking to see changes\n",
    "car.columns"
   ]
  },
  {
   "cell_type": "markdown",
   "id": "9eed609b",
   "metadata": {},
   "source": [
    "### 2. Removing space and upper case from objuct strings"
   ]
  },
  {
   "cell_type": "code",
   "execution_count": 11,
   "id": "221e2a1e",
   "metadata": {},
   "outputs": [
    {
     "data": {
      "text/plain": [
       "Index(['make', 'model', 'engine_fuel_type', 'transmission_type',\n",
       "       'driven_wheels', 'market_category', 'vehicle_size', 'vehicle_style'],\n",
       "      dtype='object')"
      ]
     },
     "execution_count": 11,
     "metadata": {},
     "output_type": "execute_result"
    }
   ],
   "source": [
    "# Removing space and cap from object variable. \n",
    "\n",
    "# Columns with object strings \n",
    "car_object = car_object.str.lower().str.replace(' ', '_')\n",
    "\n",
    "car_object"
   ]
  },
  {
   "cell_type": "code",
   "execution_count": 12,
   "id": "74088414",
   "metadata": {},
   "outputs": [
    {
     "data": {
      "text/html": [
       "<div>\n",
       "<style scoped>\n",
       "    .dataframe tbody tr th:only-of-type {\n",
       "        vertical-align: middle;\n",
       "    }\n",
       "\n",
       "    .dataframe tbody tr th {\n",
       "        vertical-align: top;\n",
       "    }\n",
       "\n",
       "    .dataframe thead th {\n",
       "        text-align: right;\n",
       "    }\n",
       "</style>\n",
       "<table border=\"1\" class=\"dataframe\">\n",
       "  <thead>\n",
       "    <tr style=\"text-align: right;\">\n",
       "      <th></th>\n",
       "      <th>make</th>\n",
       "      <th>model</th>\n",
       "      <th>engine_fuel_type</th>\n",
       "      <th>transmission_type</th>\n",
       "      <th>driven_wheels</th>\n",
       "      <th>market_category</th>\n",
       "      <th>vehicle_size</th>\n",
       "      <th>vehicle_style</th>\n",
       "    </tr>\n",
       "  </thead>\n",
       "  <tbody>\n",
       "    <tr>\n",
       "      <th>0</th>\n",
       "      <td>bmw</td>\n",
       "      <td>1_series_m</td>\n",
       "      <td>premium_unleaded_(required)</td>\n",
       "      <td>manual</td>\n",
       "      <td>rear_wheel_drive</td>\n",
       "      <td>factory_tuner,luxury,high-performance</td>\n",
       "      <td>compact</td>\n",
       "      <td>coupe</td>\n",
       "    </tr>\n",
       "    <tr>\n",
       "      <th>1</th>\n",
       "      <td>bmw</td>\n",
       "      <td>1_series</td>\n",
       "      <td>premium_unleaded_(required)</td>\n",
       "      <td>manual</td>\n",
       "      <td>rear_wheel_drive</td>\n",
       "      <td>luxury,performance</td>\n",
       "      <td>compact</td>\n",
       "      <td>convertible</td>\n",
       "    </tr>\n",
       "    <tr>\n",
       "      <th>2</th>\n",
       "      <td>bmw</td>\n",
       "      <td>1_series</td>\n",
       "      <td>premium_unleaded_(required)</td>\n",
       "      <td>manual</td>\n",
       "      <td>rear_wheel_drive</td>\n",
       "      <td>luxury,high-performance</td>\n",
       "      <td>compact</td>\n",
       "      <td>coupe</td>\n",
       "    </tr>\n",
       "    <tr>\n",
       "      <th>3</th>\n",
       "      <td>bmw</td>\n",
       "      <td>1_series</td>\n",
       "      <td>premium_unleaded_(required)</td>\n",
       "      <td>manual</td>\n",
       "      <td>rear_wheel_drive</td>\n",
       "      <td>luxury,performance</td>\n",
       "      <td>compact</td>\n",
       "      <td>coupe</td>\n",
       "    </tr>\n",
       "    <tr>\n",
       "      <th>4</th>\n",
       "      <td>bmw</td>\n",
       "      <td>1_series</td>\n",
       "      <td>premium_unleaded_(required)</td>\n",
       "      <td>manual</td>\n",
       "      <td>rear_wheel_drive</td>\n",
       "      <td>luxury</td>\n",
       "      <td>compact</td>\n",
       "      <td>convertible</td>\n",
       "    </tr>\n",
       "  </tbody>\n",
       "</table>\n",
       "</div>"
      ],
      "text/plain": [
       "  make       model             engine_fuel_type transmission_type  \\\n",
       "0  bmw  1_series_m  premium_unleaded_(required)            manual   \n",
       "1  bmw    1_series  premium_unleaded_(required)            manual   \n",
       "2  bmw    1_series  premium_unleaded_(required)            manual   \n",
       "3  bmw    1_series  premium_unleaded_(required)            manual   \n",
       "4  bmw    1_series  premium_unleaded_(required)            manual   \n",
       "\n",
       "      driven_wheels                        market_category vehicle_size  \\\n",
       "0  rear_wheel_drive  factory_tuner,luxury,high-performance      compact   \n",
       "1  rear_wheel_drive                     luxury,performance      compact   \n",
       "2  rear_wheel_drive                luxury,high-performance      compact   \n",
       "3  rear_wheel_drive                     luxury,performance      compact   \n",
       "4  rear_wheel_drive                                 luxury      compact   \n",
       "\n",
       "  vehicle_style  \n",
       "0         coupe  \n",
       "1   convertible  \n",
       "2         coupe  \n",
       "3         coupe  \n",
       "4   convertible  "
      ]
     },
     "execution_count": 12,
     "metadata": {},
     "output_type": "execute_result"
    }
   ],
   "source": [
    "# Creating a loop to remove upper cap\n",
    "# raplace space with _ . \n",
    "for col in car_object: \n",
    "    car[col] = car[col].str.lower().str.replace(\" \", \"_\")\n",
    "    \n",
    "# Checking for changes made. \n",
    "car[car_object].head()"
   ]
  },
  {
   "cell_type": "markdown",
   "id": "d75f4d0f",
   "metadata": {},
   "source": [
    "### 3. Filling or Removing none values. "
   ]
  },
  {
   "cell_type": "code",
   "execution_count": 13,
   "id": "1ad336ed",
   "metadata": {},
   "outputs": [
    {
     "data": {
      "text/plain": [
       "['engine_fuel_type',\n",
       " 'engine_hp',\n",
       " 'engine_cylinders',\n",
       " 'number_of_doors',\n",
       " 'market_category']"
      ]
     },
     "execution_count": 13,
     "metadata": {},
     "output_type": "execute_result"
    }
   ],
   "source": [
    "# Checking columns with none values. \n",
    "none_col = car.columns[car.isna().any().values].to_list()\n",
    "none_col"
   ]
  },
  {
   "cell_type": "code",
   "execution_count": 14,
   "id": "b77b1572",
   "metadata": {},
   "outputs": [
    {
     "name": "stdout",
     "output_type": "stream",
     "text": [
      "engine_fuel_type \n",
      "\n",
      "0    premium_unleaded_(required)\n",
      "1    premium_unleaded_(required)\n",
      "2    premium_unleaded_(required)\n",
      "3    premium_unleaded_(required)\n",
      "4    premium_unleaded_(required)\n",
      "5    premium_unleaded_(required)\n",
      "Name: engine_fuel_type, dtype: object \n",
      "\n",
      "\n",
      "engine_hp \n",
      "\n",
      "0    335.0\n",
      "1    300.0\n",
      "2    300.0\n",
      "3    230.0\n",
      "4    230.0\n",
      "5    230.0\n",
      "Name: engine_hp, dtype: float64 \n",
      "\n",
      "\n",
      "engine_cylinders \n",
      "\n",
      "0    6.0\n",
      "1    6.0\n",
      "2    6.0\n",
      "3    6.0\n",
      "4    6.0\n",
      "5    6.0\n",
      "Name: engine_cylinders, dtype: float64 \n",
      "\n",
      "\n",
      "number_of_doors \n",
      "\n",
      "0    2.0\n",
      "1    2.0\n",
      "2    2.0\n",
      "3    2.0\n",
      "4    2.0\n",
      "5    2.0\n",
      "Name: number_of_doors, dtype: float64 \n",
      "\n",
      "\n",
      "market_category \n",
      "\n",
      "0    factory_tuner,luxury,high-performance\n",
      "1                       luxury,performance\n",
      "2                  luxury,high-performance\n",
      "3                       luxury,performance\n",
      "4                                   luxury\n",
      "5                       luxury,performance\n",
      "Name: market_category, dtype: object \n",
      "\n",
      "\n"
     ]
    }
   ],
   "source": [
    "# Replacing none value with mean value. \n",
    "\n",
    "# Checking the make up of columns\n",
    "for i in range(len(none_col)):\n",
    "    print(none_col[i], \"\\n\")\n",
    "    print(car[none_col[i]][0:6], '\\n\\n')"
   ]
  },
  {
   "cell_type": "code",
   "execution_count": 15,
   "id": "01e6de39",
   "metadata": {},
   "outputs": [
    {
     "data": {
      "text/plain": [
       "engine_fuel_type       3\n",
       "engine_hp             69\n",
       "engine_cylinders      30\n",
       "number_of_doors        6\n",
       "market_category     3742\n",
       "dtype: int64"
      ]
     },
     "execution_count": 15,
     "metadata": {},
     "output_type": "execute_result"
    }
   ],
   "source": [
    "# Number of none values in each column\n",
    "car[none_col].isnull().sum()"
   ]
  },
  {
   "cell_type": "code",
   "execution_count": 16,
   "id": "906fcac2",
   "metadata": {},
   "outputs": [
    {
     "data": {
      "text/plain": [
       "regular_unleaded                                7172\n",
       "premium_unleaded_(required)                     2009\n",
       "premium_unleaded_(recommended)                  1523\n",
       "flex-fuel_(unleaded/e85)                         899\n",
       "diesel                                           154\n",
       "electric                                          66\n",
       "flex-fuel_(premium_unleaded_required/e85)         54\n",
       "flex-fuel_(premium_unleaded_recommended/e85)      26\n",
       "flex-fuel_(unleaded/natural_gas)                   6\n",
       "natural_gas                                        2\n",
       "Name: engine_fuel_type, dtype: int64"
      ]
     },
     "execution_count": 16,
     "metadata": {},
     "output_type": "execute_result"
    }
   ],
   "source": [
    "# most frequent engine fuel\n",
    "car[none_col[0]].value_counts()\n"
   ]
  },
  {
   "cell_type": "code",
   "execution_count": 17,
   "id": "29d6774e",
   "metadata": {},
   "outputs": [
    {
     "data": {
      "text/plain": [
       "make                    0\n",
       "model                   0\n",
       "year                    0\n",
       "engine_fuel_type        0\n",
       "engine_hp              69\n",
       "engine_cylinders       30\n",
       "transmission_type       0\n",
       "driven_wheels           0\n",
       "number_of_doors         6\n",
       "market_category      3742\n",
       "vehicle_size            0\n",
       "vehicle_style           0\n",
       "highway_mpg             0\n",
       "city_mpg                0\n",
       "popularity              0\n",
       "msrp                    0\n",
       "dtype: int64"
      ]
     },
     "execution_count": 17,
     "metadata": {},
     "output_type": "execute_result"
    }
   ],
   "source": [
    "# filing null with most frequent\n",
    "car.engine_fuel_type = car.engine_fuel_type.fillna('regular_unleaded')\n",
    "\n",
    "# Checking for null\n",
    "car.isna().sum()"
   ]
  },
  {
   "cell_type": "code",
   "execution_count": 23,
   "id": "74a9b4aa",
   "metadata": {},
   "outputs": [
    {
     "data": {
      "text/plain": [
       "249.38607007176023"
      ]
     },
     "execution_count": 23,
     "metadata": {},
     "output_type": "execute_result"
    }
   ],
   "source": [
    "# engine_hp mean value\n",
    "car['engine_hp'].mean()"
   ]
  },
  {
   "cell_type": "code",
   "execution_count": 24,
   "id": "27b10ba3",
   "metadata": {},
   "outputs": [],
   "source": [
    "# Filling null with mean \n",
    "car['engine_hp'] = car['engine_hp'].fillna(249.39)"
   ]
  },
  {
   "cell_type": "code",
   "execution_count": 25,
   "id": "3fc96689",
   "metadata": {},
   "outputs": [
    {
     "data": {
      "text/plain": [
       "False"
      ]
     },
     "execution_count": 25,
     "metadata": {},
     "output_type": "execute_result"
    }
   ],
   "source": [
    "# Checking null values \n",
    "car['engine_hp'].isna().any()"
   ]
  },
  {
   "cell_type": "code",
   "execution_count": 26,
   "id": "93984f10",
   "metadata": {},
   "outputs": [
    {
     "data": {
      "text/plain": [
       "249.38609283196197"
      ]
     },
     "execution_count": 26,
     "metadata": {},
     "output_type": "execute_result"
    }
   ],
   "source": [
    "# engine_hp mean value\n",
    "car['engine_hp'].mean()\n"
   ]
  },
  {
   "cell_type": "code",
   "execution_count": 27,
   "id": "129578c8",
   "metadata": {},
   "outputs": [
    {
     "data": {
      "text/plain": [
       "5.628828677213059"
      ]
     },
     "execution_count": 27,
     "metadata": {},
     "output_type": "execute_result"
    }
   ],
   "source": [
    "# Mean value of engine_cylinders\n",
    "car.engine_cylinders.mean()"
   ]
  },
  {
   "cell_type": "code",
   "execution_count": 28,
   "id": "5082a131",
   "metadata": {},
   "outputs": [
    {
     "data": {
      "text/plain": [
       "4.0     4752\n",
       "6.0     4489\n",
       "8.0     2031\n",
       "12.0     230\n",
       "5.0      225\n",
       "10.0      68\n",
       "0.0       56\n",
       "3.0       30\n",
       "16.0       3\n",
       "Name: engine_cylinders, dtype: int64"
      ]
     },
     "execution_count": 28,
     "metadata": {},
     "output_type": "execute_result"
    }
   ],
   "source": [
    "car.engine_cylinders.value_counts()"
   ]
  },
  {
   "cell_type": "code",
   "execution_count": 29,
   "id": "117a99a0",
   "metadata": {},
   "outputs": [],
   "source": [
    "# filling null value.\n",
    "car['engine_cylinders'] = car['engine_cylinders'].fillna(4.0)"
   ]
  },
  {
   "cell_type": "code",
   "execution_count": 30,
   "id": "529e736a",
   "metadata": {},
   "outputs": [
    {
     "data": {
      "text/plain": [
       "False"
      ]
     },
     "execution_count": 30,
     "metadata": {},
     "output_type": "execute_result"
    }
   ],
   "source": [
    "# Checking for null value. \n",
    "car.engine_cylinders.isna().any()"
   ]
  },
  {
   "cell_type": "code",
   "execution_count": 33,
   "id": "816d74a4",
   "metadata": {},
   "outputs": [
    {
     "data": {
      "text/plain": [
       "4.0    8353\n",
       "2.0    3160\n",
       "3.0     395\n",
       "Name: number_of_doors, dtype: int64"
      ]
     },
     "execution_count": 33,
     "metadata": {},
     "output_type": "execute_result"
    }
   ],
   "source": [
    "# checking for column distribution. \n",
    "car.number_of_doors.value_counts()"
   ]
  },
  {
   "cell_type": "code",
   "execution_count": 34,
   "id": "f6cdfde9",
   "metadata": {},
   "outputs": [],
   "source": [
    "# filling null value\n",
    "car['number_of_doors'] = car['number_of_doors'].fillna(4.0)"
   ]
  },
  {
   "cell_type": "code",
   "execution_count": 40,
   "id": "cd7d9001",
   "metadata": {},
   "outputs": [
    {
     "data": {
      "text/plain": [
       "make                    0\n",
       "model                   0\n",
       "year                    0\n",
       "engine_fuel_type        0\n",
       "engine_hp               0\n",
       "engine_cylinders        0\n",
       "transmission_type       0\n",
       "driven_wheels           0\n",
       "number_of_doors         0\n",
       "market_category      3742\n",
       "vehicle_size            0\n",
       "vehicle_style           0\n",
       "highway_mpg             0\n",
       "city_mpg                0\n",
       "popularity              0\n",
       "msrp                    0\n",
       "dtype: int64"
      ]
     },
     "execution_count": 40,
     "metadata": {},
     "output_type": "execute_result"
    }
   ],
   "source": [
    "# checking null values.\n",
    "car.isna().sum()"
   ]
  },
  {
   "cell_type": "markdown",
   "id": "771d4f7e",
   "metadata": {},
   "source": [
    "### 4. Converting data type. "
   ]
  },
  {
   "cell_type": "code",
   "execution_count": 41,
   "id": "d24267f0",
   "metadata": {},
   "outputs": [
    {
     "name": "stdout",
     "output_type": "stream",
     "text": [
      "<class 'pandas.core.frame.DataFrame'>\n",
      "RangeIndex: 11914 entries, 0 to 11913\n",
      "Data columns (total 16 columns):\n",
      " #   Column             Non-Null Count  Dtype  \n",
      "---  ------             --------------  -----  \n",
      " 0   make               11914 non-null  object \n",
      " 1   model              11914 non-null  object \n",
      " 2   year               11914 non-null  int64  \n",
      " 3   engine_fuel_type   11914 non-null  object \n",
      " 4   engine_hp          11914 non-null  float64\n",
      " 5   engine_cylinders   11914 non-null  float64\n",
      " 6   transmission_type  11914 non-null  object \n",
      " 7   driven_wheels      11914 non-null  object \n",
      " 8   number_of_doors    11914 non-null  float64\n",
      " 9   market_category    8172 non-null   object \n",
      " 10  vehicle_size       11914 non-null  object \n",
      " 11  vehicle_style      11914 non-null  object \n",
      " 12  highway_mpg        11914 non-null  int64  \n",
      " 13  city_mpg           11914 non-null  int64  \n",
      " 14  popularity         11914 non-null  int64  \n",
      " 15  msrp               11914 non-null  int64  \n",
      "dtypes: float64(3), int64(5), object(8)\n",
      "memory usage: 1.5+ MB\n"
     ]
    }
   ],
   "source": [
    "# Chacking the data type available.\n",
    "car.info()"
   ]
  },
  {
   "cell_type": "code",
   "execution_count": 42,
   "id": "c3463097",
   "metadata": {},
   "outputs": [
    {
     "data": {
      "text/plain": [
       "Index(['engine_hp', 'engine_cylinders', 'number_of_doors'], dtype='object')"
      ]
     },
     "execution_count": 42,
     "metadata": {},
     "output_type": "execute_result"
    }
   ],
   "source": [
    "# Reformating float as int\n",
    "\n",
    "# Columns with float.\n",
    "car_float = car_float.str.lower().str.replace(' ', '_')\n",
    "\n",
    "car_float"
   ]
  },
  {
   "cell_type": "code",
   "execution_count": 43,
   "id": "67c1b0df",
   "metadata": {},
   "outputs": [
    {
     "data": {
      "text/html": [
       "<div>\n",
       "<style scoped>\n",
       "    .dataframe tbody tr th:only-of-type {\n",
       "        vertical-align: middle;\n",
       "    }\n",
       "\n",
       "    .dataframe tbody tr th {\n",
       "        vertical-align: top;\n",
       "    }\n",
       "\n",
       "    .dataframe thead th {\n",
       "        text-align: right;\n",
       "    }\n",
       "</style>\n",
       "<table border=\"1\" class=\"dataframe\">\n",
       "  <thead>\n",
       "    <tr style=\"text-align: right;\">\n",
       "      <th></th>\n",
       "      <th>engine_hp</th>\n",
       "      <th>engine_cylinders</th>\n",
       "      <th>number_of_doors</th>\n",
       "    </tr>\n",
       "  </thead>\n",
       "  <tbody>\n",
       "    <tr>\n",
       "      <th>0</th>\n",
       "      <td>335.0</td>\n",
       "      <td>6.0</td>\n",
       "      <td>2.0</td>\n",
       "    </tr>\n",
       "    <tr>\n",
       "      <th>1</th>\n",
       "      <td>300.0</td>\n",
       "      <td>6.0</td>\n",
       "      <td>2.0</td>\n",
       "    </tr>\n",
       "    <tr>\n",
       "      <th>2</th>\n",
       "      <td>300.0</td>\n",
       "      <td>6.0</td>\n",
       "      <td>2.0</td>\n",
       "    </tr>\n",
       "    <tr>\n",
       "      <th>3</th>\n",
       "      <td>230.0</td>\n",
       "      <td>6.0</td>\n",
       "      <td>2.0</td>\n",
       "    </tr>\n",
       "    <tr>\n",
       "      <th>4</th>\n",
       "      <td>230.0</td>\n",
       "      <td>6.0</td>\n",
       "      <td>2.0</td>\n",
       "    </tr>\n",
       "    <tr>\n",
       "      <th>...</th>\n",
       "      <td>...</td>\n",
       "      <td>...</td>\n",
       "      <td>...</td>\n",
       "    </tr>\n",
       "    <tr>\n",
       "      <th>11909</th>\n",
       "      <td>300.0</td>\n",
       "      <td>6.0</td>\n",
       "      <td>4.0</td>\n",
       "    </tr>\n",
       "    <tr>\n",
       "      <th>11910</th>\n",
       "      <td>300.0</td>\n",
       "      <td>6.0</td>\n",
       "      <td>4.0</td>\n",
       "    </tr>\n",
       "    <tr>\n",
       "      <th>11911</th>\n",
       "      <td>300.0</td>\n",
       "      <td>6.0</td>\n",
       "      <td>4.0</td>\n",
       "    </tr>\n",
       "    <tr>\n",
       "      <th>11912</th>\n",
       "      <td>300.0</td>\n",
       "      <td>6.0</td>\n",
       "      <td>4.0</td>\n",
       "    </tr>\n",
       "    <tr>\n",
       "      <th>11913</th>\n",
       "      <td>221.0</td>\n",
       "      <td>6.0</td>\n",
       "      <td>4.0</td>\n",
       "    </tr>\n",
       "  </tbody>\n",
       "</table>\n",
       "<p>11914 rows × 3 columns</p>\n",
       "</div>"
      ],
      "text/plain": [
       "       engine_hp  engine_cylinders  number_of_doors\n",
       "0          335.0               6.0              2.0\n",
       "1          300.0               6.0              2.0\n",
       "2          300.0               6.0              2.0\n",
       "3          230.0               6.0              2.0\n",
       "4          230.0               6.0              2.0\n",
       "...          ...               ...              ...\n",
       "11909      300.0               6.0              4.0\n",
       "11910      300.0               6.0              4.0\n",
       "11911      300.0               6.0              4.0\n",
       "11912      300.0               6.0              4.0\n",
       "11913      221.0               6.0              4.0\n",
       "\n",
       "[11914 rows x 3 columns]"
      ]
     },
     "execution_count": 43,
     "metadata": {},
     "output_type": "execute_result"
    }
   ],
   "source": [
    "car[car_float] "
   ]
  },
  {
   "cell_type": "code",
   "execution_count": 49,
   "id": "094664f4",
   "metadata": {},
   "outputs": [
    {
     "name": "stdout",
     "output_type": "stream",
     "text": [
      "engine_hp \n",
      "\n",
      "int32 \n",
      "\n",
      "\n",
      "engine_cylinders \n",
      "\n",
      "int32 \n",
      "\n",
      "\n",
      "number_of_doors \n",
      "\n",
      "int32 \n",
      "\n",
      "\n"
     ]
    }
   ],
   "source": [
    "# list of float columns \n",
    "float_list = car_float.to_list()\n",
    "\n",
    "# For loop to convert to int\n",
    "for col in float_list: \n",
    "    car[col] = car[col].astype(int)\n",
    "    print(col, '\\n')\n",
    "    print(car[col].dtypes, \"\\n\\n\")"
   ]
  },
  {
   "cell_type": "markdown",
   "id": "3bc6ac16",
   "metadata": {},
   "source": [
    "## Exploratory Data Analysis. "
   ]
  }
 ],
 "metadata": {
  "kernelspec": {
   "display_name": "Python 3 (ipykernel)",
   "language": "python",
   "name": "python3"
  },
  "language_info": {
   "codemirror_mode": {
    "name": "ipython",
    "version": 3
   },
   "file_extension": ".py",
   "mimetype": "text/x-python",
   "name": "python",
   "nbconvert_exporter": "python",
   "pygments_lexer": "ipython3",
   "version": "3.9.13"
  }
 },
 "nbformat": 4,
 "nbformat_minor": 5
}
