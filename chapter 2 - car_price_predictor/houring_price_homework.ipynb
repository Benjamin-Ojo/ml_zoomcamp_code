{
 "cells": [
  {
   "cell_type": "code",
   "execution_count": 1,
   "id": "f617044f",
   "metadata": {},
   "outputs": [],
   "source": [
    "# Importing python packages\n",
    "\n",
    "# Data manipulation packages\n",
    "import numpy as np\n",
    "import pandas as pd\n",
    "\n",
    "# Data Extraction \n",
    "import wget\n",
    "\n",
    "# Data Visualization Pactages\n",
    "import matplotlib.pyplot as plt\n",
    "import seaborn as sns\n",
    "\n",
    "# Visualizer code\n",
    "%matplotlib inline "
   ]
  },
  {
   "cell_type": "code",
   "execution_count": 2,
   "id": "86c2166b",
   "metadata": {},
   "outputs": [],
   "source": [
    "# downloading dataset using wget\n",
    "# url = \"https://raw.githubusercontent.com/alexeygrigorev/datasets/master/housing.csv\"\n",
    "\n",
    "# response = wget.download(url, \"housing_price.csv\")"
   ]
  },
  {
   "cell_type": "code",
   "execution_count": 3,
   "id": "61b42570",
   "metadata": {},
   "outputs": [
    {
     "data": {
      "text/html": [
       "<div>\n",
       "<style scoped>\n",
       "    .dataframe tbody tr th:only-of-type {\n",
       "        vertical-align: middle;\n",
       "    }\n",
       "\n",
       "    .dataframe tbody tr th {\n",
       "        vertical-align: top;\n",
       "    }\n",
       "\n",
       "    .dataframe thead th {\n",
       "        text-align: right;\n",
       "    }\n",
       "</style>\n",
       "<table border=\"1\" class=\"dataframe\">\n",
       "  <thead>\n",
       "    <tr style=\"text-align: right;\">\n",
       "      <th></th>\n",
       "      <th>longitude</th>\n",
       "      <th>latitude</th>\n",
       "      <th>housing_median_age</th>\n",
       "      <th>total_rooms</th>\n",
       "      <th>total_bedrooms</th>\n",
       "      <th>population</th>\n",
       "      <th>households</th>\n",
       "      <th>median_income</th>\n",
       "      <th>median_house_value</th>\n",
       "      <th>ocean_proximity</th>\n",
       "    </tr>\n",
       "  </thead>\n",
       "  <tbody>\n",
       "    <tr>\n",
       "      <th>0</th>\n",
       "      <td>-122.23</td>\n",
       "      <td>37.88</td>\n",
       "      <td>41.0</td>\n",
       "      <td>880.0</td>\n",
       "      <td>129.0</td>\n",
       "      <td>322.0</td>\n",
       "      <td>126.0</td>\n",
       "      <td>8.3252</td>\n",
       "      <td>452600.0</td>\n",
       "      <td>NEAR BAY</td>\n",
       "    </tr>\n",
       "    <tr>\n",
       "      <th>1</th>\n",
       "      <td>-122.22</td>\n",
       "      <td>37.86</td>\n",
       "      <td>21.0</td>\n",
       "      <td>7099.0</td>\n",
       "      <td>1106.0</td>\n",
       "      <td>2401.0</td>\n",
       "      <td>1138.0</td>\n",
       "      <td>8.3014</td>\n",
       "      <td>358500.0</td>\n",
       "      <td>NEAR BAY</td>\n",
       "    </tr>\n",
       "    <tr>\n",
       "      <th>2</th>\n",
       "      <td>-122.24</td>\n",
       "      <td>37.85</td>\n",
       "      <td>52.0</td>\n",
       "      <td>1467.0</td>\n",
       "      <td>190.0</td>\n",
       "      <td>496.0</td>\n",
       "      <td>177.0</td>\n",
       "      <td>7.2574</td>\n",
       "      <td>352100.0</td>\n",
       "      <td>NEAR BAY</td>\n",
       "    </tr>\n",
       "    <tr>\n",
       "      <th>3</th>\n",
       "      <td>-122.25</td>\n",
       "      <td>37.85</td>\n",
       "      <td>52.0</td>\n",
       "      <td>1274.0</td>\n",
       "      <td>235.0</td>\n",
       "      <td>558.0</td>\n",
       "      <td>219.0</td>\n",
       "      <td>5.6431</td>\n",
       "      <td>341300.0</td>\n",
       "      <td>NEAR BAY</td>\n",
       "    </tr>\n",
       "    <tr>\n",
       "      <th>4</th>\n",
       "      <td>-122.25</td>\n",
       "      <td>37.85</td>\n",
       "      <td>52.0</td>\n",
       "      <td>1627.0</td>\n",
       "      <td>280.0</td>\n",
       "      <td>565.0</td>\n",
       "      <td>259.0</td>\n",
       "      <td>3.8462</td>\n",
       "      <td>342200.0</td>\n",
       "      <td>NEAR BAY</td>\n",
       "    </tr>\n",
       "  </tbody>\n",
       "</table>\n",
       "</div>"
      ],
      "text/plain": [
       "   longitude  latitude  housing_median_age  total_rooms  total_bedrooms  \\\n",
       "0    -122.23     37.88                41.0        880.0           129.0   \n",
       "1    -122.22     37.86                21.0       7099.0          1106.0   \n",
       "2    -122.24     37.85                52.0       1467.0           190.0   \n",
       "3    -122.25     37.85                52.0       1274.0           235.0   \n",
       "4    -122.25     37.85                52.0       1627.0           280.0   \n",
       "\n",
       "   population  households  median_income  median_house_value ocean_proximity  \n",
       "0       322.0       126.0         8.3252            452600.0        NEAR BAY  \n",
       "1      2401.0      1138.0         8.3014            358500.0        NEAR BAY  \n",
       "2       496.0       177.0         7.2574            352100.0        NEAR BAY  \n",
       "3       558.0       219.0         5.6431            341300.0        NEAR BAY  \n",
       "4       565.0       259.0         3.8462            342200.0        NEAR BAY  "
      ]
     },
     "execution_count": 3,
     "metadata": {},
     "output_type": "execute_result"
    }
   ],
   "source": [
    "# load dataset \n",
    "house = pd.read_csv('data/housing_price.csv')\n",
    "\n",
    "house.head()"
   ]
  },
  {
   "cell_type": "code",
   "execution_count": 4,
   "id": "09867365",
   "metadata": {},
   "outputs": [
    {
     "data": {
      "text/plain": [
       "Index(['longitude', 'latitude', 'housing_median_age', 'total_rooms',\n",
       "       'total_bedrooms', 'population', 'households', 'median_income',\n",
       "       'median_house_value'],\n",
       "      dtype='object')"
      ]
     },
     "execution_count": 4,
     "metadata": {},
     "output_type": "execute_result"
    }
   ],
   "source": [
    "# Dropping ocean_proximity column. \n",
    "del house['ocean_proximity']\n",
    "\n",
    "# checking columns\n",
    "house.columns\n"
   ]
  },
  {
   "cell_type": "code",
   "execution_count": 5,
   "id": "61ffd65c",
   "metadata": {},
   "outputs": [
    {
     "data": {
      "text/plain": [
       "<Figure size 1500x500 with 0 Axes>"
      ]
     },
     "metadata": {},
     "output_type": "display_data"
    },
    {
     "data": {
      "image/png": "[encoded data removed]",
      "text/plain": [
       "<Figure size 500x500 with 1 Axes>"
      ]
     },
     "metadata": {},
     "output_type": "display_data"
    }
   ],
   "source": [
    "# Plotting the distribution of msrp.\n",
    "\n",
    "# Plot size. \n",
    "plt.figure(figsize = (15,5))\n",
    "\n",
    "# Setting bin size.\n",
    "# bins = 10 ** np.arange(3.2, 6.0 + 0.08, 0.08)\n",
    "\n",
    "# Plotting Bar Chart with seaborn. \n",
    "sns.displot(house['median_house_value'], bins = 40)\n",
    "\n",
    "\n",
    "# Plot Annotations \n",
    "plt.title('Median House Value Distributions')\n",
    "plt.xlabel(\"Median House Value\")\n",
    "plt.ylabel(\"Frequency\");"
   ]
  },
  {
   "cell_type": "code",
   "execution_count": 6,
   "id": "9b634c5c",
   "metadata": {},
   "outputs": [
    {
     "data": {
      "text/plain": [
       "(20640, 9)"
      ]
     },
     "execution_count": 6,
     "metadata": {},
     "output_type": "execute_result"
    }
   ],
   "source": [
    "house.shape"
   ]
  },
  {
   "cell_type": "markdown",
   "id": "8b04cdd0",
   "metadata": {},
   "source": [
    "> The target value as a long tail."
   ]
  },
  {
   "cell_type": "code",
   "execution_count": 7,
   "id": "22b97ea0",
   "metadata": {},
   "outputs": [
    {
     "data": {
      "text/plain": [
       "longitude               0\n",
       "latitude                0\n",
       "housing_median_age      0\n",
       "total_rooms             0\n",
       "total_bedrooms        207\n",
       "population              0\n",
       "households              0\n",
       "median_income           0\n",
       "median_house_value      0\n",
       "dtype: int64"
      ]
     },
     "execution_count": 7,
     "metadata": {},
     "output_type": "execute_result"
    }
   ],
   "source": [
    "# Finding null value in the data. \n",
    "house.isna().sum()"
   ]
  },
  {
   "cell_type": "code",
   "execution_count": 8,
   "id": "390c8dd4",
   "metadata": {},
   "outputs": [
    {
     "data": {
      "text/html": [
       "<div>\n",
       "<style scoped>\n",
       "    .dataframe tbody tr th:only-of-type {\n",
       "        vertical-align: middle;\n",
       "    }\n",
       "\n",
       "    .dataframe tbody tr th {\n",
       "        vertical-align: top;\n",
       "    }\n",
       "\n",
       "    .dataframe thead th {\n",
       "        text-align: right;\n",
       "    }\n",
       "</style>\n",
       "<table border=\"1\" class=\"dataframe\">\n",
       "  <thead>\n",
       "    <tr style=\"text-align: right;\">\n",
       "      <th></th>\n",
       "      <th>longitude</th>\n",
       "      <th>latitude</th>\n",
       "      <th>housing_median_age</th>\n",
       "      <th>total_rooms</th>\n",
       "      <th>total_bedrooms</th>\n",
       "      <th>population</th>\n",
       "      <th>households</th>\n",
       "      <th>median_income</th>\n",
       "      <th>median_house_value</th>\n",
       "    </tr>\n",
       "  </thead>\n",
       "  <tbody>\n",
       "    <tr>\n",
       "      <th>count</th>\n",
       "      <td>20640.000000</td>\n",
       "      <td>20640.000000</td>\n",
       "      <td>20640.000000</td>\n",
       "      <td>20640.000000</td>\n",
       "      <td>20433.000000</td>\n",
       "      <td>20640.000000</td>\n",
       "      <td>20640.000000</td>\n",
       "      <td>20640.000000</td>\n",
       "      <td>20640.000000</td>\n",
       "    </tr>\n",
       "    <tr>\n",
       "      <th>mean</th>\n",
       "      <td>-119.569704</td>\n",
       "      <td>35.631861</td>\n",
       "      <td>28.639486</td>\n",
       "      <td>2635.763081</td>\n",
       "      <td>537.870553</td>\n",
       "      <td>1425.476744</td>\n",
       "      <td>499.539680</td>\n",
       "      <td>3.870671</td>\n",
       "      <td>206855.816909</td>\n",
       "    </tr>\n",
       "    <tr>\n",
       "      <th>std</th>\n",
       "      <td>2.003532</td>\n",
       "      <td>2.135952</td>\n",
       "      <td>12.585558</td>\n",
       "      <td>2181.615252</td>\n",
       "      <td>421.385070</td>\n",
       "      <td>1132.462122</td>\n",
       "      <td>382.329753</td>\n",
       "      <td>1.899822</td>\n",
       "      <td>115395.615874</td>\n",
       "    </tr>\n",
       "    <tr>\n",
       "      <th>min</th>\n",
       "      <td>-124.350000</td>\n",
       "      <td>32.540000</td>\n",
       "      <td>1.000000</td>\n",
       "      <td>2.000000</td>\n",
       "      <td>1.000000</td>\n",
       "      <td>3.000000</td>\n",
       "      <td>1.000000</td>\n",
       "      <td>0.499900</td>\n",
       "      <td>14999.000000</td>\n",
       "    </tr>\n",
       "    <tr>\n",
       "      <th>25%</th>\n",
       "      <td>-121.800000</td>\n",
       "      <td>33.930000</td>\n",
       "      <td>18.000000</td>\n",
       "      <td>1447.750000</td>\n",
       "      <td>296.000000</td>\n",
       "      <td>787.000000</td>\n",
       "      <td>280.000000</td>\n",
       "      <td>2.563400</td>\n",
       "      <td>119600.000000</td>\n",
       "    </tr>\n",
       "    <tr>\n",
       "      <th>50%</th>\n",
       "      <td>-118.490000</td>\n",
       "      <td>34.260000</td>\n",
       "      <td>29.000000</td>\n",
       "      <td>2127.000000</td>\n",
       "      <td>435.000000</td>\n",
       "      <td>1166.000000</td>\n",
       "      <td>409.000000</td>\n",
       "      <td>3.534800</td>\n",
       "      <td>179700.000000</td>\n",
       "    </tr>\n",
       "    <tr>\n",
       "      <th>75%</th>\n",
       "      <td>-118.010000</td>\n",
       "      <td>37.710000</td>\n",
       "      <td>37.000000</td>\n",
       "      <td>3148.000000</td>\n",
       "      <td>647.000000</td>\n",
       "      <td>1725.000000</td>\n",
       "      <td>605.000000</td>\n",
       "      <td>4.743250</td>\n",
       "      <td>264725.000000</td>\n",
       "    </tr>\n",
       "    <tr>\n",
       "      <th>max</th>\n",
       "      <td>-114.310000</td>\n",
       "      <td>41.950000</td>\n",
       "      <td>52.000000</td>\n",
       "      <td>39320.000000</td>\n",
       "      <td>6445.000000</td>\n",
       "      <td>35682.000000</td>\n",
       "      <td>6082.000000</td>\n",
       "      <td>15.000100</td>\n",
       "      <td>500001.000000</td>\n",
       "    </tr>\n",
       "  </tbody>\n",
       "</table>\n",
       "</div>"
      ],
      "text/plain": [
       "          longitude      latitude  housing_median_age   total_rooms  \\\n",
       "count  20640.000000  20640.000000        20640.000000  20640.000000   \n",
       "mean    -119.569704     35.631861           28.639486   2635.763081   \n",
       "std        2.003532      2.135952           12.585558   2181.615252   \n",
       "min     -124.350000     32.540000            1.000000      2.000000   \n",
       "25%     -121.800000     33.930000           18.000000   1447.750000   \n",
       "50%     -118.490000     34.260000           29.000000   2127.000000   \n",
       "75%     -118.010000     37.710000           37.000000   3148.000000   \n",
       "max     -114.310000     41.950000           52.000000  39320.000000   \n",
       "\n",
       "       total_bedrooms    population    households  median_income  \\\n",
       "count    20433.000000  20640.000000  20640.000000   20640.000000   \n",
       "mean       537.870553   1425.476744    499.539680       3.870671   \n",
       "std        421.385070   1132.462122    382.329753       1.899822   \n",
       "min          1.000000      3.000000      1.000000       0.499900   \n",
       "25%        296.000000    787.000000    280.000000       2.563400   \n",
       "50%        435.000000   1166.000000    409.000000       3.534800   \n",
       "75%        647.000000   1725.000000    605.000000       4.743250   \n",
       "max       6445.000000  35682.000000   6082.000000      15.000100   \n",
       "\n",
       "       median_house_value  \n",
       "count        20640.000000  \n",
       "mean        206855.816909  \n",
       "std         115395.615874  \n",
       "min          14999.000000  \n",
       "25%         119600.000000  \n",
       "50%         179700.000000  \n",
       "75%         264725.000000  \n",
       "max         500001.000000  "
      ]
     },
     "execution_count": 8,
     "metadata": {},
     "output_type": "execute_result"
    }
   ],
   "source": [
    "# Statistic variable of the data. \n",
    "house.describe()"
   ]
  },
  {
   "cell_type": "code",
   "execution_count": 9,
   "id": "8ed758a1",
   "metadata": {},
   "outputs": [
    {
     "data": {
      "text/plain": [
       "(20640, 20640)"
      ]
     },
     "execution_count": 9,
     "metadata": {},
     "output_type": "execute_result"
    }
   ],
   "source": [
    "# Setting the proportion for each \n",
    "# our three dataset.\n",
    "\n",
    "# Total number of records. \n",
    "n = len(house)\n",
    "\n",
    "# Proportion for Slitting \n",
    "n_training = int(n * 0.6)\n",
    "n_val = int(n * 0.2)\n",
    "n_testing = int(n * 0.2)\n",
    "\n",
    "# Checktng the proportions and total record.\n",
    "n, n_training + n_val + n_testing"
   ]
  },
  {
   "cell_type": "code",
   "execution_count": 10,
   "id": "8ab9b7e5",
   "metadata": {},
   "outputs": [
    {
     "data": {
      "text/plain": [
       "array([20046,  3024, 15663, 20484,  9814, 13311,  7113,  7668, 18246,\n",
       "        5723])"
      ]
     },
     "execution_count": 10,
     "metadata": {},
     "output_type": "execute_result"
    }
   ],
   "source": [
    "# Setting up random seed and reshuffling data.\n",
    "\n",
    "# Extracting total number of index. \n",
    "idx = np.arange(len(house))\n",
    "\n",
    "# Setting up random seed value.\n",
    "np.random.seed(42)\n",
    "\n",
    "# Reshuffling dataset index. \n",
    "np.random.shuffle(idx)\n",
    "\n",
    "# Checking index values\n",
    "idx[:10]"
   ]
  },
  {
   "cell_type": "code",
   "execution_count": 31,
   "id": "6eacd6e0",
   "metadata": {},
   "outputs": [
    {
     "name": "stdout",
     "output_type": "stream",
     "text": [
      "(12384, 9)\n",
      "(4128, 9)\n",
      "(4128, 9)\n"
     ]
    }
   ],
   "source": [
    "# Dividing the dataset using iloc\n",
    "house_training = house.iloc[idx[:n_training]].reset_index(drop = True)\n",
    "house_val = house.iloc[idx[n_training : n_val + n_training]].reset_index(drop = True)\n",
    "house_testing = house.iloc[idx[n_val + n_training:]].reset_index(drop = True)\n",
    "\n",
    "# Checking each dataset. \n",
    "print(house_training.shape)\n",
    "print(house_val.shape)\n",
    "print(house_testing.shape)"
   ]
  },
  {
   "cell_type": "code",
   "execution_count": 32,
   "id": "6fc85774",
   "metadata": {},
   "outputs": [],
   "source": [
    "# Extracting tarket Variables. \n",
    "y_training = np.log1p(house_training.median_house_value)\n",
    "y_val = np.log1p(house_val.median_house_value)\n",
    "y_testing = np.log1p(house_testing.median_house_value)\n",
    "\n",
    "# Deleting y column from dataset.\n",
    "del house_training['median_house_value']\n",
    "del house_val['median_house_value']\n",
    "del house_testing['median_house_value']"
   ]
  },
  {
   "cell_type": "code",
   "execution_count": 33,
   "id": "eedbb3f4",
   "metadata": {},
   "outputs": [
    {
     "data": {
      "text/plain": [
       "0        10.772708\n",
       "1        10.732061\n",
       "2        13.122367\n",
       "3        12.295003\n",
       "4        12.535380\n",
       "           ...    \n",
       "12379    13.041806\n",
       "12380    12.234665\n",
       "12381    11.896833\n",
       "12382    11.930326\n",
       "12383    12.948726\n",
       "Name: median_house_value, Length: 12384, dtype: float64"
      ]
     },
     "execution_count": 33,
     "metadata": {},
     "output_type": "execute_result"
    }
   ],
   "source": [
    "# Checking the y values \n",
    "y_training"
   ]
  },
  {
   "cell_type": "code",
   "execution_count": 34,
   "id": "9acc75f6",
   "metadata": {},
   "outputs": [
    {
     "name": "stdout",
     "output_type": "stream",
     "text": [
      "Index(['longitude', 'latitude', 'housing_median_age', 'total_rooms',\n",
      "       'total_bedrooms', 'population', 'households', 'median_income'],\n",
      "      dtype='object') \n",
      "\n",
      "\n",
      "Index(['longitude', 'latitude', 'housing_median_age', 'total_rooms',\n",
      "       'total_bedrooms', 'population', 'households', 'median_income'],\n",
      "      dtype='object') \n",
      "\n",
      "\n",
      "Index(['longitude', 'latitude', 'housing_median_age', 'total_rooms',\n",
      "       'total_bedrooms', 'population', 'households', 'median_income'],\n",
      "      dtype='object') \n",
      "\n",
      "\n"
     ]
    }
   ],
   "source": [
    "# Checking for track varible in dataset. \n",
    "print(house_training.columns,'\\n\\n')\n",
    "print(house_val.columns,'\\n\\n')\n",
    "print(house_testing.columns,'\\n\\n')"
   ]
  },
  {
   "cell_type": "code",
   "execution_count": 35,
   "id": "82ed6229",
   "metadata": {},
   "outputs": [
    {
     "data": {
      "text/plain": [
       "longitude               0\n",
       "latitude                0\n",
       "housing_median_age      0\n",
       "total_rooms             0\n",
       "total_bedrooms        207\n",
       "population              0\n",
       "households              0\n",
       "median_income           0\n",
       "dtype: int64"
      ]
     },
     "execution_count": 35,
     "metadata": {},
     "output_type": "execute_result"
    }
   ],
   "source": [
    "# Filling null value with mean\n",
    "\n",
    "# Finding null value in the data. \n",
    "house_training.isna().sum()"
   ]
  },
  {
   "cell_type": "code",
   "execution_count": 36,
   "id": "4e0757a6",
   "metadata": {},
   "outputs": [
    {
     "data": {
      "text/plain": [
       "longitude               0\n",
       "latitude                0\n",
       "housing_median_age      0\n",
       "total_rooms             0\n",
       "total_bedrooms        207\n",
       "population              0\n",
       "households              0\n",
       "median_income           0\n",
       "dtype: int64"
      ]
     },
     "execution_count": 36,
     "metadata": {},
     "output_type": "execute_result"
    }
   ],
   "source": [
    "# Divid the with o and mean fill null value.\n",
    "house_training_0 = house_training.copy()\n",
    "\n",
    "# Checking if the mean have changed. \n",
    "house_training_0.isna().sum()"
   ]
  },
  {
   "cell_type": "code",
   "execution_count": 37,
   "id": "d87d861a",
   "metadata": {},
   "outputs": [
    {
     "data": {
      "text/plain": [
       "533.4803317730147"
      ]
     },
     "execution_count": 37,
     "metadata": {},
     "output_type": "execute_result"
    }
   ],
   "source": [
    "# Mean value missing value.\n",
    "house_training.total_bedrooms.mean()"
   ]
  },
  {
   "cell_type": "code",
   "execution_count": 38,
   "id": "59a92db2",
   "metadata": {},
   "outputs": [
    {
     "data": {
      "text/plain": [
       "328.0     38\n",
       "343.0     36\n",
       "345.0     34\n",
       "280.0     33\n",
       "314.0     33\n",
       "          ..\n",
       "1358.0     1\n",
       "870.0      1\n",
       "1352.0     1\n",
       "1382.0     1\n",
       "1415.0     1\n",
       "Name: total_bedrooms, Length: 1681, dtype: int64"
      ]
     },
     "execution_count": 38,
     "metadata": {},
     "output_type": "execute_result"
    }
   ],
   "source": [
    "# Checking frequency \n",
    "house_training.total_bedrooms.value_counts()"
   ]
  },
  {
   "cell_type": "code",
   "execution_count": 39,
   "id": "6005b45d",
   "metadata": {},
   "outputs": [
    {
     "data": {
      "text/html": [
       "<div>\n",
       "<style scoped>\n",
       "    .dataframe tbody tr th:only-of-type {\n",
       "        vertical-align: middle;\n",
       "    }\n",
       "\n",
       "    .dataframe tbody tr th {\n",
       "        vertical-align: top;\n",
       "    }\n",
       "\n",
       "    .dataframe thead th {\n",
       "        text-align: right;\n",
       "    }\n",
       "</style>\n",
       "<table border=\"1\" class=\"dataframe\">\n",
       "  <thead>\n",
       "    <tr style=\"text-align: right;\">\n",
       "      <th></th>\n",
       "      <th>longitude</th>\n",
       "      <th>latitude</th>\n",
       "      <th>housing_median_age</th>\n",
       "      <th>total_rooms</th>\n",
       "      <th>total_bedrooms</th>\n",
       "      <th>population</th>\n",
       "      <th>households</th>\n",
       "      <th>median_income</th>\n",
       "    </tr>\n",
       "  </thead>\n",
       "  <tbody>\n",
       "    <tr>\n",
       "      <th>0</th>\n",
       "      <td>-119.01</td>\n",
       "      <td>36.06</td>\n",
       "      <td>25.0</td>\n",
       "      <td>1505.0</td>\n",
       "      <td>NaN</td>\n",
       "      <td>1392.0</td>\n",
       "      <td>359.0</td>\n",
       "      <td>1.6812</td>\n",
       "    </tr>\n",
       "    <tr>\n",
       "      <th>1</th>\n",
       "      <td>-119.46</td>\n",
       "      <td>35.14</td>\n",
       "      <td>30.0</td>\n",
       "      <td>2943.0</td>\n",
       "      <td>NaN</td>\n",
       "      <td>1565.0</td>\n",
       "      <td>584.0</td>\n",
       "      <td>2.5313</td>\n",
       "    </tr>\n",
       "    <tr>\n",
       "      <th>2</th>\n",
       "      <td>-122.44</td>\n",
       "      <td>37.80</td>\n",
       "      <td>52.0</td>\n",
       "      <td>3830.0</td>\n",
       "      <td>NaN</td>\n",
       "      <td>1310.0</td>\n",
       "      <td>963.0</td>\n",
       "      <td>3.4801</td>\n",
       "    </tr>\n",
       "    <tr>\n",
       "      <th>3</th>\n",
       "      <td>-118.72</td>\n",
       "      <td>34.28</td>\n",
       "      <td>17.0</td>\n",
       "      <td>3051.0</td>\n",
       "      <td>NaN</td>\n",
       "      <td>1705.0</td>\n",
       "      <td>495.0</td>\n",
       "      <td>5.7376</td>\n",
       "    </tr>\n",
       "    <tr>\n",
       "      <th>4</th>\n",
       "      <td>-121.93</td>\n",
       "      <td>36.62</td>\n",
       "      <td>34.0</td>\n",
       "      <td>2351.0</td>\n",
       "      <td>NaN</td>\n",
       "      <td>1063.0</td>\n",
       "      <td>428.0</td>\n",
       "      <td>3.7250</td>\n",
       "    </tr>\n",
       "    <tr>\n",
       "      <th>...</th>\n",
       "      <td>...</td>\n",
       "      <td>...</td>\n",
       "      <td>...</td>\n",
       "      <td>...</td>\n",
       "      <td>...</td>\n",
       "      <td>...</td>\n",
       "      <td>...</td>\n",
       "      <td>...</td>\n",
       "    </tr>\n",
       "    <tr>\n",
       "      <th>12379</th>\n",
       "      <td>-117.81</td>\n",
       "      <td>33.88</td>\n",
       "      <td>19.0</td>\n",
       "      <td>2265.0</td>\n",
       "      <td>283.0</td>\n",
       "      <td>904.0</td>\n",
       "      <td>279.0</td>\n",
       "      <td>9.2327</td>\n",
       "    </tr>\n",
       "    <tr>\n",
       "      <th>12380</th>\n",
       "      <td>-120.68</td>\n",
       "      <td>35.48</td>\n",
       "      <td>15.0</td>\n",
       "      <td>2608.0</td>\n",
       "      <td>525.0</td>\n",
       "      <td>1351.0</td>\n",
       "      <td>502.0</td>\n",
       "      <td>2.7798</td>\n",
       "    </tr>\n",
       "    <tr>\n",
       "      <th>12381</th>\n",
       "      <td>-120.91</td>\n",
       "      <td>38.98</td>\n",
       "      <td>13.0</td>\n",
       "      <td>7689.0</td>\n",
       "      <td>1415.0</td>\n",
       "      <td>3264.0</td>\n",
       "      <td>1198.0</td>\n",
       "      <td>3.6530</td>\n",
       "    </tr>\n",
       "    <tr>\n",
       "      <th>12382</th>\n",
       "      <td>-117.72</td>\n",
       "      <td>34.09</td>\n",
       "      <td>36.0</td>\n",
       "      <td>1473.0</td>\n",
       "      <td>328.0</td>\n",
       "      <td>785.0</td>\n",
       "      <td>299.0</td>\n",
       "      <td>3.2566</td>\n",
       "    </tr>\n",
       "    <tr>\n",
       "      <th>12383</th>\n",
       "      <td>-122.47</td>\n",
       "      <td>37.76</td>\n",
       "      <td>34.0</td>\n",
       "      <td>2807.0</td>\n",
       "      <td>487.0</td>\n",
       "      <td>1152.0</td>\n",
       "      <td>445.0</td>\n",
       "      <td>5.1893</td>\n",
       "    </tr>\n",
       "  </tbody>\n",
       "</table>\n",
       "<p>12384 rows × 8 columns</p>\n",
       "</div>"
      ],
      "text/plain": [
       "       longitude  latitude  housing_median_age  total_rooms  total_bedrooms  \\\n",
       "0        -119.01     36.06                25.0       1505.0             NaN   \n",
       "1        -119.46     35.14                30.0       2943.0             NaN   \n",
       "2        -122.44     37.80                52.0       3830.0             NaN   \n",
       "3        -118.72     34.28                17.0       3051.0             NaN   \n",
       "4        -121.93     36.62                34.0       2351.0             NaN   \n",
       "...          ...       ...                 ...          ...             ...   \n",
       "12379    -117.81     33.88                19.0       2265.0           283.0   \n",
       "12380    -120.68     35.48                15.0       2608.0           525.0   \n",
       "12381    -120.91     38.98                13.0       7689.0          1415.0   \n",
       "12382    -117.72     34.09                36.0       1473.0           328.0   \n",
       "12383    -122.47     37.76                34.0       2807.0           487.0   \n",
       "\n",
       "       population  households  median_income  \n",
       "0          1392.0       359.0         1.6812  \n",
       "1          1565.0       584.0         2.5313  \n",
       "2          1310.0       963.0         3.4801  \n",
       "3          1705.0       495.0         5.7376  \n",
       "4          1063.0       428.0         3.7250  \n",
       "...           ...         ...            ...  \n",
       "12379       904.0       279.0         9.2327  \n",
       "12380      1351.0       502.0         2.7798  \n",
       "12381      3264.0      1198.0         3.6530  \n",
       "12382       785.0       299.0         3.2566  \n",
       "12383      1152.0       445.0         5.1893  \n",
       "\n",
       "[12384 rows x 8 columns]"
      ]
     },
     "execution_count": 39,
     "metadata": {},
     "output_type": "execute_result"
    }
   ],
   "source": [
    "house_training"
   ]
  },
  {
   "cell_type": "code",
   "execution_count": 40,
   "id": "2e252bdd",
   "metadata": {},
   "outputs": [],
   "source": [
    "# filling null with mean\n",
    "house_training['total_bedrooms'] = house_training['total_bedrooms'].fillna(533)"
   ]
  },
  {
   "cell_type": "code",
   "execution_count": 41,
   "id": "d92a9678",
   "metadata": {},
   "outputs": [],
   "source": [
    "# filling nul value with 0. \n",
    "house_training_0['total_bedrooms'] = house_training_0['total_bedrooms'].fillna(0)"
   ]
  },
  {
   "cell_type": "code",
   "execution_count": 42,
   "id": "22dd12f4",
   "metadata": {},
   "outputs": [
    {
     "name": "stdout",
     "output_type": "stream",
     "text": [
      "longitude             0\n",
      "latitude              0\n",
      "housing_median_age    0\n",
      "total_rooms           0\n",
      "total_bedrooms        0\n",
      "population            0\n",
      "households            0\n",
      "median_income         0\n",
      "dtype: int64 \n",
      "\n",
      "\n",
      "longitude             0\n",
      "latitude              0\n",
      "housing_median_age    0\n",
      "total_rooms           0\n",
      "total_bedrooms        0\n",
      "population            0\n",
      "households            0\n",
      "median_income         0\n",
      "dtype: int64\n"
     ]
    }
   ],
   "source": [
    "# checking for null values. \n",
    "print(house_training.isna().sum(), '\\n\\n')\n",
    "\n",
    "print(house_training_0.isna().sum())"
   ]
  },
  {
   "cell_type": "markdown",
   "id": "02b51445",
   "metadata": {},
   "source": [
    "## Train a model. "
   ]
  },
  {
   "cell_type": "code",
   "execution_count": 43,
   "id": "de1e3988",
   "metadata": {},
   "outputs": [],
   "source": [
    "# Model function.\n",
    "\n",
    "def training_linear_regression(x, y):\n",
    "    n = x.shape[0]\n",
    "    ones = np.ones(n)\n",
    "    x = np.column_stack([ones, x])\n",
    "    \n",
    "    xt = x.T\n",
    "    xtx = xt.dot(x)\n",
    "    xtx_inv = np.linalg.inv(xtx)\n",
    "    \n",
    "    w = xtx_inv.dot(xt)\n",
    "    w = w.dot(y)\n",
    "    \n",
    "    return w[0], w[1:]"
   ]
  },
  {
   "cell_type": "code",
   "execution_count": 45,
   "id": "2dea992e",
   "metadata": {},
   "outputs": [
    {
     "data": {
      "text/plain": [
       "(-11.759577314981538,\n",
       " array([-2.76809520e-01, -2.82182042e-01,  2.93034361e-03, -1.48544662e-05,\n",
       "         2.48048682e-04, -2.03763332e-04,  4.87010174e-04,  1.73086572e-01]))"
      ]
     },
     "execution_count": 45,
     "metadata": {},
     "output_type": "execute_result"
    }
   ],
   "source": [
    "# Finding w0 and w for mean. \n",
    "\n",
    "w0, w = training_linear_regression(house_training, y_training)\n",
    "\n",
    "w0, w"
   ]
  },
  {
   "cell_type": "code",
   "execution_count": 48,
   "id": "7b030834",
   "metadata": {},
   "outputs": [
    {
     "data": {
      "text/plain": [
       "(-11.686975241970226,\n",
       " array([-2.76255120e-01, -2.82087184e-01,  2.91329621e-03, -8.64531514e-06,\n",
       "         1.50811922e-04, -2.08205659e-04,  5.69546573e-04,  1.71308139e-01]))"
      ]
     },
     "execution_count": 48,
     "metadata": {},
     "output_type": "execute_result"
    }
   ],
   "source": [
    "# Finding wi0 and wi for 0 filled mean.\n",
    "wi0, wi = training_linear_regression(house_training_0, y_training)\n",
    "\n",
    "wi0, wi"
   ]
  },
  {
   "cell_type": "code",
   "execution_count": 53,
   "id": "ca9999bf",
   "metadata": {},
   "outputs": [
    {
     "data": {
      "text/plain": [
       "array([11.46338435, 12.0591399 , 12.65418364, ..., 11.68135435,\n",
       "       12.1740501 , 12.2402635 ])"
      ]
     },
     "execution_count": 53,
     "metadata": {},
     "output_type": "execute_result"
    }
   ],
   "source": [
    "# Validating the model using the validation \n",
    "# dataset.\n",
    "\n",
    "\n",
    "# Predicting y with validation data\n",
    "y_pred_1 = w0 + house_val.dot(w)\n",
    "\n",
    "# Show result.\n",
    "y_pred_1"
   ]
  },
  {
   "cell_type": "code",
   "execution_count": 55,
   "id": "69e77f3c",
   "metadata": {},
   "outputs": [
    {
     "data": {
      "text/plain": [
       "array([11.46879627, 12.05823471, 12.65529319, ..., 11.68291953,\n",
       "       12.17882297, 12.23588954])"
      ]
     },
     "execution_count": 55,
     "metadata": {},
     "output_type": "execute_result"
    }
   ],
   "source": [
    "# Validating the model using the validation \n",
    "# dataset.\n",
    "\n",
    "# Predicting y with validation data\n",
    "y_pred_2 = wi0 + house_val.dot(wi)\n",
    "\n",
    "# Show result.\n",
    "y_pred_2"
   ]
  },
  {
   "cell_type": "code",
   "execution_count": 50,
   "id": "54d59f96",
   "metadata": {},
   "outputs": [],
   "source": [
    "# rmse function.\n",
    "def rmse(y, y_pred):\n",
    "    se = (y - y_pred) ** 2\n",
    "    mse = se.mean()\n",
    "    return np.sqrt(mse)"
   ]
  },
  {
   "cell_type": "code",
   "execution_count": 56,
   "id": "fb3312a5",
   "metadata": {},
   "outputs": [],
   "source": [
    "# Checking the rmse for fill mean and 0 \n",
    "\n",
    "# fill mean \n",
    "rmse_1 = rmse(y_val, y_pred_1)\n",
    "\n",
    "# fill 0 \n",
    "rmse_2 = rmse(y_val, y_pred_2)"
   ]
  },
  {
   "cell_type": "code",
   "execution_count": null,
   "id": "158a35f3",
   "metadata": {},
   "outputs": [],
   "source": [
    "# Checkin the values of rmse 1 and w \n",
    "print(rmse_1.r)"
   ]
  }
 ],
 "metadata": {
  "kernelspec": {
   "display_name": "Python 3 (ipykernel)",
   "language": "python",
   "name": "python3"
  },
  "language_info": {
   "codemirror_mode": {
    "name": "ipython",
    "version": 3
   },
   "file_extension": ".py",
   "mimetype": "text/x-python",
   "name": "python",
   "nbconvert_exporter": "python",
   "pygments_lexer": "ipython3",
   "version": "3.9.13"
  }
 },
 "nbformat": 4,
 "nbformat_minor": 5
}
