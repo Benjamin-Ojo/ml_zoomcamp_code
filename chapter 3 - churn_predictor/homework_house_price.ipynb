{
 "cells": [
  {
   "cell_type": "markdown",
   "id": "01689e85",
   "metadata": {},
   "source": [
    "# Homework: Califonia Housing Prices."
   ]
  },
  {
   "cell_type": "code",
   "execution_count": 1,
   "id": "d12d54c9",
   "metadata": {},
   "outputs": [],
   "source": [
    "# Import Packages.\n",
    "\n",
    "# Data Manipultion.\n",
    "import pandas as pd\n",
    "import numpy as np\n",
    "import wget\n",
    "\n",
    "# Data Visualization.\n",
    "import matplotlib.pyplot as plt\n",
    "import seaborn as sns\n",
    "\n",
    "# other packages \n",
    "%matplotlib inline"
   ]
  },
  {
   "cell_type": "markdown",
   "id": "25b7a08f",
   "metadata": {},
   "source": [
    "## Data Preparation. "
   ]
  },
  {
   "cell_type": "markdown",
   "id": "3ae70def",
   "metadata": {},
   "source": [
    "### Data Gathering. "
   ]
  },
  {
   "cell_type": "code",
   "execution_count": 5,
   "id": "ae5e5664",
   "metadata": {},
   "outputs": [],
   "source": [
    "# Data url. \n",
    "url = 'https://raw.githubusercontent.com/alexeygrigorev/datasets/master/housing.csv'"
   ]
  },
  {
   "cell_type": "code",
   "execution_count": 7,
   "id": "68648d7a",
   "metadata": {},
   "outputs": [
    {
     "name": "stdout",
     "output_type": "stream",
     "text": [
      "100% [.........................................................] 1423529 / 1423529"
     ]
    }
   ],
   "source": [
    "# Data extration with wget.\n",
    "response = wget.download(url, 'data/housing.csv')"
   ]
  },
  {
   "cell_type": "code",
   "execution_count": null,
   "id": "296d23c4",
   "metadata": {},
   "outputs": [],
   "source": []
  }
 ],
 "metadata": {
  "kernelspec": {
   "display_name": "Python 3 (ipykernel)",
   "language": "python",
   "name": "python3"
  },
  "language_info": {
   "codemirror_mode": {
    "name": "ipython",
    "version": 3
   },
   "file_extension": ".py",
   "mimetype": "text/x-python",
   "name": "python",
   "nbconvert_exporter": "python",
   "pygments_lexer": "ipython3",
   "version": "3.9.13"
  }
 },
 "nbformat": 4,
 "nbformat_minor": 5
}
