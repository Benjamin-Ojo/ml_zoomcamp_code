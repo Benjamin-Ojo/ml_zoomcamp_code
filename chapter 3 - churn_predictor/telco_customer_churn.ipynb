{
 "cells": [
  {
   "cell_type": "markdown",
   "id": "df108f23",
   "metadata": {},
   "source": [
    "# Chapter 3 - Machine Learning for Classification. "
   ]
  },
  {
   "cell_type": "markdown",
   "id": "2733ed25",
   "metadata": {},
   "source": [
    "## Project: Telco Customer Churn Predictor. "
   ]
  },
  {
   "cell_type": "code",
   "execution_count": 3,
   "id": "8e3d8678",
   "metadata": {},
   "outputs": [],
   "source": [
    "# Importing Python Packages. \n",
    "\n",
    "# Data Manipulation. \n",
    "import pandas as pd \n",
    "import numpy as np\n",
    "\n",
    "# Data Visualization Packages. \n",
    "import seaborn as sns \n",
    "import matplotlib.pyplot as plt\n",
    "\n",
    "# Data Gathering Package. \n",
    "import wget \n",
    "\n",
    "# Other\n",
    "%matplotlib inline"
   ]
  },
  {
   "cell_type": "markdown",
   "id": "837dd1cc",
   "metadata": {},
   "source": [
    "## Data Gathering. "
   ]
  },
  {
   "cell_type": "code",
   "execution_count": null,
   "id": "0ada57f0",
   "metadata": {},
   "outputs": [],
   "source": [
    "# Data url link.\n",
    "url = ''"
   ]
  },
  {
   "cell_type": "code",
   "execution_count": null,
   "id": "8bc8021a",
   "metadata": {},
   "outputs": [],
   "source": [
    "# Extracting data using wge\n",
    "% wget $ url -o 'data/telco_customer_churn.csv'"
   ]
  },
  {
   "cell_type": "code",
   "execution_count": null,
   "id": "a12cb674",
   "metadata": {},
   "outputs": [],
   "source": [
    "# Loading dataset. \n",
    "telco_data = pd.read_csv('data/telco_churn.csv')\n",
    "\n",
    "# Viewing dataset.\n",
    "telcc_data.head().T"
   ]
  }
 ],
 "metadata": {
  "kernelspec": {
   "display_name": "Python 3 (ipykernel)",
   "language": "python",
   "name": "python3"
  },
  "language_info": {
   "codemirror_mode": {
    "name": "ipython",
    "version": 3
   },
   "file_extension": ".py",
   "mimetype": "text/x-python",
   "name": "python",
   "nbconvert_exporter": "python",
   "pygments_lexer": "ipython3",
   "version": "3.9.13"
  }
 },
 "nbformat": 4,
 "nbformat_minor": 5
}
