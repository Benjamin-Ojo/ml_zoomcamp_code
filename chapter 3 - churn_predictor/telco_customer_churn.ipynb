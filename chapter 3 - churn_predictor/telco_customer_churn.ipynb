{
 "cells": [
  {
   "cell_type": "markdown",
   "id": "df108f23",
   "metadata": {},
   "source": [
    "# Chapter 3 - Machine Learning for Classification. "
   ]
  },
  {
   "cell_type": "markdown",
   "id": "3de407d2",
   "metadata": {},
   "source": [
    "## Project: Telco Customer Churn Predictor. "
   ]
  },
  {
   "cell_type": "code",
   "execution_count": 1,
   "id": "8e3d8678",
   "metadata": {},
   "outputs": [],
   "source": [
    "# Importing Python Packages. \n",
    "\n",
    "# Data Manipulation. \n",
    "import pandas as pd \n",
    "import numpy as np\n",
    "\n",
    "# Data Visualization Packages. \n",
    "import seaborn as sns \n",
    "import matplotlib.pyplot as plt\n",
    "\n",
    "# Data Gathering Package. \n",
    "import wget \n",
    "\n",
    "# Other\n",
    "%matplotlib inline"
   ]
  },
  {
   "cell_type": "markdown",
   "id": "45d70bc4",
   "metadata": {},
   "source": [
    "## Data Gathering. "
   ]
  },
  {
   "cell_type": "code",
   "execution_count": 2,
   "id": "e8e08ab3",
   "metadata": {},
   "outputs": [
    {
     "data": {
      "text/html": [
       "<div>\n",
       "<style scoped>\n",
       "    .dataframe tbody tr th:only-of-type {\n",
       "        vertical-align: middle;\n",
       "    }\n",
       "\n",
       "    .dataframe tbody tr th {\n",
       "        vertical-align: top;\n",
       "    }\n",
       "\n",
       "    .dataframe thead th {\n",
       "        text-align: right;\n",
       "    }\n",
       "</style>\n",
       "<table border=\"1\" class=\"dataframe\">\n",
       "  <thead>\n",
       "    <tr style=\"text-align: right;\">\n",
       "      <th></th>\n",
       "      <th>customerID</th>\n",
       "      <th>gender</th>\n",
       "      <th>SeniorCitizen</th>\n",
       "      <th>Partner</th>\n",
       "      <th>Dependents</th>\n",
       "      <th>tenure</th>\n",
       "      <th>PhoneService</th>\n",
       "      <th>MultipleLines</th>\n",
       "      <th>InternetService</th>\n",
       "      <th>OnlineSecurity</th>\n",
       "      <th>...</th>\n",
       "      <th>DeviceProtection</th>\n",
       "      <th>TechSupport</th>\n",
       "      <th>StreamingTV</th>\n",
       "      <th>StreamingMovies</th>\n",
       "      <th>Contract</th>\n",
       "      <th>PaperlessBilling</th>\n",
       "      <th>PaymentMethod</th>\n",
       "      <th>MonthlyCharges</th>\n",
       "      <th>TotalCharges</th>\n",
       "      <th>Churn</th>\n",
       "    </tr>\n",
       "  </thead>\n",
       "  <tbody>\n",
       "    <tr>\n",
       "      <th>0</th>\n",
       "      <td>7590-VHVEG</td>\n",
       "      <td>Female</td>\n",
       "      <td>0</td>\n",
       "      <td>Yes</td>\n",
       "      <td>No</td>\n",
       "      <td>1</td>\n",
       "      <td>No</td>\n",
       "      <td>No phone service</td>\n",
       "      <td>DSL</td>\n",
       "      <td>No</td>\n",
       "      <td>...</td>\n",
       "      <td>No</td>\n",
       "      <td>No</td>\n",
       "      <td>No</td>\n",
       "      <td>No</td>\n",
       "      <td>Month-to-month</td>\n",
       "      <td>Yes</td>\n",
       "      <td>Electronic check</td>\n",
       "      <td>29.85</td>\n",
       "      <td>29.85</td>\n",
       "      <td>No</td>\n",
       "    </tr>\n",
       "    <tr>\n",
       "      <th>1</th>\n",
       "      <td>5575-GNVDE</td>\n",
       "      <td>Male</td>\n",
       "      <td>0</td>\n",
       "      <td>No</td>\n",
       "      <td>No</td>\n",
       "      <td>34</td>\n",
       "      <td>Yes</td>\n",
       "      <td>No</td>\n",
       "      <td>DSL</td>\n",
       "      <td>Yes</td>\n",
       "      <td>...</td>\n",
       "      <td>Yes</td>\n",
       "      <td>No</td>\n",
       "      <td>No</td>\n",
       "      <td>No</td>\n",
       "      <td>One year</td>\n",
       "      <td>No</td>\n",
       "      <td>Mailed check</td>\n",
       "      <td>56.95</td>\n",
       "      <td>1889.5</td>\n",
       "      <td>No</td>\n",
       "    </tr>\n",
       "    <tr>\n",
       "      <th>2</th>\n",
       "      <td>3668-QPYBK</td>\n",
       "      <td>Male</td>\n",
       "      <td>0</td>\n",
       "      <td>No</td>\n",
       "      <td>No</td>\n",
       "      <td>2</td>\n",
       "      <td>Yes</td>\n",
       "      <td>No</td>\n",
       "      <td>DSL</td>\n",
       "      <td>Yes</td>\n",
       "      <td>...</td>\n",
       "      <td>No</td>\n",
       "      <td>No</td>\n",
       "      <td>No</td>\n",
       "      <td>No</td>\n",
       "      <td>Month-to-month</td>\n",
       "      <td>Yes</td>\n",
       "      <td>Mailed check</td>\n",
       "      <td>53.85</td>\n",
       "      <td>108.15</td>\n",
       "      <td>Yes</td>\n",
       "    </tr>\n",
       "    <tr>\n",
       "      <th>3</th>\n",
       "      <td>7795-CFOCW</td>\n",
       "      <td>Male</td>\n",
       "      <td>0</td>\n",
       "      <td>No</td>\n",
       "      <td>No</td>\n",
       "      <td>45</td>\n",
       "      <td>No</td>\n",
       "      <td>No phone service</td>\n",
       "      <td>DSL</td>\n",
       "      <td>Yes</td>\n",
       "      <td>...</td>\n",
       "      <td>Yes</td>\n",
       "      <td>Yes</td>\n",
       "      <td>No</td>\n",
       "      <td>No</td>\n",
       "      <td>One year</td>\n",
       "      <td>No</td>\n",
       "      <td>Bank transfer (automatic)</td>\n",
       "      <td>42.30</td>\n",
       "      <td>1840.75</td>\n",
       "      <td>No</td>\n",
       "    </tr>\n",
       "    <tr>\n",
       "      <th>4</th>\n",
       "      <td>9237-HQITU</td>\n",
       "      <td>Female</td>\n",
       "      <td>0</td>\n",
       "      <td>No</td>\n",
       "      <td>No</td>\n",
       "      <td>2</td>\n",
       "      <td>Yes</td>\n",
       "      <td>No</td>\n",
       "      <td>Fiber optic</td>\n",
       "      <td>No</td>\n",
       "      <td>...</td>\n",
       "      <td>No</td>\n",
       "      <td>No</td>\n",
       "      <td>No</td>\n",
       "      <td>No</td>\n",
       "      <td>Month-to-month</td>\n",
       "      <td>Yes</td>\n",
       "      <td>Electronic check</td>\n",
       "      <td>70.70</td>\n",
       "      <td>151.65</td>\n",
       "      <td>Yes</td>\n",
       "    </tr>\n",
       "  </tbody>\n",
       "</table>\n",
       "<p>5 rows × 21 columns</p>\n",
       "</div>"
      ],
      "text/plain": [
       "   customerID  gender  SeniorCitizen Partner Dependents  tenure PhoneService  \\\n",
       "0  7590-VHVEG  Female              0     Yes         No       1           No   \n",
       "1  5575-GNVDE    Male              0      No         No      34          Yes   \n",
       "2  3668-QPYBK    Male              0      No         No       2          Yes   \n",
       "3  7795-CFOCW    Male              0      No         No      45           No   \n",
       "4  9237-HQITU  Female              0      No         No       2          Yes   \n",
       "\n",
       "      MultipleLines InternetService OnlineSecurity  ... DeviceProtection  \\\n",
       "0  No phone service             DSL             No  ...               No   \n",
       "1                No             DSL            Yes  ...              Yes   \n",
       "2                No             DSL            Yes  ...               No   \n",
       "3  No phone service             DSL            Yes  ...              Yes   \n",
       "4                No     Fiber optic             No  ...               No   \n",
       "\n",
       "  TechSupport StreamingTV StreamingMovies        Contract PaperlessBilling  \\\n",
       "0          No          No              No  Month-to-month              Yes   \n",
       "1          No          No              No        One year               No   \n",
       "2          No          No              No  Month-to-month              Yes   \n",
       "3         Yes          No              No        One year               No   \n",
       "4          No          No              No  Month-to-month              Yes   \n",
       "\n",
       "               PaymentMethod MonthlyCharges  TotalCharges Churn  \n",
       "0           Electronic check          29.85         29.85    No  \n",
       "1               Mailed check          56.95        1889.5    No  \n",
       "2               Mailed check          53.85        108.15   Yes  \n",
       "3  Bank transfer (automatic)          42.30       1840.75    No  \n",
       "4           Electronic check          70.70        151.65   Yes  \n",
       "\n",
       "[5 rows x 21 columns]"
      ]
     },
     "execution_count": 2,
     "metadata": {},
     "output_type": "execute_result"
    }
   ],
   "source": [
    "# Loading dataset. \n",
    "telco_data = pd.read_csv('data/telco_customer_churn.csv')\n",
    "\n",
    "# Viewing dataset.\n",
    "telco_data.head()"
   ]
  },
  {
   "cell_type": "code",
   "execution_count": 3,
   "id": "bb4d15bb",
   "metadata": {},
   "outputs": [
    {
     "name": "stdout",
     "output_type": "stream",
     "text": [
      "There are 7043 rows and 21 columns\n"
     ]
    }
   ],
   "source": [
    "# Viewing the shape of the dataset. \n",
    "print(f'There are {telco_data.shape[0]} rows and {telco_data.shape[1]} columns')"
   ]
  },
  {
   "cell_type": "code",
   "execution_count": 4,
   "id": "9f8b17a0",
   "metadata": {},
   "outputs": [
    {
     "data": {
      "text/plain": [
       "Index(['customerID', 'gender', 'SeniorCitizen', 'Partner', 'Dependents',\n",
       "       'tenure', 'PhoneService', 'MultipleLines', 'InternetService',\n",
       "       'OnlineSecurity', 'OnlineBackup', 'DeviceProtection', 'TechSupport',\n",
       "       'StreamingTV', 'StreamingMovies', 'Contract', 'PaperlessBilling',\n",
       "       'PaymentMethod', 'MonthlyCharges', 'TotalCharges', 'Churn'],\n",
       "      dtype='object')"
      ]
     },
     "execution_count": 4,
     "metadata": {},
     "output_type": "execute_result"
    }
   ],
   "source": [
    "# List of data columns \n",
    "telco_data.columns"
   ]
  },
  {
   "cell_type": "code",
   "execution_count": 5,
   "id": "0cbcf63f",
   "metadata": {},
   "outputs": [
    {
     "name": "stdout",
     "output_type": "stream",
     "text": [
      "<class 'pandas.core.frame.DataFrame'>\n",
      "RangeIndex: 7043 entries, 0 to 7042\n",
      "Data columns (total 21 columns):\n",
      " #   Column            Non-Null Count  Dtype  \n",
      "---  ------            --------------  -----  \n",
      " 0   customerID        7043 non-null   object \n",
      " 1   gender            7043 non-null   object \n",
      " 2   SeniorCitizen     7043 non-null   int64  \n",
      " 3   Partner           7043 non-null   object \n",
      " 4   Dependents        7043 non-null   object \n",
      " 5   tenure            7043 non-null   int64  \n",
      " 6   PhoneService      7043 non-null   object \n",
      " 7   MultipleLines     7043 non-null   object \n",
      " 8   InternetService   7043 non-null   object \n",
      " 9   OnlineSecurity    7043 non-null   object \n",
      " 10  OnlineBackup      7043 non-null   object \n",
      " 11  DeviceProtection  7043 non-null   object \n",
      " 12  TechSupport       7043 non-null   object \n",
      " 13  StreamingTV       7043 non-null   object \n",
      " 14  StreamingMovies   7043 non-null   object \n",
      " 15  Contract          7043 non-null   object \n",
      " 16  PaperlessBilling  7043 non-null   object \n",
      " 17  PaymentMethod     7043 non-null   object \n",
      " 18  MonthlyCharges    7043 non-null   float64\n",
      " 19  TotalCharges      7043 non-null   object \n",
      " 20  Churn             7043 non-null   object \n",
      "dtypes: float64(1), int64(2), object(18)\n",
      "memory usage: 1.1+ MB\n"
     ]
    }
   ],
   "source": [
    "# Data structure. \n",
    "telco_data.info()"
   ]
  },
  {
   "cell_type": "code",
   "execution_count": 6,
   "id": "77f1d73e",
   "metadata": {},
   "outputs": [
    {
     "data": {
      "text/plain": [
       "customerID          0\n",
       "gender              0\n",
       "SeniorCitizen       0\n",
       "Partner             0\n",
       "Dependents          0\n",
       "tenure              0\n",
       "PhoneService        0\n",
       "MultipleLines       0\n",
       "InternetService     0\n",
       "OnlineSecurity      0\n",
       "OnlineBackup        0\n",
       "DeviceProtection    0\n",
       "TechSupport         0\n",
       "StreamingTV         0\n",
       "StreamingMovies     0\n",
       "Contract            0\n",
       "PaperlessBilling    0\n",
       "PaymentMethod       0\n",
       "MonthlyCharges      0\n",
       "TotalCharges        0\n",
       "Churn               0\n",
       "dtype: int64"
      ]
     },
     "execution_count": 6,
     "metadata": {},
     "output_type": "execute_result"
    }
   ],
   "source": [
    "# Checking for Null value.\n",
    "telco_data.isna().sum()"
   ]
  },
  {
   "cell_type": "code",
   "execution_count": 7,
   "id": "466248f4",
   "metadata": {},
   "outputs": [],
   "source": [
    "# Removing upper case from column name.\n",
    "column = telco_data.columns.str.lower()\n",
    "\n",
    "# Replacing columns name with new column name.\n",
    "telco_data.columns = column"
   ]
  },
  {
   "cell_type": "code",
   "execution_count": 8,
   "id": "546e9e99",
   "metadata": {},
   "outputs": [
    {
     "data": {
      "text/plain": [
       "Index(['customerid', 'gender', 'seniorcitizen', 'partner', 'dependents',\n",
       "       'tenure', 'phoneservice', 'multiplelines', 'internetservice',\n",
       "       'onlinesecurity', 'onlinebackup', 'deviceprotection', 'techsupport',\n",
       "       'streamingtv', 'streamingmovies', 'contract', 'paperlessbilling',\n",
       "       'paymentmethod', 'monthlycharges', 'totalcharges', 'churn'],\n",
       "      dtype='object')"
      ]
     },
     "execution_count": 8,
     "metadata": {},
     "output_type": "execute_result"
    }
   ],
   "source": [
    "# Checking column names\n",
    "telco_data.columns"
   ]
  },
  {
   "cell_type": "code",
   "execution_count": 9,
   "id": "6d2c8c12",
   "metadata": {},
   "outputs": [
    {
     "name": "stdout",
     "output_type": "stream",
     "text": [
      "Columns name: customerid \n",
      "\n",
      "Unique values:  ['7590-VHVEG' '5575-GNVDE' '3668-QPYBK' '7795-CFOCW' '9237-HQITU']\n",
      "\n",
      "Number of unique values:  7043\n",
      "\n",
      "\n",
      "Columns name: gender \n",
      "\n",
      "Unique values:  ['Female' 'Male']\n",
      "\n",
      "Number of unique values:  2\n",
      "\n",
      "\n",
      "Columns name: seniorcitizen \n",
      "\n",
      "Unique values:  [0 1]\n",
      "\n",
      "Number of unique values:  2\n",
      "\n",
      "\n",
      "Columns name: partner \n",
      "\n",
      "Unique values:  ['Yes' 'No']\n",
      "\n",
      "Number of unique values:  2\n",
      "\n",
      "\n",
      "Columns name: dependents \n",
      "\n",
      "Unique values:  ['No' 'Yes']\n",
      "\n",
      "Number of unique values:  2\n",
      "\n",
      "\n",
      "Columns name: tenure \n",
      "\n",
      "Unique values:  [ 1 34  2 45  8]\n",
      "\n",
      "Number of unique values:  73\n",
      "\n",
      "\n",
      "Columns name: phoneservice \n",
      "\n",
      "Unique values:  ['No' 'Yes']\n",
      "\n",
      "Number of unique values:  2\n",
      "\n",
      "\n",
      "Columns name: multiplelines \n",
      "\n",
      "Unique values:  ['No phone service' 'No' 'Yes']\n",
      "\n",
      "Number of unique values:  3\n",
      "\n",
      "\n",
      "Columns name: internetservice \n",
      "\n",
      "Unique values:  ['DSL' 'Fiber optic' 'No']\n",
      "\n",
      "Number of unique values:  3\n",
      "\n",
      "\n",
      "Columns name: onlinesecurity \n",
      "\n",
      "Unique values:  ['No' 'Yes' 'No internet service']\n",
      "\n",
      "Number of unique values:  3\n",
      "\n",
      "\n",
      "Columns name: onlinebackup \n",
      "\n",
      "Unique values:  ['Yes' 'No' 'No internet service']\n",
      "\n",
      "Number of unique values:  3\n",
      "\n",
      "\n",
      "Columns name: deviceprotection \n",
      "\n",
      "Unique values:  ['No' 'Yes' 'No internet service']\n",
      "\n",
      "Number of unique values:  3\n",
      "\n",
      "\n",
      "Columns name: techsupport \n",
      "\n",
      "Unique values:  ['No' 'Yes' 'No internet service']\n",
      "\n",
      "Number of unique values:  3\n",
      "\n",
      "\n",
      "Columns name: streamingtv \n",
      "\n",
      "Unique values:  ['No' 'Yes' 'No internet service']\n",
      "\n",
      "Number of unique values:  3\n",
      "\n",
      "\n",
      "Columns name: streamingmovies \n",
      "\n",
      "Unique values:  ['No' 'Yes' 'No internet service']\n",
      "\n",
      "Number of unique values:  3\n",
      "\n",
      "\n",
      "Columns name: contract \n",
      "\n",
      "Unique values:  ['Month-to-month' 'One year' 'Two year']\n",
      "\n",
      "Number of unique values:  3\n",
      "\n",
      "\n",
      "Columns name: paperlessbilling \n",
      "\n",
      "Unique values:  ['Yes' 'No']\n",
      "\n",
      "Number of unique values:  2\n",
      "\n",
      "\n",
      "Columns name: paymentmethod \n",
      "\n",
      "Unique values:  ['Electronic check' 'Mailed check' 'Bank transfer (automatic)'\n",
      " 'Credit card (automatic)']\n",
      "\n",
      "Number of unique values:  4\n",
      "\n",
      "\n",
      "Columns name: monthlycharges \n",
      "\n",
      "Unique values:  [29.85 56.95 53.85 42.3  70.7 ]\n",
      "\n",
      "Number of unique values:  1585\n",
      "\n",
      "\n",
      "Columns name: totalcharges \n",
      "\n",
      "Unique values:  ['29.85' '1889.5' '108.15' '1840.75' '151.65']\n",
      "\n",
      "Number of unique values:  6531\n",
      "\n",
      "\n",
      "Columns name: churn \n",
      "\n",
      "Unique values:  ['No' 'Yes']\n",
      "\n",
      "Number of unique values:  2\n",
      "\n",
      "\n"
     ]
    }
   ],
   "source": [
    "# Checking each feature and their unique values. \n",
    "column_info = {}\n",
    "for col in column: \n",
    "    column_info[col] = [telco_data[col].nunique(), telco_data[col].unique()[0:5]]\n",
    "    print(\"Columns name:\", col, '\\n')\n",
    "    print(f\"Unique values:  {telco_data[col].unique()[0:5]}\\n\")\n",
    "    print(f\"Number of unique values:  {telco_data[col].nunique()}\\n\\n\")"
   ]
  },
  {
   "cell_type": "code",
   "execution_count": 10,
   "id": "34febd0c",
   "metadata": {},
   "outputs": [
    {
     "data": {
      "text/plain": [
       "{'customerid': [7043,\n",
       "  array(['7590-VHVEG', '5575-GNVDE', '3668-QPYBK', '7795-CFOCW',\n",
       "         '9237-HQITU'], dtype=object)],\n",
       " 'gender': [2, array(['Female', 'Male'], dtype=object)],\n",
       " 'seniorcitizen': [2, array([0, 1], dtype=int64)],\n",
       " 'partner': [2, array(['Yes', 'No'], dtype=object)],\n",
       " 'dependents': [2, array(['No', 'Yes'], dtype=object)],\n",
       " 'tenure': [73, array([ 1, 34,  2, 45,  8], dtype=int64)],\n",
       " 'phoneservice': [2, array(['No', 'Yes'], dtype=object)],\n",
       " 'multiplelines': [3, array(['No phone service', 'No', 'Yes'], dtype=object)],\n",
       " 'internetservice': [3, array(['DSL', 'Fiber optic', 'No'], dtype=object)],\n",
       " 'onlinesecurity': [3,\n",
       "  array(['No', 'Yes', 'No internet service'], dtype=object)],\n",
       " 'onlinebackup': [3,\n",
       "  array(['Yes', 'No', 'No internet service'], dtype=object)],\n",
       " 'deviceprotection': [3,\n",
       "  array(['No', 'Yes', 'No internet service'], dtype=object)],\n",
       " 'techsupport': [3, array(['No', 'Yes', 'No internet service'], dtype=object)],\n",
       " 'streamingtv': [3, array(['No', 'Yes', 'No internet service'], dtype=object)],\n",
       " 'streamingmovies': [3,\n",
       "  array(['No', 'Yes', 'No internet service'], dtype=object)],\n",
       " 'contract': [3,\n",
       "  array(['Month-to-month', 'One year', 'Two year'], dtype=object)],\n",
       " 'paperlessbilling': [2, array(['Yes', 'No'], dtype=object)],\n",
       " 'paymentmethod': [4,\n",
       "  array(['Electronic check', 'Mailed check', 'Bank transfer (automatic)',\n",
       "         'Credit card (automatic)'], dtype=object)],\n",
       " 'monthlycharges': [1585, array([29.85, 56.95, 53.85, 42.3 , 70.7 ])],\n",
       " 'totalcharges': [6531,\n",
       "  array(['29.85', '1889.5', '108.15', '1840.75', '151.65'], dtype=object)],\n",
       " 'churn': [2, array(['No', 'Yes'], dtype=object)]}"
      ]
     },
     "execution_count": 10,
     "metadata": {},
     "output_type": "execute_result"
    }
   ],
   "source": [
    "# Checking dict \n",
    "column_info"
   ]
  },
  {
   "cell_type": "code",
   "execution_count": 11,
   "id": "624aa76d",
   "metadata": {},
   "outputs": [
    {
     "data": {
      "text/plain": [
       "0     No\n",
       "1     No\n",
       "2    Yes\n",
       "3     No\n",
       "4    Yes\n",
       "Name: churn, dtype: object"
      ]
     },
     "execution_count": 11,
     "metadata": {},
     "output_type": "execute_result"
    }
   ],
   "source": [
    "# Checking on our target feature. \n",
    "telco_data.churn.head()"
   ]
  },
  {
   "cell_type": "code",
   "execution_count": 12,
   "id": "8de9ceee",
   "metadata": {},
   "outputs": [
    {
     "data": {
      "text/plain": [
       "array([0, 1])"
      ]
     },
     "execution_count": 12,
     "metadata": {},
     "output_type": "execute_result"
    }
   ],
   "source": [
    "# converting churn to int.\n",
    "telco_data['churn'] = pd.to_numeric(telco_data['churn'] == 'Yes').astype(int)\n",
    "\n",
    "# Checking Feature. \n",
    "telco_data['churn'].unique()"
   ]
  },
  {
   "cell_type": "code",
   "execution_count": 13,
   "id": "7da1f098",
   "metadata": {},
   "outputs": [
    {
     "data": {
      "text/html": [
       "<div>\n",
       "<style scoped>\n",
       "    .dataframe tbody tr th:only-of-type {\n",
       "        vertical-align: middle;\n",
       "    }\n",
       "\n",
       "    .dataframe tbody tr th {\n",
       "        vertical-align: top;\n",
       "    }\n",
       "\n",
       "    .dataframe thead th {\n",
       "        text-align: right;\n",
       "    }\n",
       "</style>\n",
       "<table border=\"1\" class=\"dataframe\">\n",
       "  <thead>\n",
       "    <tr style=\"text-align: right;\">\n",
       "      <th></th>\n",
       "      <th>customerid</th>\n",
       "      <th>gender</th>\n",
       "      <th>seniorcitizen</th>\n",
       "      <th>partner</th>\n",
       "      <th>dependents</th>\n",
       "      <th>tenure</th>\n",
       "      <th>phoneservice</th>\n",
       "      <th>multiplelines</th>\n",
       "      <th>internetservice</th>\n",
       "      <th>onlinesecurity</th>\n",
       "      <th>...</th>\n",
       "      <th>deviceprotection</th>\n",
       "      <th>techsupport</th>\n",
       "      <th>streamingtv</th>\n",
       "      <th>streamingmovies</th>\n",
       "      <th>contract</th>\n",
       "      <th>paperlessbilling</th>\n",
       "      <th>paymentmethod</th>\n",
       "      <th>monthlycharges</th>\n",
       "      <th>totalcharges</th>\n",
       "      <th>churn</th>\n",
       "    </tr>\n",
       "  </thead>\n",
       "  <tbody>\n",
       "    <tr>\n",
       "      <th>488</th>\n",
       "      <td>4472-LVYGI</td>\n",
       "      <td>Female</td>\n",
       "      <td>0</td>\n",
       "      <td>Yes</td>\n",
       "      <td>Yes</td>\n",
       "      <td>0</td>\n",
       "      <td>No</td>\n",
       "      <td>No phone service</td>\n",
       "      <td>DSL</td>\n",
       "      <td>Yes</td>\n",
       "      <td>...</td>\n",
       "      <td>Yes</td>\n",
       "      <td>Yes</td>\n",
       "      <td>Yes</td>\n",
       "      <td>No</td>\n",
       "      <td>Two year</td>\n",
       "      <td>Yes</td>\n",
       "      <td>Bank transfer (automatic)</td>\n",
       "      <td>52.55</td>\n",
       "      <td></td>\n",
       "      <td>0</td>\n",
       "    </tr>\n",
       "    <tr>\n",
       "      <th>753</th>\n",
       "      <td>3115-CZMZD</td>\n",
       "      <td>Male</td>\n",
       "      <td>0</td>\n",
       "      <td>No</td>\n",
       "      <td>Yes</td>\n",
       "      <td>0</td>\n",
       "      <td>Yes</td>\n",
       "      <td>No</td>\n",
       "      <td>No</td>\n",
       "      <td>No internet service</td>\n",
       "      <td>...</td>\n",
       "      <td>No internet service</td>\n",
       "      <td>No internet service</td>\n",
       "      <td>No internet service</td>\n",
       "      <td>No internet service</td>\n",
       "      <td>Two year</td>\n",
       "      <td>No</td>\n",
       "      <td>Mailed check</td>\n",
       "      <td>20.25</td>\n",
       "      <td></td>\n",
       "      <td>0</td>\n",
       "    </tr>\n",
       "    <tr>\n",
       "      <th>936</th>\n",
       "      <td>5709-LVOEQ</td>\n",
       "      <td>Female</td>\n",
       "      <td>0</td>\n",
       "      <td>Yes</td>\n",
       "      <td>Yes</td>\n",
       "      <td>0</td>\n",
       "      <td>Yes</td>\n",
       "      <td>No</td>\n",
       "      <td>DSL</td>\n",
       "      <td>Yes</td>\n",
       "      <td>...</td>\n",
       "      <td>Yes</td>\n",
       "      <td>No</td>\n",
       "      <td>Yes</td>\n",
       "      <td>Yes</td>\n",
       "      <td>Two year</td>\n",
       "      <td>No</td>\n",
       "      <td>Mailed check</td>\n",
       "      <td>80.85</td>\n",
       "      <td></td>\n",
       "      <td>0</td>\n",
       "    </tr>\n",
       "    <tr>\n",
       "      <th>1082</th>\n",
       "      <td>4367-NUYAO</td>\n",
       "      <td>Male</td>\n",
       "      <td>0</td>\n",
       "      <td>Yes</td>\n",
       "      <td>Yes</td>\n",
       "      <td>0</td>\n",
       "      <td>Yes</td>\n",
       "      <td>Yes</td>\n",
       "      <td>No</td>\n",
       "      <td>No internet service</td>\n",
       "      <td>...</td>\n",
       "      <td>No internet service</td>\n",
       "      <td>No internet service</td>\n",
       "      <td>No internet service</td>\n",
       "      <td>No internet service</td>\n",
       "      <td>Two year</td>\n",
       "      <td>No</td>\n",
       "      <td>Mailed check</td>\n",
       "      <td>25.75</td>\n",
       "      <td></td>\n",
       "      <td>0</td>\n",
       "    </tr>\n",
       "    <tr>\n",
       "      <th>1340</th>\n",
       "      <td>1371-DWPAZ</td>\n",
       "      <td>Female</td>\n",
       "      <td>0</td>\n",
       "      <td>Yes</td>\n",
       "      <td>Yes</td>\n",
       "      <td>0</td>\n",
       "      <td>No</td>\n",
       "      <td>No phone service</td>\n",
       "      <td>DSL</td>\n",
       "      <td>Yes</td>\n",
       "      <td>...</td>\n",
       "      <td>Yes</td>\n",
       "      <td>Yes</td>\n",
       "      <td>Yes</td>\n",
       "      <td>No</td>\n",
       "      <td>Two year</td>\n",
       "      <td>No</td>\n",
       "      <td>Credit card (automatic)</td>\n",
       "      <td>56.05</td>\n",
       "      <td></td>\n",
       "      <td>0</td>\n",
       "    </tr>\n",
       "    <tr>\n",
       "      <th>3331</th>\n",
       "      <td>7644-OMVMY</td>\n",
       "      <td>Male</td>\n",
       "      <td>0</td>\n",
       "      <td>Yes</td>\n",
       "      <td>Yes</td>\n",
       "      <td>0</td>\n",
       "      <td>Yes</td>\n",
       "      <td>No</td>\n",
       "      <td>No</td>\n",
       "      <td>No internet service</td>\n",
       "      <td>...</td>\n",
       "      <td>No internet service</td>\n",
       "      <td>No internet service</td>\n",
       "      <td>No internet service</td>\n",
       "      <td>No internet service</td>\n",
       "      <td>Two year</td>\n",
       "      <td>No</td>\n",
       "      <td>Mailed check</td>\n",
       "      <td>19.85</td>\n",
       "      <td></td>\n",
       "      <td>0</td>\n",
       "    </tr>\n",
       "    <tr>\n",
       "      <th>3826</th>\n",
       "      <td>3213-VVOLG</td>\n",
       "      <td>Male</td>\n",
       "      <td>0</td>\n",
       "      <td>Yes</td>\n",
       "      <td>Yes</td>\n",
       "      <td>0</td>\n",
       "      <td>Yes</td>\n",
       "      <td>Yes</td>\n",
       "      <td>No</td>\n",
       "      <td>No internet service</td>\n",
       "      <td>...</td>\n",
       "      <td>No internet service</td>\n",
       "      <td>No internet service</td>\n",
       "      <td>No internet service</td>\n",
       "      <td>No internet service</td>\n",
       "      <td>Two year</td>\n",
       "      <td>No</td>\n",
       "      <td>Mailed check</td>\n",
       "      <td>25.35</td>\n",
       "      <td></td>\n",
       "      <td>0</td>\n",
       "    </tr>\n",
       "    <tr>\n",
       "      <th>4380</th>\n",
       "      <td>2520-SGTTA</td>\n",
       "      <td>Female</td>\n",
       "      <td>0</td>\n",
       "      <td>Yes</td>\n",
       "      <td>Yes</td>\n",
       "      <td>0</td>\n",
       "      <td>Yes</td>\n",
       "      <td>No</td>\n",
       "      <td>No</td>\n",
       "      <td>No internet service</td>\n",
       "      <td>...</td>\n",
       "      <td>No internet service</td>\n",
       "      <td>No internet service</td>\n",
       "      <td>No internet service</td>\n",
       "      <td>No internet service</td>\n",
       "      <td>Two year</td>\n",
       "      <td>No</td>\n",
       "      <td>Mailed check</td>\n",
       "      <td>20.00</td>\n",
       "      <td></td>\n",
       "      <td>0</td>\n",
       "    </tr>\n",
       "    <tr>\n",
       "      <th>5218</th>\n",
       "      <td>2923-ARZLG</td>\n",
       "      <td>Male</td>\n",
       "      <td>0</td>\n",
       "      <td>Yes</td>\n",
       "      <td>Yes</td>\n",
       "      <td>0</td>\n",
       "      <td>Yes</td>\n",
       "      <td>No</td>\n",
       "      <td>No</td>\n",
       "      <td>No internet service</td>\n",
       "      <td>...</td>\n",
       "      <td>No internet service</td>\n",
       "      <td>No internet service</td>\n",
       "      <td>No internet service</td>\n",
       "      <td>No internet service</td>\n",
       "      <td>One year</td>\n",
       "      <td>Yes</td>\n",
       "      <td>Mailed check</td>\n",
       "      <td>19.70</td>\n",
       "      <td></td>\n",
       "      <td>0</td>\n",
       "    </tr>\n",
       "    <tr>\n",
       "      <th>6670</th>\n",
       "      <td>4075-WKNIU</td>\n",
       "      <td>Female</td>\n",
       "      <td>0</td>\n",
       "      <td>Yes</td>\n",
       "      <td>Yes</td>\n",
       "      <td>0</td>\n",
       "      <td>Yes</td>\n",
       "      <td>Yes</td>\n",
       "      <td>DSL</td>\n",
       "      <td>No</td>\n",
       "      <td>...</td>\n",
       "      <td>Yes</td>\n",
       "      <td>Yes</td>\n",
       "      <td>Yes</td>\n",
       "      <td>No</td>\n",
       "      <td>Two year</td>\n",
       "      <td>No</td>\n",
       "      <td>Mailed check</td>\n",
       "      <td>73.35</td>\n",
       "      <td></td>\n",
       "      <td>0</td>\n",
       "    </tr>\n",
       "    <tr>\n",
       "      <th>6754</th>\n",
       "      <td>2775-SEFEE</td>\n",
       "      <td>Male</td>\n",
       "      <td>0</td>\n",
       "      <td>No</td>\n",
       "      <td>Yes</td>\n",
       "      <td>0</td>\n",
       "      <td>Yes</td>\n",
       "      <td>Yes</td>\n",
       "      <td>DSL</td>\n",
       "      <td>Yes</td>\n",
       "      <td>...</td>\n",
       "      <td>No</td>\n",
       "      <td>Yes</td>\n",
       "      <td>No</td>\n",
       "      <td>No</td>\n",
       "      <td>Two year</td>\n",
       "      <td>Yes</td>\n",
       "      <td>Bank transfer (automatic)</td>\n",
       "      <td>61.90</td>\n",
       "      <td></td>\n",
       "      <td>0</td>\n",
       "    </tr>\n",
       "  </tbody>\n",
       "</table>\n",
       "<p>11 rows × 21 columns</p>\n",
       "</div>"
      ],
      "text/plain": [
       "      customerid  gender  seniorcitizen partner dependents  tenure  \\\n",
       "488   4472-LVYGI  Female              0     Yes        Yes       0   \n",
       "753   3115-CZMZD    Male              0      No        Yes       0   \n",
       "936   5709-LVOEQ  Female              0     Yes        Yes       0   \n",
       "1082  4367-NUYAO    Male              0     Yes        Yes       0   \n",
       "1340  1371-DWPAZ  Female              0     Yes        Yes       0   \n",
       "3331  7644-OMVMY    Male              0     Yes        Yes       0   \n",
       "3826  3213-VVOLG    Male              0     Yes        Yes       0   \n",
       "4380  2520-SGTTA  Female              0     Yes        Yes       0   \n",
       "5218  2923-ARZLG    Male              0     Yes        Yes       0   \n",
       "6670  4075-WKNIU  Female              0     Yes        Yes       0   \n",
       "6754  2775-SEFEE    Male              0      No        Yes       0   \n",
       "\n",
       "     phoneservice     multiplelines internetservice       onlinesecurity  ...  \\\n",
       "488            No  No phone service             DSL                  Yes  ...   \n",
       "753           Yes                No              No  No internet service  ...   \n",
       "936           Yes                No             DSL                  Yes  ...   \n",
       "1082          Yes               Yes              No  No internet service  ...   \n",
       "1340           No  No phone service             DSL                  Yes  ...   \n",
       "3331          Yes                No              No  No internet service  ...   \n",
       "3826          Yes               Yes              No  No internet service  ...   \n",
       "4380          Yes                No              No  No internet service  ...   \n",
       "5218          Yes                No              No  No internet service  ...   \n",
       "6670          Yes               Yes             DSL                   No  ...   \n",
       "6754          Yes               Yes             DSL                  Yes  ...   \n",
       "\n",
       "         deviceprotection          techsupport          streamingtv  \\\n",
       "488                   Yes                  Yes                  Yes   \n",
       "753   No internet service  No internet service  No internet service   \n",
       "936                   Yes                   No                  Yes   \n",
       "1082  No internet service  No internet service  No internet service   \n",
       "1340                  Yes                  Yes                  Yes   \n",
       "3331  No internet service  No internet service  No internet service   \n",
       "3826  No internet service  No internet service  No internet service   \n",
       "4380  No internet service  No internet service  No internet service   \n",
       "5218  No internet service  No internet service  No internet service   \n",
       "6670                  Yes                  Yes                  Yes   \n",
       "6754                   No                  Yes                   No   \n",
       "\n",
       "          streamingmovies  contract paperlessbilling  \\\n",
       "488                    No  Two year              Yes   \n",
       "753   No internet service  Two year               No   \n",
       "936                   Yes  Two year               No   \n",
       "1082  No internet service  Two year               No   \n",
       "1340                   No  Two year               No   \n",
       "3331  No internet service  Two year               No   \n",
       "3826  No internet service  Two year               No   \n",
       "4380  No internet service  Two year               No   \n",
       "5218  No internet service  One year              Yes   \n",
       "6670                   No  Two year               No   \n",
       "6754                   No  Two year              Yes   \n",
       "\n",
       "                  paymentmethod monthlycharges  totalcharges churn  \n",
       "488   Bank transfer (automatic)          52.55                   0  \n",
       "753                Mailed check          20.25                   0  \n",
       "936                Mailed check          80.85                   0  \n",
       "1082               Mailed check          25.75                   0  \n",
       "1340    Credit card (automatic)          56.05                   0  \n",
       "3331               Mailed check          19.85                   0  \n",
       "3826               Mailed check          25.35                   0  \n",
       "4380               Mailed check          20.00                   0  \n",
       "5218               Mailed check          19.70                   0  \n",
       "6670               Mailed check          73.35                   0  \n",
       "6754  Bank transfer (automatic)          61.90                   0  \n",
       "\n",
       "[11 rows x 21 columns]"
      ]
     },
     "execution_count": 13,
     "metadata": {},
     "output_type": "execute_result"
    }
   ],
   "source": [
    "# viewing columns with  ' ' empty space. \n",
    "telco_data.query(\"totalcharges == ' '\")"
   ]
  },
  {
   "cell_type": "code",
   "execution_count": 14,
   "id": "0c9bdb8c",
   "metadata": {},
   "outputs": [
    {
     "data": {
      "text/html": [
       "<div>\n",
       "<style scoped>\n",
       "    .dataframe tbody tr th:only-of-type {\n",
       "        vertical-align: middle;\n",
       "    }\n",
       "\n",
       "    .dataframe tbody tr th {\n",
       "        vertical-align: top;\n",
       "    }\n",
       "\n",
       "    .dataframe thead th {\n",
       "        text-align: right;\n",
       "    }\n",
       "</style>\n",
       "<table border=\"1\" class=\"dataframe\">\n",
       "  <thead>\n",
       "    <tr style=\"text-align: right;\">\n",
       "      <th></th>\n",
       "      <th>customerid</th>\n",
       "      <th>gender</th>\n",
       "      <th>seniorcitizen</th>\n",
       "      <th>partner</th>\n",
       "      <th>dependents</th>\n",
       "      <th>tenure</th>\n",
       "      <th>phoneservice</th>\n",
       "      <th>multiplelines</th>\n",
       "      <th>internetservice</th>\n",
       "      <th>onlinesecurity</th>\n",
       "      <th>...</th>\n",
       "      <th>deviceprotection</th>\n",
       "      <th>techsupport</th>\n",
       "      <th>streamingtv</th>\n",
       "      <th>streamingmovies</th>\n",
       "      <th>contract</th>\n",
       "      <th>paperlessbilling</th>\n",
       "      <th>paymentmethod</th>\n",
       "      <th>monthlycharges</th>\n",
       "      <th>totalcharges</th>\n",
       "      <th>churn</th>\n",
       "    </tr>\n",
       "  </thead>\n",
       "  <tbody>\n",
       "  </tbody>\n",
       "</table>\n",
       "<p>0 rows × 21 columns</p>\n",
       "</div>"
      ],
      "text/plain": [
       "Empty DataFrame\n",
       "Columns: [customerid, gender, seniorcitizen, partner, dependents, tenure, phoneservice, multiplelines, internetservice, onlinesecurity, onlinebackup, deviceprotection, techsupport, streamingtv, streamingmovies, contract, paperlessbilling, paymentmethod, monthlycharges, totalcharges, churn]\n",
       "Index: []\n",
       "\n",
       "[0 rows x 21 columns]"
      ]
     },
     "execution_count": 14,
     "metadata": {},
     "output_type": "execute_result"
    }
   ],
   "source": [
    "# Replacing ' ' with 0\n",
    "telco_data['totalcharges'] = telco_data['totalcharges'].replace(' ', 0)\n",
    "\n",
    "# checking for ' ' in Total Charges column. \n",
    "telco_data.query(\"totalcharges == ' '\")"
   ]
  },
  {
   "cell_type": "code",
   "execution_count": 15,
   "id": "690ef3f5",
   "metadata": {},
   "outputs": [
    {
     "data": {
      "text/plain": [
       "dtype('float64')"
      ]
     },
     "execution_count": 15,
     "metadata": {},
     "output_type": "execute_result"
    }
   ],
   "source": [
    "# Converting Total charges to float data type. \n",
    "telco_data['totalcharges'] = telco_data['totalcharges'].astype(float)\n",
    "\n",
    "# Checking Changes made. \n",
    "telco_data['totalcharges'].dtypes"
   ]
  },
  {
   "cell_type": "code",
   "execution_count": 16,
   "id": "1f6c5526",
   "metadata": {},
   "outputs": [
    {
     "data": {
      "text/plain": [
       "0"
      ]
     },
     "execution_count": 16,
     "metadata": {},
     "output_type": "execute_result"
    }
   ],
   "source": [
    "# Checking for duplicate\n",
    "telco_data.duplicated().sum()"
   ]
  },
  {
   "cell_type": "code",
   "execution_count": 17,
   "id": "b72dc202",
   "metadata": {},
   "outputs": [
    {
     "data": {
      "text/plain": [
       "Index(['gender', 'seniorcitizen', 'partner', 'dependents', 'tenure',\n",
       "       'phoneservice', 'multiplelines', 'internetservice', 'onlinesecurity',\n",
       "       'onlinebackup', 'deviceprotection', 'techsupport', 'streamingtv',\n",
       "       'streamingmovies', 'contract', 'paperlessbilling', 'paymentmethod',\n",
       "       'monthlycharges', 'totalcharges', 'churn'],\n",
       "      dtype='object')"
      ]
     },
     "execution_count": 17,
     "metadata": {},
     "output_type": "execute_result"
    }
   ],
   "source": [
    "# Removing columns that aren't useful.\n",
    "del telco_data['customerid']\n",
    "\n",
    "# Checking column list. \n",
    "telco_data.columns"
   ]
  },
  {
   "cell_type": "markdown",
   "id": "0886d25a",
   "metadata": {},
   "source": [
    "## Data Validataion. "
   ]
  },
  {
   "cell_type": "code",
   "execution_count": 18,
   "id": "ae4eb761",
   "metadata": {},
   "outputs": [],
   "source": [
    "# import sklearn data validation package. \n",
    "from sklearn.model_selection import train_test_split"
   ]
  },
  {
   "cell_type": "code",
   "execution_count": 19,
   "id": "54b3dbb4",
   "metadata": {},
   "outputs": [
    {
     "data": {
      "text/plain": [
       "Index(['gender', 'seniorcitizen', 'partner', 'dependents', 'tenure',\n",
       "       'phoneservice', 'multiplelines', 'internetservice', 'onlinesecurity',\n",
       "       'onlinebackup', 'deviceprotection', 'techsupport', 'streamingtv',\n",
       "       'streamingmovies', 'contract', 'paperlessbilling', 'paymentmethod',\n",
       "       'monthlycharges', 'totalcharges', 'churn'],\n",
       "      dtype='object')"
      ]
     },
     "execution_count": 19,
     "metadata": {},
     "output_type": "execute_result"
    }
   ],
   "source": [
    "telco_data.columns "
   ]
  },
  {
   "cell_type": "code",
   "execution_count": 20,
   "id": "3613ed6e",
   "metadata": {},
   "outputs": [
    {
     "data": {
      "text/plain": [
       "((5634, 20), (1409, 20))"
      ]
     },
     "execution_count": 20,
     "metadata": {},
     "output_type": "execute_result"
    }
   ],
   "source": [
    "# Spliting Data to train and test dataset. \n",
    "telco_full_train, telco_test = train_test_split(\n",
    "    telco_data, test_size = 0.2, random_state = 1)\n",
    "\n",
    "# Checking data shape\n",
    "telco_full_train.shape, telco_test.shape "
   ]
  },
  {
   "cell_type": "code",
   "execution_count": 21,
   "id": "fefa72dd",
   "metadata": {},
   "outputs": [
    {
     "data": {
      "text/plain": [
       "((4225, 20), (1409, 20))"
      ]
     },
     "execution_count": 21,
     "metadata": {},
     "output_type": "execute_result"
    }
   ],
   "source": [
    "# Spliting data into trianing and validataion dataset. \n",
    "telco_train, telco_val = train_test_split(\n",
    "    telco_full_train, test_size = 0.25, random_state = 1)\n",
    "\n",
    "\n",
    "# Checking data shape\n",
    "telco_train.shape, telco_val.shape "
   ]
  },
  {
   "cell_type": "code",
   "execution_count": 34,
   "id": "56984e49",
   "metadata": {},
   "outputs": [
    {
     "ename": "KeyError",
     "evalue": "'churn'",
     "output_type": "error",
     "traceback": [
      "\u001b[1;31m---------------------------------------------------------------------------\u001b[0m",
      "\u001b[1;31mKeyError\u001b[0m                                  Traceback (most recent call last)",
      "File \u001b[1;32m~\\anaconda3\\envs\\ml-zoomcamp\\lib\\site-packages\\pandas\\core\\indexes\\base.py:3621\u001b[0m, in \u001b[0;36mIndex.get_loc\u001b[1;34m(self, key, method, tolerance)\u001b[0m\n\u001b[0;32m   3620\u001b[0m \u001b[38;5;28;01mtry\u001b[39;00m:\n\u001b[1;32m-> 3621\u001b[0m     \u001b[38;5;28;01mreturn\u001b[39;00m \u001b[38;5;28;43mself\u001b[39;49m\u001b[38;5;241;43m.\u001b[39;49m\u001b[43m_engine\u001b[49m\u001b[38;5;241;43m.\u001b[39;49m\u001b[43mget_loc\u001b[49m\u001b[43m(\u001b[49m\u001b[43mcasted_key\u001b[49m\u001b[43m)\u001b[49m\n\u001b[0;32m   3622\u001b[0m \u001b[38;5;28;01mexcept\u001b[39;00m \u001b[38;5;167;01mKeyError\u001b[39;00m \u001b[38;5;28;01mas\u001b[39;00m err:\n",
      "File \u001b[1;32m~\\anaconda3\\envs\\ml-zoomcamp\\lib\\site-packages\\pandas\\_libs\\index.pyx:136\u001b[0m, in \u001b[0;36mpandas._libs.index.IndexEngine.get_loc\u001b[1;34m()\u001b[0m\n",
      "File \u001b[1;32m~\\anaconda3\\envs\\ml-zoomcamp\\lib\\site-packages\\pandas\\_libs\\index.pyx:163\u001b[0m, in \u001b[0;36mpandas._libs.index.IndexEngine.get_loc\u001b[1;34m()\u001b[0m\n",
      "File \u001b[1;32mpandas\\_libs\\hashtable_class_helper.pxi:5198\u001b[0m, in \u001b[0;36mpandas._libs.hashtable.PyObjectHashTable.get_item\u001b[1;34m()\u001b[0m\n",
      "File \u001b[1;32mpandas\\_libs\\hashtable_class_helper.pxi:5206\u001b[0m, in \u001b[0;36mpandas._libs.hashtable.PyObjectHashTable.get_item\u001b[1;34m()\u001b[0m\n",
      "\u001b[1;31mKeyError\u001b[0m: 'churn'",
      "\nThe above exception was the direct cause of the following exception:\n",
      "\u001b[1;31mKeyError\u001b[0m                                  Traceback (most recent call last)",
      "Input \u001b[1;32mIn [34]\u001b[0m, in \u001b[0;36m<cell line: 2>\u001b[1;34m()\u001b[0m\n\u001b[0;32m      1\u001b[0m \u001b[38;5;66;03m# Extrat Y feature from each of the dataset.\u001b[39;00m\n\u001b[1;32m----> 2\u001b[0m telco_full_ytrain \u001b[38;5;241m=\u001b[39m \u001b[43mtelco_full_train\u001b[49m\u001b[43m[\u001b[49m\u001b[38;5;124;43m'\u001b[39;49m\u001b[38;5;124;43mchurn\u001b[39;49m\u001b[38;5;124;43m'\u001b[39;49m\u001b[43m]\u001b[49m\n\u001b[0;32m      3\u001b[0m telco_ytrain \u001b[38;5;241m=\u001b[39m telco_train[\u001b[38;5;124m'\u001b[39m\u001b[38;5;124mchurn\u001b[39m\u001b[38;5;124m'\u001b[39m]\n\u001b[0;32m      4\u001b[0m telco_yval \u001b[38;5;241m=\u001b[39m telco_val[\u001b[38;5;124m'\u001b[39m\u001b[38;5;124mchurn\u001b[39m\u001b[38;5;124m'\u001b[39m]\n",
      "File \u001b[1;32m~\\anaconda3\\envs\\ml-zoomcamp\\lib\\site-packages\\pandas\\core\\frame.py:3505\u001b[0m, in \u001b[0;36mDataFrame.__getitem__\u001b[1;34m(self, key)\u001b[0m\n\u001b[0;32m   3503\u001b[0m \u001b[38;5;28;01mif\u001b[39;00m \u001b[38;5;28mself\u001b[39m\u001b[38;5;241m.\u001b[39mcolumns\u001b[38;5;241m.\u001b[39mnlevels \u001b[38;5;241m>\u001b[39m \u001b[38;5;241m1\u001b[39m:\n\u001b[0;32m   3504\u001b[0m     \u001b[38;5;28;01mreturn\u001b[39;00m \u001b[38;5;28mself\u001b[39m\u001b[38;5;241m.\u001b[39m_getitem_multilevel(key)\n\u001b[1;32m-> 3505\u001b[0m indexer \u001b[38;5;241m=\u001b[39m \u001b[38;5;28;43mself\u001b[39;49m\u001b[38;5;241;43m.\u001b[39;49m\u001b[43mcolumns\u001b[49m\u001b[38;5;241;43m.\u001b[39;49m\u001b[43mget_loc\u001b[49m\u001b[43m(\u001b[49m\u001b[43mkey\u001b[49m\u001b[43m)\u001b[49m\n\u001b[0;32m   3506\u001b[0m \u001b[38;5;28;01mif\u001b[39;00m is_integer(indexer):\n\u001b[0;32m   3507\u001b[0m     indexer \u001b[38;5;241m=\u001b[39m [indexer]\n",
      "File \u001b[1;32m~\\anaconda3\\envs\\ml-zoomcamp\\lib\\site-packages\\pandas\\core\\indexes\\base.py:3623\u001b[0m, in \u001b[0;36mIndex.get_loc\u001b[1;34m(self, key, method, tolerance)\u001b[0m\n\u001b[0;32m   3621\u001b[0m     \u001b[38;5;28;01mreturn\u001b[39;00m \u001b[38;5;28mself\u001b[39m\u001b[38;5;241m.\u001b[39m_engine\u001b[38;5;241m.\u001b[39mget_loc(casted_key)\n\u001b[0;32m   3622\u001b[0m \u001b[38;5;28;01mexcept\u001b[39;00m \u001b[38;5;167;01mKeyError\u001b[39;00m \u001b[38;5;28;01mas\u001b[39;00m err:\n\u001b[1;32m-> 3623\u001b[0m     \u001b[38;5;28;01mraise\u001b[39;00m \u001b[38;5;167;01mKeyError\u001b[39;00m(key) \u001b[38;5;28;01mfrom\u001b[39;00m \u001b[38;5;21;01merr\u001b[39;00m\n\u001b[0;32m   3624\u001b[0m \u001b[38;5;28;01mexcept\u001b[39;00m \u001b[38;5;167;01mTypeError\u001b[39;00m:\n\u001b[0;32m   3625\u001b[0m     \u001b[38;5;66;03m# If we have a listlike key, _check_indexing_error will raise\u001b[39;00m\n\u001b[0;32m   3626\u001b[0m     \u001b[38;5;66;03m#  InvalidIndexError. Otherwise we fall through and re-raise\u001b[39;00m\n\u001b[0;32m   3627\u001b[0m     \u001b[38;5;66;03m#  the TypeError.\u001b[39;00m\n\u001b[0;32m   3628\u001b[0m     \u001b[38;5;28mself\u001b[39m\u001b[38;5;241m.\u001b[39m_check_indexing_error(key)\n",
      "\u001b[1;31mKeyError\u001b[0m: 'churn'"
     ]
    }
   ],
   "source": [
    "# Extrat Y feature from each of the dataset.\n",
    "telco_full_ytrain = telco_full_train['churn']\n",
    "telco_ytrain = telco_train['churn']\n",
    "telco_yval = telco_val['churn']\n",
    "telco_ytest = telco_test['churn']\n",
    "\n",
    "# Delete y from main dataset. \n",
    "del telco_full_train['churn']\n",
    "del telco_train['churn']\n",
    "del telco_val['churn']\n",
    "del telco_test['churn']\n",
    "\n",
    "# Checking the columns for each dataset. \n",
    "print(telco_full_train.columns, '\\n')\n",
    "print(telco_train.columns, '\\n')\n",
    "print(telco_val.columns, '\\n')\n",
    "print(telco_test.columns, '\\n')\n"
   ]
  },
  {
   "cell_type": "markdown",
   "id": "e0d2ed88",
   "metadata": {},
   "source": [
    "## Exploratory Data Analysis (EDA)."
   ]
  },
  {
   "cell_type": "code",
   "execution_count": 23,
   "id": "1a1eb2f6",
   "metadata": {},
   "outputs": [
    {
     "data": {
      "text/plain": [
       "gender              0\n",
       "seniorcitizen       0\n",
       "partner             0\n",
       "dependents          0\n",
       "tenure              0\n",
       "phoneservice        0\n",
       "multiplelines       0\n",
       "internetservice     0\n",
       "onlinesecurity      0\n",
       "onlinebackup        0\n",
       "deviceprotection    0\n",
       "techsupport         0\n",
       "streamingtv         0\n",
       "streamingmovies     0\n",
       "contract            0\n",
       "paperlessbilling    0\n",
       "paymentmethod       0\n",
       "monthlycharges      0\n",
       "totalcharges        0\n",
       "dtype: int64"
      ]
     },
     "execution_count": 23,
     "metadata": {},
     "output_type": "execute_result"
    }
   ],
   "source": [
    "# Checking for the present of null values.\n",
    "telco_train.isna().sum()"
   ]
  },
  {
   "cell_type": "code",
   "execution_count": 24,
   "id": "2f0075ac",
   "metadata": {},
   "outputs": [
    {
     "data": {
      "text/plain": [
       "0    0.73\n",
       "1    0.27\n",
       "Name: churn, dtype: float64"
      ]
     },
     "execution_count": 24,
     "metadata": {},
     "output_type": "execute_result"
    }
   ],
   "source": [
    "# Viewing the target feature distribution.\n",
    "telco_data['churn'].value_counts(normalize = True).round(2)"
   ]
  },
  {
   "cell_type": "code",
   "execution_count": 25,
   "id": "a867e094",
   "metadata": {},
   "outputs": [
    {
     "name": "stdout",
     "output_type": "stream",
     "text": [
      "<class 'pandas.core.frame.DataFrame'>\n",
      "RangeIndex: 7043 entries, 0 to 7042\n",
      "Data columns (total 20 columns):\n",
      " #   Column            Non-Null Count  Dtype  \n",
      "---  ------            --------------  -----  \n",
      " 0   gender            7043 non-null   object \n",
      " 1   seniorcitizen     7043 non-null   int64  \n",
      " 2   partner           7043 non-null   object \n",
      " 3   dependents        7043 non-null   object \n",
      " 4   tenure            7043 non-null   int64  \n",
      " 5   phoneservice      7043 non-null   object \n",
      " 6   multiplelines     7043 non-null   object \n",
      " 7   internetservice   7043 non-null   object \n",
      " 8   onlinesecurity    7043 non-null   object \n",
      " 9   onlinebackup      7043 non-null   object \n",
      " 10  deviceprotection  7043 non-null   object \n",
      " 11  techsupport       7043 non-null   object \n",
      " 12  streamingtv       7043 non-null   object \n",
      " 13  streamingmovies   7043 non-null   object \n",
      " 14  contract          7043 non-null   object \n",
      " 15  paperlessbilling  7043 non-null   object \n",
      " 16  paymentmethod     7043 non-null   object \n",
      " 17  monthlycharges    7043 non-null   float64\n",
      " 18  totalcharges      7043 non-null   float64\n",
      " 19  churn             7043 non-null   int32  \n",
      "dtypes: float64(2), int32(1), int64(2), object(15)\n",
      "memory usage: 1.0+ MB\n"
     ]
    }
   ],
   "source": [
    "# Viewing the data structure for dataset. \n",
    "telco_data.info()"
   ]
  },
  {
   "cell_type": "code",
   "execution_count": 26,
   "id": "5ba78e6a",
   "metadata": {},
   "outputs": [
    {
     "name": "stdout",
     "output_type": "stream",
     "text": [
      "0    5901\n",
      "1    1142\n",
      "Name: seniorcitizen, dtype: int64\n"
     ]
    }
   ],
   "source": [
    "# checking seniorcitizen break down.\n",
    "print(telco_data.seniorcitizen.value_counts())\n",
    "\n",
    "# converting data type to object. \n",
    "telco_data['seniorcitizen'] = telco_data['seniorcitizen'].astype(object)\n",
    "telco_full_train['seniorcitizen'] = telco_full_train['seniorcitizen'].astype(object)\n",
    "telco_train['seniorcitizen'] = telco_train['seniorcitizen'].astype(object)\n",
    "telco_val['seniorcitizen'] = telco_val['seniorcitizen'].astype(object)\n",
    "telco_test['seniorcitizen'] = telco_test['seniorcitizen'].astype(object)"
   ]
  },
  {
   "cell_type": "code",
   "execution_count": 27,
   "id": "b6240216",
   "metadata": {},
   "outputs": [
    {
     "name": "stdout",
     "output_type": "stream",
     "text": [
      "<class 'pandas.core.series.Series'>\n",
      "RangeIndex: 7043 entries, 0 to 7042\n",
      "Series name: seniorcitizen\n",
      "Non-Null Count  Dtype \n",
      "--------------  ----- \n",
      "7043 non-null   object\n",
      "dtypes: object(1)\n",
      "memory usage: 55.1+ KB\n"
     ]
    }
   ],
   "source": [
    "# checking senior citizen data sturcture. \n",
    "telco_data['seniorcitizen'].info()"
   ]
  },
  {
   "cell_type": "code",
   "execution_count": 28,
   "id": "4bb7854d",
   "metadata": {},
   "outputs": [
    {
     "data": {
      "text/plain": [
       "gender               True\n",
       "seniorcitizen        True\n",
       "partner              True\n",
       "dependents           True\n",
       "tenure              False\n",
       "phoneservice         True\n",
       "multiplelines        True\n",
       "internetservice      True\n",
       "onlinesecurity       True\n",
       "onlinebackup         True\n",
       "deviceprotection     True\n",
       "techsupport          True\n",
       "streamingtv          True\n",
       "streamingmovies      True\n",
       "contract             True\n",
       "paperlessbilling     True\n",
       "paymentmethod        True\n",
       "monthlycharges      False\n",
       "totalcharges        False\n",
       "dtype: bool"
      ]
     },
     "execution_count": 28,
     "metadata": {},
     "output_type": "execute_result"
    }
   ],
   "source": [
    "telco_train.dtypes == 'object'"
   ]
  },
  {
   "cell_type": "code",
   "execution_count": 29,
   "id": "5193e922",
   "metadata": {},
   "outputs": [
    {
     "data": {
      "text/plain": [
       "['gender',\n",
       " 'seniorcitizen',\n",
       " 'partner',\n",
       " 'dependents',\n",
       " 'phoneservice',\n",
       " 'multiplelines',\n",
       " 'internetservice',\n",
       " 'onlinesecurity',\n",
       " 'onlinebackup',\n",
       " 'deviceprotection',\n",
       " 'techsupport',\n",
       " 'streamingtv',\n",
       " 'streamingmovies',\n",
       " 'contract',\n",
       " 'paperlessbilling',\n",
       " 'paymentmethod']"
      ]
     },
     "execution_count": 29,
     "metadata": {},
     "output_type": "execute_result"
    }
   ],
   "source": [
    "# Grouping the data by data struture. \n",
    "\n",
    "# Object or categorical features. \n",
    "categorical = telco_train.columns[telco_train.dtypes == 'object'].to_list()\n",
    "\n",
    "# Checking the list\n",
    "categorical"
   ]
  },
  {
   "cell_type": "code",
   "execution_count": 30,
   "id": "00d8d7f3",
   "metadata": {},
   "outputs": [
    {
     "data": {
      "text/plain": [
       "['tenure', 'monthlycharges', 'totalcharges']"
      ]
     },
     "execution_count": 30,
     "metadata": {},
     "output_type": "execute_result"
    }
   ],
   "source": [
    "# Numerical features. \n",
    "numeric = telco_train.columns[telco_train.dtypes != 'object'].to_list()\n",
    "\n",
    "# Checking the list\n",
    "numeric"
   ]
  },
  {
   "cell_type": "code",
   "execution_count": 31,
   "id": "8b5849b9",
   "metadata": {},
   "outputs": [
    {
     "name": "stdout",
     "output_type": "stream",
     "text": [
      "Male      0.5\n",
      "Female    0.5\n",
      "Name: gender, dtype: float64 \n",
      "\n",
      "\n",
      "0    0.84\n",
      "1    0.16\n",
      "Name: seniorcitizen, dtype: float64 \n",
      "\n",
      "\n",
      "No     0.52\n",
      "Yes    0.48\n",
      "Name: partner, dtype: float64 \n",
      "\n",
      "\n",
      "No     0.7\n",
      "Yes    0.3\n",
      "Name: dependents, dtype: float64 \n",
      "\n",
      "\n",
      "Yes    0.9\n",
      "No     0.1\n",
      "Name: phoneservice, dtype: float64 \n",
      "\n",
      "\n",
      "No                  0.48\n",
      "Yes                 0.42\n",
      "No phone service    0.10\n",
      "Name: multiplelines, dtype: float64 \n",
      "\n",
      "\n",
      "Fiber optic    0.44\n",
      "DSL            0.34\n",
      "No             0.22\n",
      "Name: internetservice, dtype: float64 \n",
      "\n",
      "\n",
      "No                     0.50\n",
      "Yes                    0.29\n",
      "No internet service    0.22\n",
      "Name: onlinesecurity, dtype: float64 \n",
      "\n",
      "\n",
      "No                     0.44\n",
      "Yes                    0.34\n",
      "No internet service    0.22\n",
      "Name: onlinebackup, dtype: float64 \n",
      "\n",
      "\n",
      "No                     0.44\n",
      "Yes                    0.34\n",
      "No internet service    0.22\n",
      "Name: deviceprotection, dtype: float64 \n",
      "\n",
      "\n",
      "No                     0.49\n",
      "Yes                    0.29\n",
      "No internet service    0.22\n",
      "Name: techsupport, dtype: float64 \n",
      "\n",
      "\n",
      "No                     0.40\n",
      "Yes                    0.38\n",
      "No internet service    0.22\n",
      "Name: streamingtv, dtype: float64 \n",
      "\n",
      "\n",
      "No                     0.40\n",
      "Yes                    0.39\n",
      "No internet service    0.22\n",
      "Name: streamingmovies, dtype: float64 \n",
      "\n",
      "\n",
      "Month-to-month    0.55\n",
      "Two year          0.24\n",
      "One year          0.21\n",
      "Name: contract, dtype: float64 \n",
      "\n",
      "\n",
      "Yes    0.59\n",
      "No     0.41\n",
      "Name: paperlessbilling, dtype: float64 \n",
      "\n",
      "\n",
      "Electronic check             0.34\n",
      "Mailed check                 0.23\n",
      "Bank transfer (automatic)    0.22\n",
      "Credit card (automatic)      0.22\n",
      "Name: paymentmethod, dtype: float64 \n",
      "\n",
      "\n"
     ]
    }
   ],
   "source": [
    "# Checking the distribution of categorical features.\n",
    "for col in categorical:\n",
    "    print(telco_data[col].value_counts(normalize = True).round(2), '\\n\\n')\n",
    "    "
   ]
  },
  {
   "cell_type": "code",
   "execution_count": 57,
   "id": "abdabc60",
   "metadata": {},
   "outputs": [
    {
     "name": "stdout",
     "output_type": "stream",
     "text": [
      "count    7043.000000\n",
      "mean       32.371149\n",
      "std        24.559481\n",
      "min         0.000000\n",
      "25%         9.000000\n",
      "50%        29.000000\n",
      "75%        55.000000\n",
      "max        72.000000\n",
      "Name: tenure, dtype: float64 \n",
      "\n",
      "\n",
      "count    7043.000000\n",
      "mean       64.761692\n",
      "std        30.090047\n",
      "min        18.250000\n",
      "25%        35.500000\n",
      "50%        70.350000\n",
      "75%        89.850000\n",
      "max       118.750000\n",
      "Name: monthlycharges, dtype: float64 \n",
      "\n",
      "\n",
      "count    7043.000000\n",
      "mean     2279.734304\n",
      "std      2266.794470\n",
      "min         0.000000\n",
      "25%       398.550000\n",
      "50%      1394.550000\n",
      "75%      3786.600000\n",
      "max      8684.800000\n",
      "Name: totalcharges, dtype: float64 \n",
      "\n",
      "\n"
     ]
    }
   ],
   "source": [
    "# Checking the distribution of numeric feature.\n",
    "for col in numeric: \n",
    "    print(telco_data[col].describe(), '\\n\\n')"
   ]
  },
  {
   "cell_type": "markdown",
   "id": "9c326673",
   "metadata": {},
   "source": [
    "## Feature Importance. "
   ]
  },
  {
   "cell_type": "code",
   "execution_count": 58,
   "id": "87363843",
   "metadata": {},
   "outputs": [
    {
     "data": {
      "text/plain": [
       "0.2653698707936959"
      ]
     },
     "execution_count": 58,
     "metadata": {},
     "output_type": "execute_result"
    }
   ],
   "source": [
    "# What is the mean Global churn rate \n",
    "glober_churn = telco_data.churn.mean()\n",
    "\n",
    "# Check value. \n",
    "glober_churn"
   ]
  },
  {
   "cell_type": "code",
   "execution_count": 59,
   "id": "e736c868",
   "metadata": {},
   "outputs": [
    {
     "data": {
      "text/plain": [
       "contract\n",
       "Month-to-month    0.427097\n",
       "One year          0.112695\n",
       "Two year          0.028319\n",
       "Name: churn, dtype: float64"
      ]
     },
     "execution_count": 59,
     "metadata": {},
     "output_type": "execute_result"
    }
   ],
   "source": [
    "# Checking the mean of contract\n",
    "contract_churn = telco_data.groupby('contract')['churn'].mean()\n",
    "contract_churn"
   ]
  },
  {
   "cell_type": "code",
   "execution_count": 61,
   "id": "97da4b7e",
   "metadata": {},
   "outputs": [
    {
     "data": {
      "text/plain": [
       "contract\n",
       "Month-to-month   -0.161727\n",
       "One year          0.152675\n",
       "Two year          0.237051\n",
       "Name: churn, dtype: float64"
      ]
     },
     "execution_count": 61,
     "metadata": {},
     "output_type": "execute_result"
    }
   ],
   "source": [
    "# Get the mean difference \n",
    "mean_diff = glober_churn - contract_churn\n",
    "\n",
    "# Check the values.\n",
    "mean_diff"
   ]
  },
  {
   "cell_type": "markdown",
   "id": "617cdcdc",
   "metadata": {},
   "source": [
    ">This implies that customer that have a month to month plan are more likely to churn than customers with one or two years contract. "
   ]
  },
  {
   "cell_type": "code",
   "execution_count": 62,
   "id": "053a87b8",
   "metadata": {},
   "outputs": [
    {
     "data": {
      "text/plain": [
       "contract\n",
       "Month-to-month    1.609440\n",
       "One year          0.424672\n",
       "Two year          0.106714\n",
       "Name: churn, dtype: float64"
      ]
     },
     "execution_count": 62,
     "metadata": {},
     "output_type": "execute_result"
    }
   ],
   "source": [
    "# Using risk ratio to derive relationship.\n",
    "risk_ratio = contract_churn/glober_churn\n",
    "\n",
    "# Check the values. \n",
    "risk_ratio"
   ]
  },
  {
   "cell_type": "markdown",
   "id": "2b5e0ad5",
   "metadata": {},
   "source": [
    "> The above reinforce that that customers with a month to month contract are more likely to churn than customers with a one year contract, of which are also more likely to churn than customers with a two year contract. "
   ]
  },
  {
   "cell_type": "code",
   "execution_count": 69,
   "id": "56c029a3",
   "metadata": {},
   "outputs": [
    {
     "name": "stdout",
     "output_type": "stream",
     "text": [
      "gender\n"
     ]
    },
    {
     "data": {
      "text/html": [
       "<div>\n",
       "<style scoped>\n",
       "    .dataframe tbody tr th:only-of-type {\n",
       "        vertical-align: middle;\n",
       "    }\n",
       "\n",
       "    .dataframe tbody tr th {\n",
       "        vertical-align: top;\n",
       "    }\n",
       "\n",
       "    .dataframe thead th {\n",
       "        text-align: right;\n",
       "    }\n",
       "</style>\n",
       "<table border=\"1\" class=\"dataframe\">\n",
       "  <thead>\n",
       "    <tr style=\"text-align: right;\">\n",
       "      <th></th>\n",
       "      <th>mean</th>\n",
       "      <th>count</th>\n",
       "      <th>mean_diff</th>\n",
       "      <th>risk_ratio</th>\n",
       "    </tr>\n",
       "    <tr>\n",
       "      <th>gender</th>\n",
       "      <th></th>\n",
       "      <th></th>\n",
       "      <th></th>\n",
       "      <th></th>\n",
       "    </tr>\n",
       "  </thead>\n",
       "  <tbody>\n",
       "    <tr>\n",
       "      <th>Female</th>\n",
       "      <td>0.269209</td>\n",
       "      <td>3488</td>\n",
       "      <td>-0.003839</td>\n",
       "      <td>1.014466</td>\n",
       "    </tr>\n",
       "    <tr>\n",
       "      <th>Male</th>\n",
       "      <td>0.261603</td>\n",
       "      <td>3555</td>\n",
       "      <td>0.003766</td>\n",
       "      <td>0.985807</td>\n",
       "    </tr>\n",
       "  </tbody>\n",
       "</table>\n",
       "</div>"
      ],
      "text/plain": [
       "            mean  count  mean_diff  risk_ratio\n",
       "gender                                        \n",
       "Female  0.269209   3488  -0.003839    1.014466\n",
       "Male    0.261603   3555   0.003766    0.985807"
      ]
     },
     "metadata": {},
     "output_type": "display_data"
    },
    {
     "name": "stdout",
     "output_type": "stream",
     "text": [
      "\n",
      "\n",
      "seniorcitizen\n"
     ]
    },
    {
     "data": {
      "text/html": [
       "<div>\n",
       "<style scoped>\n",
       "    .dataframe tbody tr th:only-of-type {\n",
       "        vertical-align: middle;\n",
       "    }\n",
       "\n",
       "    .dataframe tbody tr th {\n",
       "        vertical-align: top;\n",
       "    }\n",
       "\n",
       "    .dataframe thead th {\n",
       "        text-align: right;\n",
       "    }\n",
       "</style>\n",
       "<table border=\"1\" class=\"dataframe\">\n",
       "  <thead>\n",
       "    <tr style=\"text-align: right;\">\n",
       "      <th></th>\n",
       "      <th>mean</th>\n",
       "      <th>count</th>\n",
       "      <th>mean_diff</th>\n",
       "      <th>risk_ratio</th>\n",
       "    </tr>\n",
       "    <tr>\n",
       "      <th>seniorcitizen</th>\n",
       "      <th></th>\n",
       "      <th></th>\n",
       "      <th></th>\n",
       "      <th></th>\n",
       "    </tr>\n",
       "  </thead>\n",
       "  <tbody>\n",
       "    <tr>\n",
       "      <th>0</th>\n",
       "      <td>0.236062</td>\n",
       "      <td>5901</td>\n",
       "      <td>0.029308</td>\n",
       "      <td>0.889557</td>\n",
       "    </tr>\n",
       "    <tr>\n",
       "      <th>1</th>\n",
       "      <td>0.416813</td>\n",
       "      <td>1142</td>\n",
       "      <td>-0.151443</td>\n",
       "      <td>1.570686</td>\n",
       "    </tr>\n",
       "  </tbody>\n",
       "</table>\n",
       "</div>"
      ],
      "text/plain": [
       "                   mean  count  mean_diff  risk_ratio\n",
       "seniorcitizen                                        \n",
       "0              0.236062   5901   0.029308    0.889557\n",
       "1              0.416813   1142  -0.151443    1.570686"
      ]
     },
     "metadata": {},
     "output_type": "display_data"
    },
    {
     "name": "stdout",
     "output_type": "stream",
     "text": [
      "\n",
      "\n",
      "partner\n"
     ]
    },
    {
     "data": {
      "text/html": [
       "<div>\n",
       "<style scoped>\n",
       "    .dataframe tbody tr th:only-of-type {\n",
       "        vertical-align: middle;\n",
       "    }\n",
       "\n",
       "    .dataframe tbody tr th {\n",
       "        vertical-align: top;\n",
       "    }\n",
       "\n",
       "    .dataframe thead th {\n",
       "        text-align: right;\n",
       "    }\n",
       "</style>\n",
       "<table border=\"1\" class=\"dataframe\">\n",
       "  <thead>\n",
       "    <tr style=\"text-align: right;\">\n",
       "      <th></th>\n",
       "      <th>mean</th>\n",
       "      <th>count</th>\n",
       "      <th>mean_diff</th>\n",
       "      <th>risk_ratio</th>\n",
       "    </tr>\n",
       "    <tr>\n",
       "      <th>partner</th>\n",
       "      <th></th>\n",
       "      <th></th>\n",
       "      <th></th>\n",
       "      <th></th>\n",
       "    </tr>\n",
       "  </thead>\n",
       "  <tbody>\n",
       "    <tr>\n",
       "      <th>No</th>\n",
       "      <td>0.329580</td>\n",
       "      <td>3641</td>\n",
       "      <td>-0.064210</td>\n",
       "      <td>1.241964</td>\n",
       "    </tr>\n",
       "    <tr>\n",
       "      <th>Yes</th>\n",
       "      <td>0.196649</td>\n",
       "      <td>3402</td>\n",
       "      <td>0.068721</td>\n",
       "      <td>0.741038</td>\n",
       "    </tr>\n",
       "  </tbody>\n",
       "</table>\n",
       "</div>"
      ],
      "text/plain": [
       "             mean  count  mean_diff  risk_ratio\n",
       "partner                                        \n",
       "No       0.329580   3641  -0.064210    1.241964\n",
       "Yes      0.196649   3402   0.068721    0.741038"
      ]
     },
     "metadata": {},
     "output_type": "display_data"
    },
    {
     "name": "stdout",
     "output_type": "stream",
     "text": [
      "\n",
      "\n",
      "dependents\n"
     ]
    },
    {
     "data": {
      "text/html": [
       "<div>\n",
       "<style scoped>\n",
       "    .dataframe tbody tr th:only-of-type {\n",
       "        vertical-align: middle;\n",
       "    }\n",
       "\n",
       "    .dataframe tbody tr th {\n",
       "        vertical-align: top;\n",
       "    }\n",
       "\n",
       "    .dataframe thead th {\n",
       "        text-align: right;\n",
       "    }\n",
       "</style>\n",
       "<table border=\"1\" class=\"dataframe\">\n",
       "  <thead>\n",
       "    <tr style=\"text-align: right;\">\n",
       "      <th></th>\n",
       "      <th>mean</th>\n",
       "      <th>count</th>\n",
       "      <th>mean_diff</th>\n",
       "      <th>risk_ratio</th>\n",
       "    </tr>\n",
       "    <tr>\n",
       "      <th>dependents</th>\n",
       "      <th></th>\n",
       "      <th></th>\n",
       "      <th></th>\n",
       "      <th></th>\n",
       "    </tr>\n",
       "  </thead>\n",
       "  <tbody>\n",
       "    <tr>\n",
       "      <th>No</th>\n",
       "      <td>0.312791</td>\n",
       "      <td>4933</td>\n",
       "      <td>-0.047422</td>\n",
       "      <td>1.178700</td>\n",
       "    </tr>\n",
       "    <tr>\n",
       "      <th>Yes</th>\n",
       "      <td>0.154502</td>\n",
       "      <td>2110</td>\n",
       "      <td>0.110868</td>\n",
       "      <td>0.582215</td>\n",
       "    </tr>\n",
       "  </tbody>\n",
       "</table>\n",
       "</div>"
      ],
      "text/plain": [
       "                mean  count  mean_diff  risk_ratio\n",
       "dependents                                        \n",
       "No          0.312791   4933  -0.047422    1.178700\n",
       "Yes         0.154502   2110   0.110868    0.582215"
      ]
     },
     "metadata": {},
     "output_type": "display_data"
    },
    {
     "name": "stdout",
     "output_type": "stream",
     "text": [
      "\n",
      "\n",
      "phoneservice\n"
     ]
    },
    {
     "data": {
      "text/html": [
       "<div>\n",
       "<style scoped>\n",
       "    .dataframe tbody tr th:only-of-type {\n",
       "        vertical-align: middle;\n",
       "    }\n",
       "\n",
       "    .dataframe tbody tr th {\n",
       "        vertical-align: top;\n",
       "    }\n",
       "\n",
       "    .dataframe thead th {\n",
       "        text-align: right;\n",
       "    }\n",
       "</style>\n",
       "<table border=\"1\" class=\"dataframe\">\n",
       "  <thead>\n",
       "    <tr style=\"text-align: right;\">\n",
       "      <th></th>\n",
       "      <th>mean</th>\n",
       "      <th>count</th>\n",
       "      <th>mean_diff</th>\n",
       "      <th>risk_ratio</th>\n",
       "    </tr>\n",
       "    <tr>\n",
       "      <th>phoneservice</th>\n",
       "      <th></th>\n",
       "      <th></th>\n",
       "      <th></th>\n",
       "      <th></th>\n",
       "    </tr>\n",
       "  </thead>\n",
       "  <tbody>\n",
       "    <tr>\n",
       "      <th>No</th>\n",
       "      <td>0.249267</td>\n",
       "      <td>682</td>\n",
       "      <td>0.016103</td>\n",
       "      <td>0.939319</td>\n",
       "    </tr>\n",
       "    <tr>\n",
       "      <th>Yes</th>\n",
       "      <td>0.267096</td>\n",
       "      <td>6361</td>\n",
       "      <td>-0.001726</td>\n",
       "      <td>1.006506</td>\n",
       "    </tr>\n",
       "  </tbody>\n",
       "</table>\n",
       "</div>"
      ],
      "text/plain": [
       "                  mean  count  mean_diff  risk_ratio\n",
       "phoneservice                                        \n",
       "No            0.249267    682   0.016103    0.939319\n",
       "Yes           0.267096   6361  -0.001726    1.006506"
      ]
     },
     "metadata": {},
     "output_type": "display_data"
    },
    {
     "name": "stdout",
     "output_type": "stream",
     "text": [
      "\n",
      "\n",
      "multiplelines\n"
     ]
    },
    {
     "data": {
      "text/html": [
       "<div>\n",
       "<style scoped>\n",
       "    .dataframe tbody tr th:only-of-type {\n",
       "        vertical-align: middle;\n",
       "    }\n",
       "\n",
       "    .dataframe tbody tr th {\n",
       "        vertical-align: top;\n",
       "    }\n",
       "\n",
       "    .dataframe thead th {\n",
       "        text-align: right;\n",
       "    }\n",
       "</style>\n",
       "<table border=\"1\" class=\"dataframe\">\n",
       "  <thead>\n",
       "    <tr style=\"text-align: right;\">\n",
       "      <th></th>\n",
       "      <th>mean</th>\n",
       "      <th>count</th>\n",
       "      <th>mean_diff</th>\n",
       "      <th>risk_ratio</th>\n",
       "    </tr>\n",
       "    <tr>\n",
       "      <th>multiplelines</th>\n",
       "      <th></th>\n",
       "      <th></th>\n",
       "      <th></th>\n",
       "      <th></th>\n",
       "    </tr>\n",
       "  </thead>\n",
       "  <tbody>\n",
       "    <tr>\n",
       "      <th>No</th>\n",
       "      <td>0.250442</td>\n",
       "      <td>3390</td>\n",
       "      <td>0.014927</td>\n",
       "      <td>0.943749</td>\n",
       "    </tr>\n",
       "    <tr>\n",
       "      <th>No phone service</th>\n",
       "      <td>0.249267</td>\n",
       "      <td>682</td>\n",
       "      <td>0.016103</td>\n",
       "      <td>0.939319</td>\n",
       "    </tr>\n",
       "    <tr>\n",
       "      <th>Yes</th>\n",
       "      <td>0.286099</td>\n",
       "      <td>2971</td>\n",
       "      <td>-0.020729</td>\n",
       "      <td>1.078114</td>\n",
       "    </tr>\n",
       "  </tbody>\n",
       "</table>\n",
       "</div>"
      ],
      "text/plain": [
       "                      mean  count  mean_diff  risk_ratio\n",
       "multiplelines                                           \n",
       "No                0.250442   3390   0.014927    0.943749\n",
       "No phone service  0.249267    682   0.016103    0.939319\n",
       "Yes               0.286099   2971  -0.020729    1.078114"
      ]
     },
     "metadata": {},
     "output_type": "display_data"
    },
    {
     "name": "stdout",
     "output_type": "stream",
     "text": [
      "\n",
      "\n",
      "internetservice\n"
     ]
    },
    {
     "data": {
      "text/html": [
       "<div>\n",
       "<style scoped>\n",
       "    .dataframe tbody tr th:only-of-type {\n",
       "        vertical-align: middle;\n",
       "    }\n",
       "\n",
       "    .dataframe tbody tr th {\n",
       "        vertical-align: top;\n",
       "    }\n",
       "\n",
       "    .dataframe thead th {\n",
       "        text-align: right;\n",
       "    }\n",
       "</style>\n",
       "<table border=\"1\" class=\"dataframe\">\n",
       "  <thead>\n",
       "    <tr style=\"text-align: right;\">\n",
       "      <th></th>\n",
       "      <th>mean</th>\n",
       "      <th>count</th>\n",
       "      <th>mean_diff</th>\n",
       "      <th>risk_ratio</th>\n",
       "    </tr>\n",
       "    <tr>\n",
       "      <th>internetservice</th>\n",
       "      <th></th>\n",
       "      <th></th>\n",
       "      <th></th>\n",
       "      <th></th>\n",
       "    </tr>\n",
       "  </thead>\n",
       "  <tbody>\n",
       "    <tr>\n",
       "      <th>DSL</th>\n",
       "      <td>0.189591</td>\n",
       "      <td>2421</td>\n",
       "      <td>0.075779</td>\n",
       "      <td>0.714441</td>\n",
       "    </tr>\n",
       "    <tr>\n",
       "      <th>Fiber optic</th>\n",
       "      <td>0.418928</td>\n",
       "      <td>3096</td>\n",
       "      <td>-0.153558</td>\n",
       "      <td>1.578656</td>\n",
       "    </tr>\n",
       "    <tr>\n",
       "      <th>No</th>\n",
       "      <td>0.074050</td>\n",
       "      <td>1526</td>\n",
       "      <td>0.191320</td>\n",
       "      <td>0.279044</td>\n",
       "    </tr>\n",
       "  </tbody>\n",
       "</table>\n",
       "</div>"
      ],
      "text/plain": [
       "                     mean  count  mean_diff  risk_ratio\n",
       "internetservice                                        \n",
       "DSL              0.189591   2421   0.075779    0.714441\n",
       "Fiber optic      0.418928   3096  -0.153558    1.578656\n",
       "No               0.074050   1526   0.191320    0.279044"
      ]
     },
     "metadata": {},
     "output_type": "display_data"
    },
    {
     "name": "stdout",
     "output_type": "stream",
     "text": [
      "\n",
      "\n",
      "onlinesecurity\n"
     ]
    },
    {
     "data": {
      "text/html": [
       "<div>\n",
       "<style scoped>\n",
       "    .dataframe tbody tr th:only-of-type {\n",
       "        vertical-align: middle;\n",
       "    }\n",
       "\n",
       "    .dataframe tbody tr th {\n",
       "        vertical-align: top;\n",
       "    }\n",
       "\n",
       "    .dataframe thead th {\n",
       "        text-align: right;\n",
       "    }\n",
       "</style>\n",
       "<table border=\"1\" class=\"dataframe\">\n",
       "  <thead>\n",
       "    <tr style=\"text-align: right;\">\n",
       "      <th></th>\n",
       "      <th>mean</th>\n",
       "      <th>count</th>\n",
       "      <th>mean_diff</th>\n",
       "      <th>risk_ratio</th>\n",
       "    </tr>\n",
       "    <tr>\n",
       "      <th>onlinesecurity</th>\n",
       "      <th></th>\n",
       "      <th></th>\n",
       "      <th></th>\n",
       "      <th></th>\n",
       "    </tr>\n",
       "  </thead>\n",
       "  <tbody>\n",
       "    <tr>\n",
       "      <th>No</th>\n",
       "      <td>0.417667</td>\n",
       "      <td>3498</td>\n",
       "      <td>-0.152297</td>\n",
       "      <td>1.573906</td>\n",
       "    </tr>\n",
       "    <tr>\n",
       "      <th>No internet service</th>\n",
       "      <td>0.074050</td>\n",
       "      <td>1526</td>\n",
       "      <td>0.191320</td>\n",
       "      <td>0.279044</td>\n",
       "    </tr>\n",
       "    <tr>\n",
       "      <th>Yes</th>\n",
       "      <td>0.146112</td>\n",
       "      <td>2019</td>\n",
       "      <td>0.119258</td>\n",
       "      <td>0.550597</td>\n",
       "    </tr>\n",
       "  </tbody>\n",
       "</table>\n",
       "</div>"
      ],
      "text/plain": [
       "                         mean  count  mean_diff  risk_ratio\n",
       "onlinesecurity                                             \n",
       "No                   0.417667   3498  -0.152297    1.573906\n",
       "No internet service  0.074050   1526   0.191320    0.279044\n",
       "Yes                  0.146112   2019   0.119258    0.550597"
      ]
     },
     "metadata": {},
     "output_type": "display_data"
    },
    {
     "name": "stdout",
     "output_type": "stream",
     "text": [
      "\n",
      "\n",
      "onlinebackup\n"
     ]
    },
    {
     "data": {
      "text/html": [
       "<div>\n",
       "<style scoped>\n",
       "    .dataframe tbody tr th:only-of-type {\n",
       "        vertical-align: middle;\n",
       "    }\n",
       "\n",
       "    .dataframe tbody tr th {\n",
       "        vertical-align: top;\n",
       "    }\n",
       "\n",
       "    .dataframe thead th {\n",
       "        text-align: right;\n",
       "    }\n",
       "</style>\n",
       "<table border=\"1\" class=\"dataframe\">\n",
       "  <thead>\n",
       "    <tr style=\"text-align: right;\">\n",
       "      <th></th>\n",
       "      <th>mean</th>\n",
       "      <th>count</th>\n",
       "      <th>mean_diff</th>\n",
       "      <th>risk_ratio</th>\n",
       "    </tr>\n",
       "    <tr>\n",
       "      <th>onlinebackup</th>\n",
       "      <th></th>\n",
       "      <th></th>\n",
       "      <th></th>\n",
       "      <th></th>\n",
       "    </tr>\n",
       "  </thead>\n",
       "  <tbody>\n",
       "    <tr>\n",
       "      <th>No</th>\n",
       "      <td>0.399288</td>\n",
       "      <td>3088</td>\n",
       "      <td>-0.133918</td>\n",
       "      <td>1.504645</td>\n",
       "    </tr>\n",
       "    <tr>\n",
       "      <th>No internet service</th>\n",
       "      <td>0.074050</td>\n",
       "      <td>1526</td>\n",
       "      <td>0.191320</td>\n",
       "      <td>0.279044</td>\n",
       "    </tr>\n",
       "    <tr>\n",
       "      <th>Yes</th>\n",
       "      <td>0.215315</td>\n",
       "      <td>2429</td>\n",
       "      <td>0.050055</td>\n",
       "      <td>0.811377</td>\n",
       "    </tr>\n",
       "  </tbody>\n",
       "</table>\n",
       "</div>"
      ],
      "text/plain": [
       "                         mean  count  mean_diff  risk_ratio\n",
       "onlinebackup                                               \n",
       "No                   0.399288   3088  -0.133918    1.504645\n",
       "No internet service  0.074050   1526   0.191320    0.279044\n",
       "Yes                  0.215315   2429   0.050055    0.811377"
      ]
     },
     "metadata": {},
     "output_type": "display_data"
    },
    {
     "name": "stdout",
     "output_type": "stream",
     "text": [
      "\n",
      "\n",
      "deviceprotection\n"
     ]
    },
    {
     "data": {
      "text/html": [
       "<div>\n",
       "<style scoped>\n",
       "    .dataframe tbody tr th:only-of-type {\n",
       "        vertical-align: middle;\n",
       "    }\n",
       "\n",
       "    .dataframe tbody tr th {\n",
       "        vertical-align: top;\n",
       "    }\n",
       "\n",
       "    .dataframe thead th {\n",
       "        text-align: right;\n",
       "    }\n",
       "</style>\n",
       "<table border=\"1\" class=\"dataframe\">\n",
       "  <thead>\n",
       "    <tr style=\"text-align: right;\">\n",
       "      <th></th>\n",
       "      <th>mean</th>\n",
       "      <th>count</th>\n",
       "      <th>mean_diff</th>\n",
       "      <th>risk_ratio</th>\n",
       "    </tr>\n",
       "    <tr>\n",
       "      <th>deviceprotection</th>\n",
       "      <th></th>\n",
       "      <th></th>\n",
       "      <th></th>\n",
       "      <th></th>\n",
       "    </tr>\n",
       "  </thead>\n",
       "  <tbody>\n",
       "    <tr>\n",
       "      <th>No</th>\n",
       "      <td>0.391276</td>\n",
       "      <td>3095</td>\n",
       "      <td>-0.125906</td>\n",
       "      <td>1.474456</td>\n",
       "    </tr>\n",
       "    <tr>\n",
       "      <th>No internet service</th>\n",
       "      <td>0.074050</td>\n",
       "      <td>1526</td>\n",
       "      <td>0.191320</td>\n",
       "      <td>0.279044</td>\n",
       "    </tr>\n",
       "    <tr>\n",
       "      <th>Yes</th>\n",
       "      <td>0.225021</td>\n",
       "      <td>2422</td>\n",
       "      <td>0.040349</td>\n",
       "      <td>0.847951</td>\n",
       "    </tr>\n",
       "  </tbody>\n",
       "</table>\n",
       "</div>"
      ],
      "text/plain": [
       "                         mean  count  mean_diff  risk_ratio\n",
       "deviceprotection                                           \n",
       "No                   0.391276   3095  -0.125906    1.474456\n",
       "No internet service  0.074050   1526   0.191320    0.279044\n",
       "Yes                  0.225021   2422   0.040349    0.847951"
      ]
     },
     "metadata": {},
     "output_type": "display_data"
    },
    {
     "name": "stdout",
     "output_type": "stream",
     "text": [
      "\n",
      "\n",
      "techsupport\n"
     ]
    },
    {
     "data": {
      "text/html": [
       "<div>\n",
       "<style scoped>\n",
       "    .dataframe tbody tr th:only-of-type {\n",
       "        vertical-align: middle;\n",
       "    }\n",
       "\n",
       "    .dataframe tbody tr th {\n",
       "        vertical-align: top;\n",
       "    }\n",
       "\n",
       "    .dataframe thead th {\n",
       "        text-align: right;\n",
       "    }\n",
       "</style>\n",
       "<table border=\"1\" class=\"dataframe\">\n",
       "  <thead>\n",
       "    <tr style=\"text-align: right;\">\n",
       "      <th></th>\n",
       "      <th>mean</th>\n",
       "      <th>count</th>\n",
       "      <th>mean_diff</th>\n",
       "      <th>risk_ratio</th>\n",
       "    </tr>\n",
       "    <tr>\n",
       "      <th>techsupport</th>\n",
       "      <th></th>\n",
       "      <th></th>\n",
       "      <th></th>\n",
       "      <th></th>\n",
       "    </tr>\n",
       "  </thead>\n",
       "  <tbody>\n",
       "    <tr>\n",
       "      <th>No</th>\n",
       "      <td>0.416355</td>\n",
       "      <td>3473</td>\n",
       "      <td>-0.150985</td>\n",
       "      <td>1.568960</td>\n",
       "    </tr>\n",
       "    <tr>\n",
       "      <th>No internet service</th>\n",
       "      <td>0.074050</td>\n",
       "      <td>1526</td>\n",
       "      <td>0.191320</td>\n",
       "      <td>0.279044</td>\n",
       "    </tr>\n",
       "    <tr>\n",
       "      <th>Yes</th>\n",
       "      <td>0.151663</td>\n",
       "      <td>2044</td>\n",
       "      <td>0.113706</td>\n",
       "      <td>0.571517</td>\n",
       "    </tr>\n",
       "  </tbody>\n",
       "</table>\n",
       "</div>"
      ],
      "text/plain": [
       "                         mean  count  mean_diff  risk_ratio\n",
       "techsupport                                                \n",
       "No                   0.416355   3473  -0.150985    1.568960\n",
       "No internet service  0.074050   1526   0.191320    0.279044\n",
       "Yes                  0.151663   2044   0.113706    0.571517"
      ]
     },
     "metadata": {},
     "output_type": "display_data"
    },
    {
     "name": "stdout",
     "output_type": "stream",
     "text": [
      "\n",
      "\n",
      "streamingtv\n"
     ]
    },
    {
     "data": {
      "text/html": [
       "<div>\n",
       "<style scoped>\n",
       "    .dataframe tbody tr th:only-of-type {\n",
       "        vertical-align: middle;\n",
       "    }\n",
       "\n",
       "    .dataframe tbody tr th {\n",
       "        vertical-align: top;\n",
       "    }\n",
       "\n",
       "    .dataframe thead th {\n",
       "        text-align: right;\n",
       "    }\n",
       "</style>\n",
       "<table border=\"1\" class=\"dataframe\">\n",
       "  <thead>\n",
       "    <tr style=\"text-align: right;\">\n",
       "      <th></th>\n",
       "      <th>mean</th>\n",
       "      <th>count</th>\n",
       "      <th>mean_diff</th>\n",
       "      <th>risk_ratio</th>\n",
       "    </tr>\n",
       "    <tr>\n",
       "      <th>streamingtv</th>\n",
       "      <th></th>\n",
       "      <th></th>\n",
       "      <th></th>\n",
       "      <th></th>\n",
       "    </tr>\n",
       "  </thead>\n",
       "  <tbody>\n",
       "    <tr>\n",
       "      <th>No</th>\n",
       "      <td>0.335231</td>\n",
       "      <td>2810</td>\n",
       "      <td>-0.069861</td>\n",
       "      <td>1.263261</td>\n",
       "    </tr>\n",
       "    <tr>\n",
       "      <th>No internet service</th>\n",
       "      <td>0.074050</td>\n",
       "      <td>1526</td>\n",
       "      <td>0.191320</td>\n",
       "      <td>0.279044</td>\n",
       "    </tr>\n",
       "    <tr>\n",
       "      <th>Yes</th>\n",
       "      <td>0.300702</td>\n",
       "      <td>2707</td>\n",
       "      <td>-0.035332</td>\n",
       "      <td>1.133143</td>\n",
       "    </tr>\n",
       "  </tbody>\n",
       "</table>\n",
       "</div>"
      ],
      "text/plain": [
       "                         mean  count  mean_diff  risk_ratio\n",
       "streamingtv                                                \n",
       "No                   0.335231   2810  -0.069861    1.263261\n",
       "No internet service  0.074050   1526   0.191320    0.279044\n",
       "Yes                  0.300702   2707  -0.035332    1.133143"
      ]
     },
     "metadata": {},
     "output_type": "display_data"
    },
    {
     "name": "stdout",
     "output_type": "stream",
     "text": [
      "\n",
      "\n",
      "streamingmovies\n"
     ]
    },
    {
     "data": {
      "text/html": [
       "<div>\n",
       "<style scoped>\n",
       "    .dataframe tbody tr th:only-of-type {\n",
       "        vertical-align: middle;\n",
       "    }\n",
       "\n",
       "    .dataframe tbody tr th {\n",
       "        vertical-align: top;\n",
       "    }\n",
       "\n",
       "    .dataframe thead th {\n",
       "        text-align: right;\n",
       "    }\n",
       "</style>\n",
       "<table border=\"1\" class=\"dataframe\">\n",
       "  <thead>\n",
       "    <tr style=\"text-align: right;\">\n",
       "      <th></th>\n",
       "      <th>mean</th>\n",
       "      <th>count</th>\n",
       "      <th>mean_diff</th>\n",
       "      <th>risk_ratio</th>\n",
       "    </tr>\n",
       "    <tr>\n",
       "      <th>streamingmovies</th>\n",
       "      <th></th>\n",
       "      <th></th>\n",
       "      <th></th>\n",
       "      <th></th>\n",
       "    </tr>\n",
       "  </thead>\n",
       "  <tbody>\n",
       "    <tr>\n",
       "      <th>No</th>\n",
       "      <td>0.336804</td>\n",
       "      <td>2785</td>\n",
       "      <td>-0.071434</td>\n",
       "      <td>1.269188</td>\n",
       "    </tr>\n",
       "    <tr>\n",
       "      <th>No internet service</th>\n",
       "      <td>0.074050</td>\n",
       "      <td>1526</td>\n",
       "      <td>0.191320</td>\n",
       "      <td>0.279044</td>\n",
       "    </tr>\n",
       "    <tr>\n",
       "      <th>Yes</th>\n",
       "      <td>0.299414</td>\n",
       "      <td>2732</td>\n",
       "      <td>-0.034044</td>\n",
       "      <td>1.128291</td>\n",
       "    </tr>\n",
       "  </tbody>\n",
       "</table>\n",
       "</div>"
      ],
      "text/plain": [
       "                         mean  count  mean_diff  risk_ratio\n",
       "streamingmovies                                            \n",
       "No                   0.336804   2785  -0.071434    1.269188\n",
       "No internet service  0.074050   1526   0.191320    0.279044\n",
       "Yes                  0.299414   2732  -0.034044    1.128291"
      ]
     },
     "metadata": {},
     "output_type": "display_data"
    },
    {
     "name": "stdout",
     "output_type": "stream",
     "text": [
      "\n",
      "\n",
      "contract\n"
     ]
    },
    {
     "data": {
      "text/html": [
       "<div>\n",
       "<style scoped>\n",
       "    .dataframe tbody tr th:only-of-type {\n",
       "        vertical-align: middle;\n",
       "    }\n",
       "\n",
       "    .dataframe tbody tr th {\n",
       "        vertical-align: top;\n",
       "    }\n",
       "\n",
       "    .dataframe thead th {\n",
       "        text-align: right;\n",
       "    }\n",
       "</style>\n",
       "<table border=\"1\" class=\"dataframe\">\n",
       "  <thead>\n",
       "    <tr style=\"text-align: right;\">\n",
       "      <th></th>\n",
       "      <th>mean</th>\n",
       "      <th>count</th>\n",
       "      <th>mean_diff</th>\n",
       "      <th>risk_ratio</th>\n",
       "    </tr>\n",
       "    <tr>\n",
       "      <th>contract</th>\n",
       "      <th></th>\n",
       "      <th></th>\n",
       "      <th></th>\n",
       "      <th></th>\n",
       "    </tr>\n",
       "  </thead>\n",
       "  <tbody>\n",
       "    <tr>\n",
       "      <th>Month-to-month</th>\n",
       "      <td>0.427097</td>\n",
       "      <td>3875</td>\n",
       "      <td>-0.161727</td>\n",
       "      <td>1.609440</td>\n",
       "    </tr>\n",
       "    <tr>\n",
       "      <th>One year</th>\n",
       "      <td>0.112695</td>\n",
       "      <td>1473</td>\n",
       "      <td>0.152675</td>\n",
       "      <td>0.424672</td>\n",
       "    </tr>\n",
       "    <tr>\n",
       "      <th>Two year</th>\n",
       "      <td>0.028319</td>\n",
       "      <td>1695</td>\n",
       "      <td>0.237051</td>\n",
       "      <td>0.106714</td>\n",
       "    </tr>\n",
       "  </tbody>\n",
       "</table>\n",
       "</div>"
      ],
      "text/plain": [
       "                    mean  count  mean_diff  risk_ratio\n",
       "contract                                              \n",
       "Month-to-month  0.427097   3875  -0.161727    1.609440\n",
       "One year        0.112695   1473   0.152675    0.424672\n",
       "Two year        0.028319   1695   0.237051    0.106714"
      ]
     },
     "metadata": {},
     "output_type": "display_data"
    },
    {
     "name": "stdout",
     "output_type": "stream",
     "text": [
      "\n",
      "\n",
      "paperlessbilling\n"
     ]
    },
    {
     "data": {
      "text/html": [
       "<div>\n",
       "<style scoped>\n",
       "    .dataframe tbody tr th:only-of-type {\n",
       "        vertical-align: middle;\n",
       "    }\n",
       "\n",
       "    .dataframe tbody tr th {\n",
       "        vertical-align: top;\n",
       "    }\n",
       "\n",
       "    .dataframe thead th {\n",
       "        text-align: right;\n",
       "    }\n",
       "</style>\n",
       "<table border=\"1\" class=\"dataframe\">\n",
       "  <thead>\n",
       "    <tr style=\"text-align: right;\">\n",
       "      <th></th>\n",
       "      <th>mean</th>\n",
       "      <th>count</th>\n",
       "      <th>mean_diff</th>\n",
       "      <th>risk_ratio</th>\n",
       "    </tr>\n",
       "    <tr>\n",
       "      <th>paperlessbilling</th>\n",
       "      <th></th>\n",
       "      <th></th>\n",
       "      <th></th>\n",
       "      <th></th>\n",
       "    </tr>\n",
       "  </thead>\n",
       "  <tbody>\n",
       "    <tr>\n",
       "      <th>No</th>\n",
       "      <td>0.163301</td>\n",
       "      <td>2872</td>\n",
       "      <td>0.102069</td>\n",
       "      <td>0.615371</td>\n",
       "    </tr>\n",
       "    <tr>\n",
       "      <th>Yes</th>\n",
       "      <td>0.335651</td>\n",
       "      <td>4171</td>\n",
       "      <td>-0.070281</td>\n",
       "      <td>1.264842</td>\n",
       "    </tr>\n",
       "  </tbody>\n",
       "</table>\n",
       "</div>"
      ],
      "text/plain": [
       "                      mean  count  mean_diff  risk_ratio\n",
       "paperlessbilling                                        \n",
       "No                0.163301   2872   0.102069    0.615371\n",
       "Yes               0.335651   4171  -0.070281    1.264842"
      ]
     },
     "metadata": {},
     "output_type": "display_data"
    },
    {
     "name": "stdout",
     "output_type": "stream",
     "text": [
      "\n",
      "\n",
      "paymentmethod\n"
     ]
    },
    {
     "data": {
      "text/html": [
       "<div>\n",
       "<style scoped>\n",
       "    .dataframe tbody tr th:only-of-type {\n",
       "        vertical-align: middle;\n",
       "    }\n",
       "\n",
       "    .dataframe tbody tr th {\n",
       "        vertical-align: top;\n",
       "    }\n",
       "\n",
       "    .dataframe thead th {\n",
       "        text-align: right;\n",
       "    }\n",
       "</style>\n",
       "<table border=\"1\" class=\"dataframe\">\n",
       "  <thead>\n",
       "    <tr style=\"text-align: right;\">\n",
       "      <th></th>\n",
       "      <th>mean</th>\n",
       "      <th>count</th>\n",
       "      <th>mean_diff</th>\n",
       "      <th>risk_ratio</th>\n",
       "    </tr>\n",
       "    <tr>\n",
       "      <th>paymentmethod</th>\n",
       "      <th></th>\n",
       "      <th></th>\n",
       "      <th></th>\n",
       "      <th></th>\n",
       "    </tr>\n",
       "  </thead>\n",
       "  <tbody>\n",
       "    <tr>\n",
       "      <th>Bank transfer (automatic)</th>\n",
       "      <td>0.167098</td>\n",
       "      <td>1544</td>\n",
       "      <td>0.098271</td>\n",
       "      <td>0.629681</td>\n",
       "    </tr>\n",
       "    <tr>\n",
       "      <th>Credit card (automatic)</th>\n",
       "      <td>0.152431</td>\n",
       "      <td>1522</td>\n",
       "      <td>0.112939</td>\n",
       "      <td>0.574410</td>\n",
       "    </tr>\n",
       "    <tr>\n",
       "      <th>Electronic check</th>\n",
       "      <td>0.452854</td>\n",
       "      <td>2365</td>\n",
       "      <td>-0.187484</td>\n",
       "      <td>1.706502</td>\n",
       "    </tr>\n",
       "    <tr>\n",
       "      <th>Mailed check</th>\n",
       "      <td>0.191067</td>\n",
       "      <td>1612</td>\n",
       "      <td>0.074303</td>\n",
       "      <td>0.720003</td>\n",
       "    </tr>\n",
       "  </tbody>\n",
       "</table>\n",
       "</div>"
      ],
      "text/plain": [
       "                               mean  count  mean_diff  risk_ratio\n",
       "paymentmethod                                                    \n",
       "Bank transfer (automatic)  0.167098   1544   0.098271    0.629681\n",
       "Credit card (automatic)    0.152431   1522   0.112939    0.574410\n",
       "Electronic check           0.452854   2365  -0.187484    1.706502\n",
       "Mailed check               0.191067   1612   0.074303    0.720003"
      ]
     },
     "metadata": {},
     "output_type": "display_data"
    },
    {
     "name": "stdout",
     "output_type": "stream",
     "text": [
      "\n",
      "\n"
     ]
    }
   ],
   "source": [
    "# Duplicating mean dif and risk ration metrics to features. \n",
    "\n",
    "# Importing display package from ipython.\n",
    "from IPython.display import display\n",
    "\n",
    "# Dupliacte loop\n",
    "for col in categorical: \n",
    "    print(col)\n",
    "    telco_group = telco_data.groupby(col)['churn'].agg(['mean', 'count'])\n",
    "    telco_group['mean_diff'] = glober_churn - telco_group['mean']\n",
    "    telco_group['risk_ratio'] = telco_group['mean']/glober_churn\n",
    "    display(telco_group)\n",
    "    print()\n",
    "    print()"
   ]
  },
  {
   "cell_type": "markdown",
   "id": "859c9ff8",
   "metadata": {},
   "source": [
    "### Feature Importance: Using Mutual Score. "
   ]
  },
  {
   "cell_type": "code",
   "execution_count": 73,
   "id": "335b2b51",
   "metadata": {},
   "outputs": [],
   "source": [
    "# Import metric package.\n",
    "from sklearn.metrics import mutual_info_score"
   ]
  },
  {
   "cell_type": "code",
   "execution_count": 81,
   "id": "7299062f",
   "metadata": {},
   "outputs": [
    {
     "data": {
      "text/plain": [
       "0.09845305342598942"
      ]
     },
     "execution_count": 81,
     "metadata": {},
     "output_type": "execute_result"
    }
   ],
   "source": [
    "# Testing metric \n",
    "mutual_info_score(telco_data['churn'], telco_data['contract'])"
   ]
  },
  {
   "cell_type": "markdown",
   "id": "92a02961",
   "metadata": {},
   "source": [
    "> With a value of 0.098 there seems to be a stronge relationship between the contract and churn, impling that the longer a contract the less likely the customer will churn. "
   ]
  },
  {
   "cell_type": "code",
   "execution_count": 84,
   "id": "13c62237",
   "metadata": {},
   "outputs": [
    {
     "data": {
      "text/plain": [
       "contract            0.098453\n",
       "onlinesecurity      0.064677\n",
       "techsupport         0.063021\n",
       "internetservice     0.055574\n",
       "onlinebackup        0.046792\n",
       "paymentmethod       0.044519\n",
       "deviceprotection    0.043917\n",
       "streamingmovies     0.032001\n",
       "streamingtv         0.031908\n",
       "paperlessbilling    0.019194\n",
       "dependents          0.014467\n",
       "partner             0.011454\n",
       "seniorcitizen       0.010577\n",
       "multiplelines       0.000801\n",
       "phoneservice        0.000072\n",
       "gender              0.000037\n",
       "dtype: float64"
      ]
     },
     "execution_count": 84,
     "metadata": {},
     "output_type": "execute_result"
    }
   ],
   "source": [
    "# Implimenting it to the whole dataset. \n",
    "\n",
    "# creating a function that takes only one argement. \n",
    "def mutual_score(series):\n",
    "    return mutual_info_score(series, telco_data.churn)\n",
    "    \n",
    "# Deriving the mutual score. \n",
    "mi = telco_data[categorical].apply(mutual_score)\n",
    "\n",
    "# Sorting the data in decending order. \n",
    "mi.sort_values(ascending = False)"
   ]
  },
  {
   "cell_type": "markdown",
   "id": "d8dc9b31",
   "metadata": {},
   "source": [
    "> The table above shoul the degree of relationship between each featur and the target variable from most im"
   ]
  }
 ],
 "metadata": {
  "kernelspec": {
   "display_name": "Python 3 (ipykernel)",
   "language": "python",
   "name": "python3"
  },
  "language_info": {
   "codemirror_mode": {
    "name": "ipython",
    "version": 3
   },
   "file_extension": ".py",
   "mimetype": "text/x-python",
   "name": "python",
   "nbconvert_exporter": "python",
   "pygments_lexer": "ipython3",
   "version": "3.9.13"
  }
 },
 "nbformat": 4,
 "nbformat_minor": 5
}
