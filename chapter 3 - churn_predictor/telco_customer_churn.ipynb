{
 "cells": [
  {
   "cell_type": "markdown",
   "id": "df108f23",
   "metadata": {},
   "source": [
    "# Chapter 3 - Machine Learning for Classification. "
   ]
  },
  {
   "cell_type": "markdown",
   "id": "3de407d2",
   "metadata": {},
   "source": [
    "## Project: Telco Customer Churn Predictor. "
   ]
  },
  {
   "cell_type": "code",
   "execution_count": 1,
   "id": "8e3d8678",
   "metadata": {},
   "outputs": [],
   "source": [
    "# Importing Python Packages. \n",
    "\n",
    "# Data Manipulation. \n",
    "import pandas as pd \n",
    "import numpy as np\n",
    "\n",
    "# Data Visualization Packages. \n",
    "import seaborn as sns \n",
    "import matplotlib.pyplot as plt\n",
    "\n",
    "# Data Gathering Package. \n",
    "import wget \n",
    "\n",
    "# Other\n",
    "%matplotlib inline"
   ]
  },
  {
   "cell_type": "markdown",
   "id": "45d70bc4",
   "metadata": {},
   "source": [
    "## Data Gathering. "
   ]
  },
  {
   "cell_type": "code",
   "execution_count": 2,
   "id": "e8e08ab3",
   "metadata": {},
   "outputs": [
    {
     "data": {
      "text/html": [
       "<div>\n",
       "<style scoped>\n",
       "    .dataframe tbody tr th:only-of-type {\n",
       "        vertical-align: middle;\n",
       "    }\n",
       "\n",
       "    .dataframe tbody tr th {\n",
       "        vertical-align: top;\n",
       "    }\n",
       "\n",
       "    .dataframe thead th {\n",
       "        text-align: right;\n",
       "    }\n",
       "</style>\n",
       "<table border=\"1\" class=\"dataframe\">\n",
       "  <thead>\n",
       "    <tr style=\"text-align: right;\">\n",
       "      <th></th>\n",
       "      <th>customerID</th>\n",
       "      <th>gender</th>\n",
       "      <th>SeniorCitizen</th>\n",
       "      <th>Partner</th>\n",
       "      <th>Dependents</th>\n",
       "      <th>tenure</th>\n",
       "      <th>PhoneService</th>\n",
       "      <th>MultipleLines</th>\n",
       "      <th>InternetService</th>\n",
       "      <th>OnlineSecurity</th>\n",
       "      <th>...</th>\n",
       "      <th>DeviceProtection</th>\n",
       "      <th>TechSupport</th>\n",
       "      <th>StreamingTV</th>\n",
       "      <th>StreamingMovies</th>\n",
       "      <th>Contract</th>\n",
       "      <th>PaperlessBilling</th>\n",
       "      <th>PaymentMethod</th>\n",
       "      <th>MonthlyCharges</th>\n",
       "      <th>TotalCharges</th>\n",
       "      <th>Churn</th>\n",
       "    </tr>\n",
       "  </thead>\n",
       "  <tbody>\n",
       "    <tr>\n",
       "      <th>0</th>\n",
       "      <td>7590-VHVEG</td>\n",
       "      <td>Female</td>\n",
       "      <td>0</td>\n",
       "      <td>Yes</td>\n",
       "      <td>No</td>\n",
       "      <td>1</td>\n",
       "      <td>No</td>\n",
       "      <td>No phone service</td>\n",
       "      <td>DSL</td>\n",
       "      <td>No</td>\n",
       "      <td>...</td>\n",
       "      <td>No</td>\n",
       "      <td>No</td>\n",
       "      <td>No</td>\n",
       "      <td>No</td>\n",
       "      <td>Month-to-month</td>\n",
       "      <td>Yes</td>\n",
       "      <td>Electronic check</td>\n",
       "      <td>29.85</td>\n",
       "      <td>29.85</td>\n",
       "      <td>No</td>\n",
       "    </tr>\n",
       "    <tr>\n",
       "      <th>1</th>\n",
       "      <td>5575-GNVDE</td>\n",
       "      <td>Male</td>\n",
       "      <td>0</td>\n",
       "      <td>No</td>\n",
       "      <td>No</td>\n",
       "      <td>34</td>\n",
       "      <td>Yes</td>\n",
       "      <td>No</td>\n",
       "      <td>DSL</td>\n",
       "      <td>Yes</td>\n",
       "      <td>...</td>\n",
       "      <td>Yes</td>\n",
       "      <td>No</td>\n",
       "      <td>No</td>\n",
       "      <td>No</td>\n",
       "      <td>One year</td>\n",
       "      <td>No</td>\n",
       "      <td>Mailed check</td>\n",
       "      <td>56.95</td>\n",
       "      <td>1889.5</td>\n",
       "      <td>No</td>\n",
       "    </tr>\n",
       "    <tr>\n",
       "      <th>2</th>\n",
       "      <td>3668-QPYBK</td>\n",
       "      <td>Male</td>\n",
       "      <td>0</td>\n",
       "      <td>No</td>\n",
       "      <td>No</td>\n",
       "      <td>2</td>\n",
       "      <td>Yes</td>\n",
       "      <td>No</td>\n",
       "      <td>DSL</td>\n",
       "      <td>Yes</td>\n",
       "      <td>...</td>\n",
       "      <td>No</td>\n",
       "      <td>No</td>\n",
       "      <td>No</td>\n",
       "      <td>No</td>\n",
       "      <td>Month-to-month</td>\n",
       "      <td>Yes</td>\n",
       "      <td>Mailed check</td>\n",
       "      <td>53.85</td>\n",
       "      <td>108.15</td>\n",
       "      <td>Yes</td>\n",
       "    </tr>\n",
       "    <tr>\n",
       "      <th>3</th>\n",
       "      <td>7795-CFOCW</td>\n",
       "      <td>Male</td>\n",
       "      <td>0</td>\n",
       "      <td>No</td>\n",
       "      <td>No</td>\n",
       "      <td>45</td>\n",
       "      <td>No</td>\n",
       "      <td>No phone service</td>\n",
       "      <td>DSL</td>\n",
       "      <td>Yes</td>\n",
       "      <td>...</td>\n",
       "      <td>Yes</td>\n",
       "      <td>Yes</td>\n",
       "      <td>No</td>\n",
       "      <td>No</td>\n",
       "      <td>One year</td>\n",
       "      <td>No</td>\n",
       "      <td>Bank transfer (automatic)</td>\n",
       "      <td>42.30</td>\n",
       "      <td>1840.75</td>\n",
       "      <td>No</td>\n",
       "    </tr>\n",
       "    <tr>\n",
       "      <th>4</th>\n",
       "      <td>9237-HQITU</td>\n",
       "      <td>Female</td>\n",
       "      <td>0</td>\n",
       "      <td>No</td>\n",
       "      <td>No</td>\n",
       "      <td>2</td>\n",
       "      <td>Yes</td>\n",
       "      <td>No</td>\n",
       "      <td>Fiber optic</td>\n",
       "      <td>No</td>\n",
       "      <td>...</td>\n",
       "      <td>No</td>\n",
       "      <td>No</td>\n",
       "      <td>No</td>\n",
       "      <td>No</td>\n",
       "      <td>Month-to-month</td>\n",
       "      <td>Yes</td>\n",
       "      <td>Electronic check</td>\n",
       "      <td>70.70</td>\n",
       "      <td>151.65</td>\n",
       "      <td>Yes</td>\n",
       "    </tr>\n",
       "  </tbody>\n",
       "</table>\n",
       "<p>5 rows × 21 columns</p>\n",
       "</div>"
      ],
      "text/plain": [
       "   customerID  gender  SeniorCitizen Partner Dependents  tenure PhoneService  \\\n",
       "0  7590-VHVEG  Female              0     Yes         No       1           No   \n",
       "1  5575-GNVDE    Male              0      No         No      34          Yes   \n",
       "2  3668-QPYBK    Male              0      No         No       2          Yes   \n",
       "3  7795-CFOCW    Male              0      No         No      45           No   \n",
       "4  9237-HQITU  Female              0      No         No       2          Yes   \n",
       "\n",
       "      MultipleLines InternetService OnlineSecurity  ... DeviceProtection  \\\n",
       "0  No phone service             DSL             No  ...               No   \n",
       "1                No             DSL            Yes  ...              Yes   \n",
       "2                No             DSL            Yes  ...               No   \n",
       "3  No phone service             DSL            Yes  ...              Yes   \n",
       "4                No     Fiber optic             No  ...               No   \n",
       "\n",
       "  TechSupport StreamingTV StreamingMovies        Contract PaperlessBilling  \\\n",
       "0          No          No              No  Month-to-month              Yes   \n",
       "1          No          No              No        One year               No   \n",
       "2          No          No              No  Month-to-month              Yes   \n",
       "3         Yes          No              No        One year               No   \n",
       "4          No          No              No  Month-to-month              Yes   \n",
       "\n",
       "               PaymentMethod MonthlyCharges  TotalCharges Churn  \n",
       "0           Electronic check          29.85         29.85    No  \n",
       "1               Mailed check          56.95        1889.5    No  \n",
       "2               Mailed check          53.85        108.15   Yes  \n",
       "3  Bank transfer (automatic)          42.30       1840.75    No  \n",
       "4           Electronic check          70.70        151.65   Yes  \n",
       "\n",
       "[5 rows x 21 columns]"
      ]
     },
     "execution_count": 2,
     "metadata": {},
     "output_type": "execute_result"
    }
   ],
   "source": [
    "# Loading dataset. \n",
    "telco_data = pd.read_csv('data/telco_customer_churn.csv')\n",
    "\n",
    "# Viewing dataset.\n",
    "telco_data.head()"
   ]
  },
  {
   "cell_type": "code",
   "execution_count": 3,
   "id": "e664c4f4",
   "metadata": {},
   "outputs": [
    {
     "name": "stdout",
     "output_type": "stream",
     "text": [
      "There are 7043 rows and 21 columns\n"
     ]
    }
   ],
   "source": [
    "# Viewing the shape of the dataset. \n",
    "print(f'There are {telco_data.shape[0]} rows and {telco_data.shape[1]} columns')"
   ]
  },
  {
   "cell_type": "code",
   "execution_count": 4,
   "id": "9f8b17a0",
   "metadata": {},
   "outputs": [
    {
     "data": {
      "text/plain": [
       "Index(['customerID', 'gender', 'SeniorCitizen', 'Partner', 'Dependents',\n",
       "       'tenure', 'PhoneService', 'MultipleLines', 'InternetService',\n",
       "       'OnlineSecurity', 'OnlineBackup', 'DeviceProtection', 'TechSupport',\n",
       "       'StreamingTV', 'StreamingMovies', 'Contract', 'PaperlessBilling',\n",
       "       'PaymentMethod', 'MonthlyCharges', 'TotalCharges', 'Churn'],\n",
       "      dtype='object')"
      ]
     },
     "execution_count": 4,
     "metadata": {},
     "output_type": "execute_result"
    }
   ],
   "source": [
    "# List of data columns \n",
    "telco_data.columns"
   ]
  },
  {
   "cell_type": "code",
   "execution_count": 5,
   "id": "0cbcf63f",
   "metadata": {},
   "outputs": [
    {
     "name": "stdout",
     "output_type": "stream",
     "text": [
      "<class 'pandas.core.frame.DataFrame'>\n",
      "RangeIndex: 7043 entries, 0 to 7042\n",
      "Data columns (total 21 columns):\n",
      " #   Column            Non-Null Count  Dtype  \n",
      "---  ------            --------------  -----  \n",
      " 0   customerID        7043 non-null   object \n",
      " 1   gender            7043 non-null   object \n",
      " 2   SeniorCitizen     7043 non-null   int64  \n",
      " 3   Partner           7043 non-null   object \n",
      " 4   Dependents        7043 non-null   object \n",
      " 5   tenure            7043 non-null   int64  \n",
      " 6   PhoneService      7043 non-null   object \n",
      " 7   MultipleLines     7043 non-null   object \n",
      " 8   InternetService   7043 non-null   object \n",
      " 9   OnlineSecurity    7043 non-null   object \n",
      " 10  OnlineBackup      7043 non-null   object \n",
      " 11  DeviceProtection  7043 non-null   object \n",
      " 12  TechSupport       7043 non-null   object \n",
      " 13  StreamingTV       7043 non-null   object \n",
      " 14  StreamingMovies   7043 non-null   object \n",
      " 15  Contract          7043 non-null   object \n",
      " 16  PaperlessBilling  7043 non-null   object \n",
      " 17  PaymentMethod     7043 non-null   object \n",
      " 18  MonthlyCharges    7043 non-null   float64\n",
      " 19  TotalCharges      7043 non-null   object \n",
      " 20  Churn             7043 non-null   object \n",
      "dtypes: float64(1), int64(2), object(18)\n",
      "memory usage: 1.1+ MB\n"
     ]
    }
   ],
   "source": [
    "# Data structure. \n",
    "telco_data.info()"
   ]
  },
  {
   "cell_type": "code",
   "execution_count": 6,
   "id": "77f1d73e",
   "metadata": {},
   "outputs": [
    {
     "data": {
      "text/plain": [
       "customerID          0\n",
       "gender              0\n",
       "SeniorCitizen       0\n",
       "Partner             0\n",
       "Dependents          0\n",
       "tenure              0\n",
       "PhoneService        0\n",
       "MultipleLines       0\n",
       "InternetService     0\n",
       "OnlineSecurity      0\n",
       "OnlineBackup        0\n",
       "DeviceProtection    0\n",
       "TechSupport         0\n",
       "StreamingTV         0\n",
       "StreamingMovies     0\n",
       "Contract            0\n",
       "PaperlessBilling    0\n",
       "PaymentMethod       0\n",
       "MonthlyCharges      0\n",
       "TotalCharges        0\n",
       "Churn               0\n",
       "dtype: int64"
      ]
     },
     "execution_count": 6,
     "metadata": {},
     "output_type": "execute_result"
    }
   ],
   "source": [
    "# Checking for Null value.\n",
    "telco_data.isna().sum()"
   ]
  },
  {
   "cell_type": "code",
   "execution_count": 7,
   "id": "466248f4",
   "metadata": {},
   "outputs": [],
   "source": [
    "# Removing upper case from column name.\n",
    "column = telco_data.columns.str.lower()\n",
    "\n",
    "# Replacing columns name with new column name.\n",
    "telco_data.columns = column"
   ]
  },
  {
   "cell_type": "code",
   "execution_count": 8,
   "id": "546e9e99",
   "metadata": {},
   "outputs": [
    {
     "data": {
      "text/plain": [
       "Index(['customerid', 'gender', 'seniorcitizen', 'partner', 'dependents',\n",
       "       'tenure', 'phoneservice', 'multiplelines', 'internetservice',\n",
       "       'onlinesecurity', 'onlinebackup', 'deviceprotection', 'techsupport',\n",
       "       'streamingtv', 'streamingmovies', 'contract', 'paperlessbilling',\n",
       "       'paymentmethod', 'monthlycharges', 'totalcharges', 'churn'],\n",
       "      dtype='object')"
      ]
     },
     "execution_count": 8,
     "metadata": {},
     "output_type": "execute_result"
    }
   ],
   "source": [
    "# Checking column names\n",
    "telco_data.columns"
   ]
  },
  {
   "cell_type": "code",
   "execution_count": 9,
   "id": "e338b667",
   "metadata": {},
   "outputs": [
    {
     "name": "stdout",
     "output_type": "stream",
     "text": [
      "Columns name: customerid \n",
      "\n",
      "Unique values:  ['7590-VHVEG' '5575-GNVDE' '3668-QPYBK' '7795-CFOCW' '9237-HQITU']\n",
      "\n",
      "Number of unique values:  7043\n",
      "\n",
      "\n",
      "Columns name: gender \n",
      "\n",
      "Unique values:  ['Female' 'Male']\n",
      "\n",
      "Number of unique values:  2\n",
      "\n",
      "\n",
      "Columns name: seniorcitizen \n",
      "\n",
      "Unique values:  [0 1]\n",
      "\n",
      "Number of unique values:  2\n",
      "\n",
      "\n",
      "Columns name: partner \n",
      "\n",
      "Unique values:  ['Yes' 'No']\n",
      "\n",
      "Number of unique values:  2\n",
      "\n",
      "\n",
      "Columns name: dependents \n",
      "\n",
      "Unique values:  ['No' 'Yes']\n",
      "\n",
      "Number of unique values:  2\n",
      "\n",
      "\n",
      "Columns name: tenure \n",
      "\n",
      "Unique values:  [ 1 34  2 45  8]\n",
      "\n",
      "Number of unique values:  73\n",
      "\n",
      "\n",
      "Columns name: phoneservice \n",
      "\n",
      "Unique values:  ['No' 'Yes']\n",
      "\n",
      "Number of unique values:  2\n",
      "\n",
      "\n",
      "Columns name: multiplelines \n",
      "\n",
      "Unique values:  ['No phone service' 'No' 'Yes']\n",
      "\n",
      "Number of unique values:  3\n",
      "\n",
      "\n",
      "Columns name: internetservice \n",
      "\n",
      "Unique values:  ['DSL' 'Fiber optic' 'No']\n",
      "\n",
      "Number of unique values:  3\n",
      "\n",
      "\n",
      "Columns name: onlinesecurity \n",
      "\n",
      "Unique values:  ['No' 'Yes' 'No internet service']\n",
      "\n",
      "Number of unique values:  3\n",
      "\n",
      "\n",
      "Columns name: onlinebackup \n",
      "\n",
      "Unique values:  ['Yes' 'No' 'No internet service']\n",
      "\n",
      "Number of unique values:  3\n",
      "\n",
      "\n",
      "Columns name: deviceprotection \n",
      "\n",
      "Unique values:  ['No' 'Yes' 'No internet service']\n",
      "\n",
      "Number of unique values:  3\n",
      "\n",
      "\n",
      "Columns name: techsupport \n",
      "\n",
      "Unique values:  ['No' 'Yes' 'No internet service']\n",
      "\n",
      "Number of unique values:  3\n",
      "\n",
      "\n",
      "Columns name: streamingtv \n",
      "\n",
      "Unique values:  ['No' 'Yes' 'No internet service']\n",
      "\n",
      "Number of unique values:  3\n",
      "\n",
      "\n",
      "Columns name: streamingmovies \n",
      "\n",
      "Unique values:  ['No' 'Yes' 'No internet service']\n",
      "\n",
      "Number of unique values:  3\n",
      "\n",
      "\n",
      "Columns name: contract \n",
      "\n",
      "Unique values:  ['Month-to-month' 'One year' 'Two year']\n",
      "\n",
      "Number of unique values:  3\n",
      "\n",
      "\n",
      "Columns name: paperlessbilling \n",
      "\n",
      "Unique values:  ['Yes' 'No']\n",
      "\n",
      "Number of unique values:  2\n",
      "\n",
      "\n",
      "Columns name: paymentmethod \n",
      "\n",
      "Unique values:  ['Electronic check' 'Mailed check' 'Bank transfer (automatic)'\n",
      " 'Credit card (automatic)']\n",
      "\n",
      "Number of unique values:  4\n",
      "\n",
      "\n",
      "Columns name: monthlycharges \n",
      "\n",
      "Unique values:  [29.85 56.95 53.85 42.3  70.7 ]\n",
      "\n",
      "Number of unique values:  1585\n",
      "\n",
      "\n",
      "Columns name: totalcharges \n",
      "\n",
      "Unique values:  ['29.85' '1889.5' '108.15' '1840.75' '151.65']\n",
      "\n",
      "Number of unique values:  6531\n",
      "\n",
      "\n",
      "Columns name: churn \n",
      "\n",
      "Unique values:  ['No' 'Yes']\n",
      "\n",
      "Number of unique values:  2\n",
      "\n",
      "\n"
     ]
    }
   ],
   "source": [
    "# Checking each feature and their unique values. \n",
    "column_info = {}\n",
    "for col in column: \n",
    "    column_info[col] = [telco_data[col].nunique(), telco_data[col].unique()[0:5]]\n",
    "    print(\"Columns name:\", col, '\\n')\n",
    "    print(f\"Unique values:  {telco_data[col].unique()[0:5]}\\n\")\n",
    "    print(f\"Number of unique values:  {telco_data[col].nunique()}\\n\\n\")"
   ]
  },
  {
   "cell_type": "code",
   "execution_count": 10,
   "id": "c5fd587e",
   "metadata": {},
   "outputs": [
    {
     "data": {
      "text/plain": [
       "{'customerid': [7043,\n",
       "  array(['7590-VHVEG', '5575-GNVDE', '3668-QPYBK', '7795-CFOCW',\n",
       "         '9237-HQITU'], dtype=object)],\n",
       " 'gender': [2, array(['Female', 'Male'], dtype=object)],\n",
       " 'seniorcitizen': [2, array([0, 1], dtype=int64)],\n",
       " 'partner': [2, array(['Yes', 'No'], dtype=object)],\n",
       " 'dependents': [2, array(['No', 'Yes'], dtype=object)],\n",
       " 'tenure': [73, array([ 1, 34,  2, 45,  8], dtype=int64)],\n",
       " 'phoneservice': [2, array(['No', 'Yes'], dtype=object)],\n",
       " 'multiplelines': [3, array(['No phone service', 'No', 'Yes'], dtype=object)],\n",
       " 'internetservice': [3, array(['DSL', 'Fiber optic', 'No'], dtype=object)],\n",
       " 'onlinesecurity': [3,\n",
       "  array(['No', 'Yes', 'No internet service'], dtype=object)],\n",
       " 'onlinebackup': [3,\n",
       "  array(['Yes', 'No', 'No internet service'], dtype=object)],\n",
       " 'deviceprotection': [3,\n",
       "  array(['No', 'Yes', 'No internet service'], dtype=object)],\n",
       " 'techsupport': [3, array(['No', 'Yes', 'No internet service'], dtype=object)],\n",
       " 'streamingtv': [3, array(['No', 'Yes', 'No internet service'], dtype=object)],\n",
       " 'streamingmovies': [3,\n",
       "  array(['No', 'Yes', 'No internet service'], dtype=object)],\n",
       " 'contract': [3,\n",
       "  array(['Month-to-month', 'One year', 'Two year'], dtype=object)],\n",
       " 'paperlessbilling': [2, array(['Yes', 'No'], dtype=object)],\n",
       " 'paymentmethod': [4,\n",
       "  array(['Electronic check', 'Mailed check', 'Bank transfer (automatic)',\n",
       "         'Credit card (automatic)'], dtype=object)],\n",
       " 'monthlycharges': [1585, array([29.85, 56.95, 53.85, 42.3 , 70.7 ])],\n",
       " 'totalcharges': [6531,\n",
       "  array(['29.85', '1889.5', '108.15', '1840.75', '151.65'], dtype=object)],\n",
       " 'churn': [2, array(['No', 'Yes'], dtype=object)]}"
      ]
     },
     "execution_count": 10,
     "metadata": {},
     "output_type": "execute_result"
    }
   ],
   "source": [
    "# Checking dict \n",
    "column_info"
   ]
  },
  {
   "cell_type": "code",
   "execution_count": 11,
   "id": "50cdafd7",
   "metadata": {},
   "outputs": [
    {
     "data": {
      "text/plain": [
       "0     No\n",
       "1     No\n",
       "2    Yes\n",
       "3     No\n",
       "4    Yes\n",
       "Name: churn, dtype: object"
      ]
     },
     "execution_count": 11,
     "metadata": {},
     "output_type": "execute_result"
    }
   ],
   "source": [
    "# Checking on our target feature. \n",
    "telco_data.churn.head()"
   ]
  },
  {
   "cell_type": "code",
   "execution_count": 12,
   "id": "86b92358",
   "metadata": {},
   "outputs": [
    {
     "data": {
      "text/plain": [
       "array([0, 1])"
      ]
     },
     "execution_count": 12,
     "metadata": {},
     "output_type": "execute_result"
    }
   ],
   "source": [
    "# converting churn to int.\n",
    "telco_data['churn'] = pd.to_numeric(telco_data['churn'] == 'Yes').astype(int)\n",
    "\n",
    "# Checking Feature. \n",
    "telco_data['churn'].unique()"
   ]
  },
  {
   "cell_type": "code",
   "execution_count": 13,
   "id": "ee1616e3",
   "metadata": {},
   "outputs": [
    {
     "ename": "SyntaxError",
     "evalue": "invalid syntax (600084747.py, line 4)",
     "output_type": "error",
     "traceback": [
      "\u001b[1;36m  Input \u001b[1;32mIn [13]\u001b[1;36m\u001b[0m\n\u001b[1;33m    telco_data[col].\u001b[0m\n\u001b[1;37m                    ^\u001b[0m\n\u001b[1;31mSyntaxError\u001b[0m\u001b[1;31m:\u001b[0m invalid syntax\n"
     ]
    }
   ],
   "source": [
    "# Converting strings with binary value to int. \n",
    "for col in columns: \n",
    "    if telco_data[col].nunique() == 2: \n",
    "        telco_data[col]."
   ]
  },
  {
   "cell_type": "markdown",
   "id": "0886d25a",
   "metadata": {},
   "source": [
    "## Data Validataion. "
   ]
  },
  {
   "cell_type": "code",
   "execution_count": null,
   "id": "ae4eb761",
   "metadata": {},
   "outputs": [],
   "source": [
    "# import sklearn data validation package. \n",
    "from sklearn.model_selection import train_test_split"
   ]
  }
 ],
 "metadata": {
  "kernelspec": {
   "display_name": "Python 3 (ipykernel)",
   "language": "python",
   "name": "python3"
  },
  "language_info": {
   "codemirror_mode": {
    "name": "ipython",
    "version": 3
   },
   "file_extension": ".py",
   "mimetype": "text/x-python",
   "name": "python",
   "nbconvert_exporter": "python",
   "pygments_lexer": "ipython3",
   "version": "3.9.13"
  }
 },
 "nbformat": 4,
 "nbformat_minor": 5
}
