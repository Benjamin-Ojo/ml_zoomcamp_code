{
 "cells": [
  {
   "cell_type": "markdown",
   "id": "094b4105",
   "metadata": {},
   "source": [
    "# Evaluation Metrics. "
   ]
  },
  {
   "cell_type": "code",
   "execution_count": 1,
   "id": "0a1168a0",
   "metadata": {},
   "outputs": [],
   "source": [
    "# Import package. \n",
    "\n",
    "# Data Manipulation.\n",
    "import pandas as pd\n",
    "import numpy as np\n",
    "\n",
    "# Data Visualization.\n",
    "import seaborn as sns\n",
    "import matplotlib.pyplot as plt\n",
    "\n",
    "# Other packages.\n",
    "%matplotlib inline"
   ]
  },
  {
   "cell_type": "code",
   "execution_count": 2,
   "id": "54007288",
   "metadata": {},
   "outputs": [],
   "source": [
    "# Scikit Learn Packages.\n",
    "from sklearn.model_selection import train_test_split \n",
    "from sklearn.feature_extraction import DictVectorizer\n",
    "from sklearn.linear_model import LogisticRegression"
   ]
  },
  {
   "cell_type": "code",
   "execution_count": 3,
   "id": "57b949c4",
   "metadata": {},
   "outputs": [
    {
     "data": {
      "text/html": [
       "<div>\n",
       "<style scoped>\n",
       "    .dataframe tbody tr th:only-of-type {\n",
       "        vertical-align: middle;\n",
       "    }\n",
       "\n",
       "    .dataframe tbody tr th {\n",
       "        vertical-align: top;\n",
       "    }\n",
       "\n",
       "    .dataframe thead th {\n",
       "        text-align: right;\n",
       "    }\n",
       "</style>\n",
       "<table border=\"1\" class=\"dataframe\">\n",
       "  <thead>\n",
       "    <tr style=\"text-align: right;\">\n",
       "      <th></th>\n",
       "      <th>customerID</th>\n",
       "      <th>gender</th>\n",
       "      <th>SeniorCitizen</th>\n",
       "      <th>Partner</th>\n",
       "      <th>Dependents</th>\n",
       "      <th>tenure</th>\n",
       "      <th>PhoneService</th>\n",
       "      <th>MultipleLines</th>\n",
       "      <th>InternetService</th>\n",
       "      <th>OnlineSecurity</th>\n",
       "      <th>...</th>\n",
       "      <th>DeviceProtection</th>\n",
       "      <th>TechSupport</th>\n",
       "      <th>StreamingTV</th>\n",
       "      <th>StreamingMovies</th>\n",
       "      <th>Contract</th>\n",
       "      <th>PaperlessBilling</th>\n",
       "      <th>PaymentMethod</th>\n",
       "      <th>MonthlyCharges</th>\n",
       "      <th>TotalCharges</th>\n",
       "      <th>Churn</th>\n",
       "    </tr>\n",
       "  </thead>\n",
       "  <tbody>\n",
       "    <tr>\n",
       "      <th>0</th>\n",
       "      <td>7590-VHVEG</td>\n",
       "      <td>Female</td>\n",
       "      <td>0</td>\n",
       "      <td>Yes</td>\n",
       "      <td>No</td>\n",
       "      <td>1</td>\n",
       "      <td>No</td>\n",
       "      <td>No phone service</td>\n",
       "      <td>DSL</td>\n",
       "      <td>No</td>\n",
       "      <td>...</td>\n",
       "      <td>No</td>\n",
       "      <td>No</td>\n",
       "      <td>No</td>\n",
       "      <td>No</td>\n",
       "      <td>Month-to-month</td>\n",
       "      <td>Yes</td>\n",
       "      <td>Electronic check</td>\n",
       "      <td>29.85</td>\n",
       "      <td>29.85</td>\n",
       "      <td>No</td>\n",
       "    </tr>\n",
       "    <tr>\n",
       "      <th>1</th>\n",
       "      <td>5575-GNVDE</td>\n",
       "      <td>Male</td>\n",
       "      <td>0</td>\n",
       "      <td>No</td>\n",
       "      <td>No</td>\n",
       "      <td>34</td>\n",
       "      <td>Yes</td>\n",
       "      <td>No</td>\n",
       "      <td>DSL</td>\n",
       "      <td>Yes</td>\n",
       "      <td>...</td>\n",
       "      <td>Yes</td>\n",
       "      <td>No</td>\n",
       "      <td>No</td>\n",
       "      <td>No</td>\n",
       "      <td>One year</td>\n",
       "      <td>No</td>\n",
       "      <td>Mailed check</td>\n",
       "      <td>56.95</td>\n",
       "      <td>1889.5</td>\n",
       "      <td>No</td>\n",
       "    </tr>\n",
       "    <tr>\n",
       "      <th>2</th>\n",
       "      <td>3668-QPYBK</td>\n",
       "      <td>Male</td>\n",
       "      <td>0</td>\n",
       "      <td>No</td>\n",
       "      <td>No</td>\n",
       "      <td>2</td>\n",
       "      <td>Yes</td>\n",
       "      <td>No</td>\n",
       "      <td>DSL</td>\n",
       "      <td>Yes</td>\n",
       "      <td>...</td>\n",
       "      <td>No</td>\n",
       "      <td>No</td>\n",
       "      <td>No</td>\n",
       "      <td>No</td>\n",
       "      <td>Month-to-month</td>\n",
       "      <td>Yes</td>\n",
       "      <td>Mailed check</td>\n",
       "      <td>53.85</td>\n",
       "      <td>108.15</td>\n",
       "      <td>Yes</td>\n",
       "    </tr>\n",
       "    <tr>\n",
       "      <th>3</th>\n",
       "      <td>7795-CFOCW</td>\n",
       "      <td>Male</td>\n",
       "      <td>0</td>\n",
       "      <td>No</td>\n",
       "      <td>No</td>\n",
       "      <td>45</td>\n",
       "      <td>No</td>\n",
       "      <td>No phone service</td>\n",
       "      <td>DSL</td>\n",
       "      <td>Yes</td>\n",
       "      <td>...</td>\n",
       "      <td>Yes</td>\n",
       "      <td>Yes</td>\n",
       "      <td>No</td>\n",
       "      <td>No</td>\n",
       "      <td>One year</td>\n",
       "      <td>No</td>\n",
       "      <td>Bank transfer (automatic)</td>\n",
       "      <td>42.30</td>\n",
       "      <td>1840.75</td>\n",
       "      <td>No</td>\n",
       "    </tr>\n",
       "    <tr>\n",
       "      <th>4</th>\n",
       "      <td>9237-HQITU</td>\n",
       "      <td>Female</td>\n",
       "      <td>0</td>\n",
       "      <td>No</td>\n",
       "      <td>No</td>\n",
       "      <td>2</td>\n",
       "      <td>Yes</td>\n",
       "      <td>No</td>\n",
       "      <td>Fiber optic</td>\n",
       "      <td>No</td>\n",
       "      <td>...</td>\n",
       "      <td>No</td>\n",
       "      <td>No</td>\n",
       "      <td>No</td>\n",
       "      <td>No</td>\n",
       "      <td>Month-to-month</td>\n",
       "      <td>Yes</td>\n",
       "      <td>Electronic check</td>\n",
       "      <td>70.70</td>\n",
       "      <td>151.65</td>\n",
       "      <td>Yes</td>\n",
       "    </tr>\n",
       "  </tbody>\n",
       "</table>\n",
       "<p>5 rows × 21 columns</p>\n",
       "</div>"
      ],
      "text/plain": [
       "   customerID  gender  SeniorCitizen Partner Dependents  tenure PhoneService  \\\n",
       "0  7590-VHVEG  Female              0     Yes         No       1           No   \n",
       "1  5575-GNVDE    Male              0      No         No      34          Yes   \n",
       "2  3668-QPYBK    Male              0      No         No       2          Yes   \n",
       "3  7795-CFOCW    Male              0      No         No      45           No   \n",
       "4  9237-HQITU  Female              0      No         No       2          Yes   \n",
       "\n",
       "      MultipleLines InternetService OnlineSecurity  ... DeviceProtection  \\\n",
       "0  No phone service             DSL             No  ...               No   \n",
       "1                No             DSL            Yes  ...              Yes   \n",
       "2                No             DSL            Yes  ...               No   \n",
       "3  No phone service             DSL            Yes  ...              Yes   \n",
       "4                No     Fiber optic             No  ...               No   \n",
       "\n",
       "  TechSupport StreamingTV StreamingMovies        Contract PaperlessBilling  \\\n",
       "0          No          No              No  Month-to-month              Yes   \n",
       "1          No          No              No        One year               No   \n",
       "2          No          No              No  Month-to-month              Yes   \n",
       "3         Yes          No              No        One year               No   \n",
       "4          No          No              No  Month-to-month              Yes   \n",
       "\n",
       "               PaymentMethod MonthlyCharges  TotalCharges Churn  \n",
       "0           Electronic check          29.85         29.85    No  \n",
       "1               Mailed check          56.95        1889.5    No  \n",
       "2               Mailed check          53.85        108.15   Yes  \n",
       "3  Bank transfer (automatic)          42.30       1840.75    No  \n",
       "4           Electronic check          70.70        151.65   Yes  \n",
       "\n",
       "[5 rows x 21 columns]"
      ]
     },
     "execution_count": 3,
     "metadata": {},
     "output_type": "execute_result"
    }
   ],
   "source": [
    "# Loading Data. \n",
    "telco_data = pd.read_csv('data/telco_customer_churn.csv')\n",
    "\n",
    "# Viewing data. \n",
    "telco_data.head()"
   ]
  },
  {
   "cell_type": "code",
   "execution_count": 4,
   "id": "c6226cb1",
   "metadata": {},
   "outputs": [
    {
     "data": {
      "text/html": [
       "<div>\n",
       "<style scoped>\n",
       "    .dataframe tbody tr th:only-of-type {\n",
       "        vertical-align: middle;\n",
       "    }\n",
       "\n",
       "    .dataframe tbody tr th {\n",
       "        vertical-align: top;\n",
       "    }\n",
       "\n",
       "    .dataframe thead th {\n",
       "        text-align: right;\n",
       "    }\n",
       "</style>\n",
       "<table border=\"1\" class=\"dataframe\">\n",
       "  <thead>\n",
       "    <tr style=\"text-align: right;\">\n",
       "      <th></th>\n",
       "      <th>0</th>\n",
       "      <th>1</th>\n",
       "      <th>2</th>\n",
       "      <th>3</th>\n",
       "      <th>4</th>\n",
       "    </tr>\n",
       "  </thead>\n",
       "  <tbody>\n",
       "    <tr>\n",
       "      <th>customerID</th>\n",
       "      <td>7590-VHVEG</td>\n",
       "      <td>5575-GNVDE</td>\n",
       "      <td>3668-QPYBK</td>\n",
       "      <td>7795-CFOCW</td>\n",
       "      <td>9237-HQITU</td>\n",
       "    </tr>\n",
       "    <tr>\n",
       "      <th>gender</th>\n",
       "      <td>Female</td>\n",
       "      <td>Male</td>\n",
       "      <td>Male</td>\n",
       "      <td>Male</td>\n",
       "      <td>Female</td>\n",
       "    </tr>\n",
       "    <tr>\n",
       "      <th>SeniorCitizen</th>\n",
       "      <td>0</td>\n",
       "      <td>0</td>\n",
       "      <td>0</td>\n",
       "      <td>0</td>\n",
       "      <td>0</td>\n",
       "    </tr>\n",
       "    <tr>\n",
       "      <th>Partner</th>\n",
       "      <td>Yes</td>\n",
       "      <td>No</td>\n",
       "      <td>No</td>\n",
       "      <td>No</td>\n",
       "      <td>No</td>\n",
       "    </tr>\n",
       "    <tr>\n",
       "      <th>Dependents</th>\n",
       "      <td>No</td>\n",
       "      <td>No</td>\n",
       "      <td>No</td>\n",
       "      <td>No</td>\n",
       "      <td>No</td>\n",
       "    </tr>\n",
       "    <tr>\n",
       "      <th>tenure</th>\n",
       "      <td>1</td>\n",
       "      <td>34</td>\n",
       "      <td>2</td>\n",
       "      <td>45</td>\n",
       "      <td>2</td>\n",
       "    </tr>\n",
       "    <tr>\n",
       "      <th>PhoneService</th>\n",
       "      <td>No</td>\n",
       "      <td>Yes</td>\n",
       "      <td>Yes</td>\n",
       "      <td>No</td>\n",
       "      <td>Yes</td>\n",
       "    </tr>\n",
       "    <tr>\n",
       "      <th>MultipleLines</th>\n",
       "      <td>No phone service</td>\n",
       "      <td>No</td>\n",
       "      <td>No</td>\n",
       "      <td>No phone service</td>\n",
       "      <td>No</td>\n",
       "    </tr>\n",
       "    <tr>\n",
       "      <th>InternetService</th>\n",
       "      <td>DSL</td>\n",
       "      <td>DSL</td>\n",
       "      <td>DSL</td>\n",
       "      <td>DSL</td>\n",
       "      <td>Fiber optic</td>\n",
       "    </tr>\n",
       "    <tr>\n",
       "      <th>OnlineSecurity</th>\n",
       "      <td>No</td>\n",
       "      <td>Yes</td>\n",
       "      <td>Yes</td>\n",
       "      <td>Yes</td>\n",
       "      <td>No</td>\n",
       "    </tr>\n",
       "    <tr>\n",
       "      <th>OnlineBackup</th>\n",
       "      <td>Yes</td>\n",
       "      <td>No</td>\n",
       "      <td>Yes</td>\n",
       "      <td>No</td>\n",
       "      <td>No</td>\n",
       "    </tr>\n",
       "    <tr>\n",
       "      <th>DeviceProtection</th>\n",
       "      <td>No</td>\n",
       "      <td>Yes</td>\n",
       "      <td>No</td>\n",
       "      <td>Yes</td>\n",
       "      <td>No</td>\n",
       "    </tr>\n",
       "    <tr>\n",
       "      <th>TechSupport</th>\n",
       "      <td>No</td>\n",
       "      <td>No</td>\n",
       "      <td>No</td>\n",
       "      <td>Yes</td>\n",
       "      <td>No</td>\n",
       "    </tr>\n",
       "    <tr>\n",
       "      <th>StreamingTV</th>\n",
       "      <td>No</td>\n",
       "      <td>No</td>\n",
       "      <td>No</td>\n",
       "      <td>No</td>\n",
       "      <td>No</td>\n",
       "    </tr>\n",
       "    <tr>\n",
       "      <th>StreamingMovies</th>\n",
       "      <td>No</td>\n",
       "      <td>No</td>\n",
       "      <td>No</td>\n",
       "      <td>No</td>\n",
       "      <td>No</td>\n",
       "    </tr>\n",
       "    <tr>\n",
       "      <th>Contract</th>\n",
       "      <td>Month-to-month</td>\n",
       "      <td>One year</td>\n",
       "      <td>Month-to-month</td>\n",
       "      <td>One year</td>\n",
       "      <td>Month-to-month</td>\n",
       "    </tr>\n",
       "    <tr>\n",
       "      <th>PaperlessBilling</th>\n",
       "      <td>Yes</td>\n",
       "      <td>No</td>\n",
       "      <td>Yes</td>\n",
       "      <td>No</td>\n",
       "      <td>Yes</td>\n",
       "    </tr>\n",
       "    <tr>\n",
       "      <th>PaymentMethod</th>\n",
       "      <td>Electronic check</td>\n",
       "      <td>Mailed check</td>\n",
       "      <td>Mailed check</td>\n",
       "      <td>Bank transfer (automatic)</td>\n",
       "      <td>Electronic check</td>\n",
       "    </tr>\n",
       "    <tr>\n",
       "      <th>MonthlyCharges</th>\n",
       "      <td>29.85</td>\n",
       "      <td>56.95</td>\n",
       "      <td>53.85</td>\n",
       "      <td>42.3</td>\n",
       "      <td>70.7</td>\n",
       "    </tr>\n",
       "    <tr>\n",
       "      <th>TotalCharges</th>\n",
       "      <td>29.85</td>\n",
       "      <td>1889.5</td>\n",
       "      <td>108.15</td>\n",
       "      <td>1840.75</td>\n",
       "      <td>151.65</td>\n",
       "    </tr>\n",
       "    <tr>\n",
       "      <th>Churn</th>\n",
       "      <td>No</td>\n",
       "      <td>No</td>\n",
       "      <td>Yes</td>\n",
       "      <td>No</td>\n",
       "      <td>Yes</td>\n",
       "    </tr>\n",
       "  </tbody>\n",
       "</table>\n",
       "</div>"
      ],
      "text/plain": [
       "                                 0             1               2  \\\n",
       "customerID              7590-VHVEG    5575-GNVDE      3668-QPYBK   \n",
       "gender                      Female          Male            Male   \n",
       "SeniorCitizen                    0             0               0   \n",
       "Partner                        Yes            No              No   \n",
       "Dependents                      No            No              No   \n",
       "tenure                           1            34               2   \n",
       "PhoneService                    No           Yes             Yes   \n",
       "MultipleLines     No phone service            No              No   \n",
       "InternetService                DSL           DSL             DSL   \n",
       "OnlineSecurity                  No           Yes             Yes   \n",
       "OnlineBackup                   Yes            No             Yes   \n",
       "DeviceProtection                No           Yes              No   \n",
       "TechSupport                     No            No              No   \n",
       "StreamingTV                     No            No              No   \n",
       "StreamingMovies                 No            No              No   \n",
       "Contract            Month-to-month      One year  Month-to-month   \n",
       "PaperlessBilling               Yes            No             Yes   \n",
       "PaymentMethod     Electronic check  Mailed check    Mailed check   \n",
       "MonthlyCharges               29.85         56.95           53.85   \n",
       "TotalCharges                 29.85        1889.5          108.15   \n",
       "Churn                           No            No             Yes   \n",
       "\n",
       "                                          3                 4  \n",
       "customerID                       7795-CFOCW        9237-HQITU  \n",
       "gender                                 Male            Female  \n",
       "SeniorCitizen                             0                 0  \n",
       "Partner                                  No                No  \n",
       "Dependents                               No                No  \n",
       "tenure                                   45                 2  \n",
       "PhoneService                             No               Yes  \n",
       "MultipleLines              No phone service                No  \n",
       "InternetService                         DSL       Fiber optic  \n",
       "OnlineSecurity                          Yes                No  \n",
       "OnlineBackup                             No                No  \n",
       "DeviceProtection                        Yes                No  \n",
       "TechSupport                             Yes                No  \n",
       "StreamingTV                              No                No  \n",
       "StreamingMovies                          No                No  \n",
       "Contract                           One year    Month-to-month  \n",
       "PaperlessBilling                         No               Yes  \n",
       "PaymentMethod     Bank transfer (automatic)  Electronic check  \n",
       "MonthlyCharges                         42.3              70.7  \n",
       "TotalCharges                        1840.75            151.65  \n",
       "Churn                                    No               Yes  "
      ]
     },
     "execution_count": 4,
     "metadata": {},
     "output_type": "execute_result"
    }
   ],
   "source": [
    "# viewing columns \n",
    "telco_data.head().T"
   ]
  },
  {
   "cell_type": "code",
   "execution_count": 5,
   "id": "122727bd",
   "metadata": {
    "scrolled": true
   },
   "outputs": [
    {
     "data": {
      "text/plain": [
       "Index(['customerID', 'gender', 'SeniorCitizen', 'Partner', 'Dependents',\n",
       "       'tenure', 'PhoneService', 'MultipleLines', 'InternetService',\n",
       "       'OnlineSecurity', 'OnlineBackup', 'DeviceProtection', 'TechSupport',\n",
       "       'StreamingTV', 'StreamingMovies', 'Contract', 'PaperlessBilling',\n",
       "       'PaymentMethod', 'MonthlyCharges', 'TotalCharges', 'Churn'],\n",
       "      dtype='object')"
      ]
     },
     "execution_count": 5,
     "metadata": {},
     "output_type": "execute_result"
    }
   ],
   "source": [
    "# Telco Data. \n",
    "columns = telco_data.columns\n",
    "\n",
    "# Viewing.\n",
    "columns"
   ]
  },
  {
   "cell_type": "code",
   "execution_count": 6,
   "id": "911723a6",
   "metadata": {},
   "outputs": [],
   "source": [
    "# Converting upper case to lower case. \n",
    "columns = columns.str.lower()\n",
    "\n",
    "telco_data.columns = columns"
   ]
  },
  {
   "cell_type": "code",
   "execution_count": 7,
   "id": "f04107a6",
   "metadata": {},
   "outputs": [
    {
     "data": {
      "text/plain": [
       "Index(['customerid', 'gender', 'seniorcitizen', 'partner', 'dependents',\n",
       "       'tenure', 'phoneservice', 'multiplelines', 'internetservice',\n",
       "       'onlinesecurity', 'onlinebackup', 'deviceprotection', 'techsupport',\n",
       "       'streamingtv', 'streamingmovies', 'contract', 'paperlessbilling',\n",
       "       'paymentmethod', 'monthlycharges', 'totalcharges', 'churn'],\n",
       "      dtype='object')"
      ]
     },
     "execution_count": 7,
     "metadata": {},
     "output_type": "execute_result"
    }
   ],
   "source": [
    "# Viewing Columns. \n",
    "telco_data.columns"
   ]
  },
  {
   "cell_type": "code",
   "execution_count": 8,
   "id": "4c44117d",
   "metadata": {},
   "outputs": [
    {
     "name": "stdout",
     "output_type": "stream",
     "text": [
      "<class 'pandas.core.frame.DataFrame'>\n",
      "RangeIndex: 7043 entries, 0 to 7042\n",
      "Data columns (total 21 columns):\n",
      " #   Column            Non-Null Count  Dtype  \n",
      "---  ------            --------------  -----  \n",
      " 0   customerid        7043 non-null   object \n",
      " 1   gender            7043 non-null   object \n",
      " 2   seniorcitizen     7043 non-null   int64  \n",
      " 3   partner           7043 non-null   object \n",
      " 4   dependents        7043 non-null   object \n",
      " 5   tenure            7043 non-null   int64  \n",
      " 6   phoneservice      7043 non-null   object \n",
      " 7   multiplelines     7043 non-null   object \n",
      " 8   internetservice   7043 non-null   object \n",
      " 9   onlinesecurity    7043 non-null   object \n",
      " 10  onlinebackup      7043 non-null   object \n",
      " 11  deviceprotection  7043 non-null   object \n",
      " 12  techsupport       7043 non-null   object \n",
      " 13  streamingtv       7043 non-null   object \n",
      " 14  streamingmovies   7043 non-null   object \n",
      " 15  contract          7043 non-null   object \n",
      " 16  paperlessbilling  7043 non-null   object \n",
      " 17  paymentmethod     7043 non-null   object \n",
      " 18  monthlycharges    7043 non-null   float64\n",
      " 19  totalcharges      7043 non-null   object \n",
      " 20  churn             7043 non-null   object \n",
      "dtypes: float64(1), int64(2), object(18)\n",
      "memory usage: 1.1+ MB\n"
     ]
    }
   ],
   "source": [
    "# Data structure.\n",
    "telco_data.info()"
   ]
  },
  {
   "cell_type": "code",
   "execution_count": 9,
   "id": "1e4054d7",
   "metadata": {},
   "outputs": [
    {
     "data": {
      "text/html": [
       "<div>\n",
       "<style scoped>\n",
       "    .dataframe tbody tr th:only-of-type {\n",
       "        vertical-align: middle;\n",
       "    }\n",
       "\n",
       "    .dataframe tbody tr th {\n",
       "        vertical-align: top;\n",
       "    }\n",
       "\n",
       "    .dataframe thead th {\n",
       "        text-align: right;\n",
       "    }\n",
       "</style>\n",
       "<table border=\"1\" class=\"dataframe\">\n",
       "  <thead>\n",
       "    <tr style=\"text-align: right;\">\n",
       "      <th></th>\n",
       "      <th>0</th>\n",
       "      <th>1</th>\n",
       "      <th>2</th>\n",
       "      <th>3</th>\n",
       "      <th>4</th>\n",
       "    </tr>\n",
       "  </thead>\n",
       "  <tbody>\n",
       "    <tr>\n",
       "      <th>customerid</th>\n",
       "      <td>7590-vhveg</td>\n",
       "      <td>5575-gnvde</td>\n",
       "      <td>3668-qpybk</td>\n",
       "      <td>7795-cfocw</td>\n",
       "      <td>9237-hqitu</td>\n",
       "    </tr>\n",
       "    <tr>\n",
       "      <th>gender</th>\n",
       "      <td>female</td>\n",
       "      <td>male</td>\n",
       "      <td>male</td>\n",
       "      <td>male</td>\n",
       "      <td>female</td>\n",
       "    </tr>\n",
       "    <tr>\n",
       "      <th>seniorcitizen</th>\n",
       "      <td>0</td>\n",
       "      <td>0</td>\n",
       "      <td>0</td>\n",
       "      <td>0</td>\n",
       "      <td>0</td>\n",
       "    </tr>\n",
       "    <tr>\n",
       "      <th>partner</th>\n",
       "      <td>yes</td>\n",
       "      <td>no</td>\n",
       "      <td>no</td>\n",
       "      <td>no</td>\n",
       "      <td>no</td>\n",
       "    </tr>\n",
       "    <tr>\n",
       "      <th>dependents</th>\n",
       "      <td>no</td>\n",
       "      <td>no</td>\n",
       "      <td>no</td>\n",
       "      <td>no</td>\n",
       "      <td>no</td>\n",
       "    </tr>\n",
       "    <tr>\n",
       "      <th>tenure</th>\n",
       "      <td>1</td>\n",
       "      <td>34</td>\n",
       "      <td>2</td>\n",
       "      <td>45</td>\n",
       "      <td>2</td>\n",
       "    </tr>\n",
       "    <tr>\n",
       "      <th>phoneservice</th>\n",
       "      <td>no</td>\n",
       "      <td>yes</td>\n",
       "      <td>yes</td>\n",
       "      <td>no</td>\n",
       "      <td>yes</td>\n",
       "    </tr>\n",
       "    <tr>\n",
       "      <th>multiplelines</th>\n",
       "      <td>no_phone_service</td>\n",
       "      <td>no</td>\n",
       "      <td>no</td>\n",
       "      <td>no_phone_service</td>\n",
       "      <td>no</td>\n",
       "    </tr>\n",
       "    <tr>\n",
       "      <th>internetservice</th>\n",
       "      <td>dsl</td>\n",
       "      <td>dsl</td>\n",
       "      <td>dsl</td>\n",
       "      <td>dsl</td>\n",
       "      <td>fiber_optic</td>\n",
       "    </tr>\n",
       "    <tr>\n",
       "      <th>onlinesecurity</th>\n",
       "      <td>no</td>\n",
       "      <td>yes</td>\n",
       "      <td>yes</td>\n",
       "      <td>yes</td>\n",
       "      <td>no</td>\n",
       "    </tr>\n",
       "    <tr>\n",
       "      <th>onlinebackup</th>\n",
       "      <td>yes</td>\n",
       "      <td>no</td>\n",
       "      <td>yes</td>\n",
       "      <td>no</td>\n",
       "      <td>no</td>\n",
       "    </tr>\n",
       "    <tr>\n",
       "      <th>deviceprotection</th>\n",
       "      <td>no</td>\n",
       "      <td>yes</td>\n",
       "      <td>no</td>\n",
       "      <td>yes</td>\n",
       "      <td>no</td>\n",
       "    </tr>\n",
       "    <tr>\n",
       "      <th>techsupport</th>\n",
       "      <td>no</td>\n",
       "      <td>no</td>\n",
       "      <td>no</td>\n",
       "      <td>yes</td>\n",
       "      <td>no</td>\n",
       "    </tr>\n",
       "    <tr>\n",
       "      <th>streamingtv</th>\n",
       "      <td>no</td>\n",
       "      <td>no</td>\n",
       "      <td>no</td>\n",
       "      <td>no</td>\n",
       "      <td>no</td>\n",
       "    </tr>\n",
       "    <tr>\n",
       "      <th>streamingmovies</th>\n",
       "      <td>no</td>\n",
       "      <td>no</td>\n",
       "      <td>no</td>\n",
       "      <td>no</td>\n",
       "      <td>no</td>\n",
       "    </tr>\n",
       "    <tr>\n",
       "      <th>contract</th>\n",
       "      <td>month-to-month</td>\n",
       "      <td>one_year</td>\n",
       "      <td>month-to-month</td>\n",
       "      <td>one_year</td>\n",
       "      <td>month-to-month</td>\n",
       "    </tr>\n",
       "    <tr>\n",
       "      <th>paperlessbilling</th>\n",
       "      <td>yes</td>\n",
       "      <td>no</td>\n",
       "      <td>yes</td>\n",
       "      <td>no</td>\n",
       "      <td>yes</td>\n",
       "    </tr>\n",
       "    <tr>\n",
       "      <th>paymentmethod</th>\n",
       "      <td>electronic_check</td>\n",
       "      <td>mailed_check</td>\n",
       "      <td>mailed_check</td>\n",
       "      <td>bank_transfer_(automatic)</td>\n",
       "      <td>electronic_check</td>\n",
       "    </tr>\n",
       "    <tr>\n",
       "      <th>monthlycharges</th>\n",
       "      <td>29.85</td>\n",
       "      <td>56.95</td>\n",
       "      <td>53.85</td>\n",
       "      <td>42.3</td>\n",
       "      <td>70.7</td>\n",
       "    </tr>\n",
       "    <tr>\n",
       "      <th>totalcharges</th>\n",
       "      <td>29.85</td>\n",
       "      <td>1889.5</td>\n",
       "      <td>108.15</td>\n",
       "      <td>1840.75</td>\n",
       "      <td>151.65</td>\n",
       "    </tr>\n",
       "    <tr>\n",
       "      <th>churn</th>\n",
       "      <td>0</td>\n",
       "      <td>0</td>\n",
       "      <td>1</td>\n",
       "      <td>0</td>\n",
       "      <td>1</td>\n",
       "    </tr>\n",
       "  </tbody>\n",
       "</table>\n",
       "</div>"
      ],
      "text/plain": [
       "                                 0             1               2  \\\n",
       "customerid              7590-vhveg    5575-gnvde      3668-qpybk   \n",
       "gender                      female          male            male   \n",
       "seniorcitizen                    0             0               0   \n",
       "partner                        yes            no              no   \n",
       "dependents                      no            no              no   \n",
       "tenure                           1            34               2   \n",
       "phoneservice                    no           yes             yes   \n",
       "multiplelines     no_phone_service            no              no   \n",
       "internetservice                dsl           dsl             dsl   \n",
       "onlinesecurity                  no           yes             yes   \n",
       "onlinebackup                   yes            no             yes   \n",
       "deviceprotection                no           yes              no   \n",
       "techsupport                     no            no              no   \n",
       "streamingtv                     no            no              no   \n",
       "streamingmovies                 no            no              no   \n",
       "contract            month-to-month      one_year  month-to-month   \n",
       "paperlessbilling               yes            no             yes   \n",
       "paymentmethod     electronic_check  mailed_check    mailed_check   \n",
       "monthlycharges               29.85         56.95           53.85   \n",
       "totalcharges                 29.85        1889.5          108.15   \n",
       "churn                            0             0               1   \n",
       "\n",
       "                                          3                 4  \n",
       "customerid                       7795-cfocw        9237-hqitu  \n",
       "gender                                 male            female  \n",
       "seniorcitizen                             0                 0  \n",
       "partner                                  no                no  \n",
       "dependents                               no                no  \n",
       "tenure                                   45                 2  \n",
       "phoneservice                             no               yes  \n",
       "multiplelines              no_phone_service                no  \n",
       "internetservice                         dsl       fiber_optic  \n",
       "onlinesecurity                          yes                no  \n",
       "onlinebackup                             no                no  \n",
       "deviceprotection                        yes                no  \n",
       "techsupport                             yes                no  \n",
       "streamingtv                              no                no  \n",
       "streamingmovies                          no                no  \n",
       "contract                           one_year    month-to-month  \n",
       "paperlessbilling                         no               yes  \n",
       "paymentmethod     bank_transfer_(automatic)  electronic_check  \n",
       "monthlycharges                         42.3              70.7  \n",
       "totalcharges                        1840.75            151.65  \n",
       "churn                                     0                 1  "
      ]
     },
     "execution_count": 9,
     "metadata": {},
     "output_type": "execute_result"
    }
   ],
   "source": [
    "# converting records to lower case and replacing spce with _. \n",
    "categorical_columns = telco_data.columns[telco_data.dtypes == 'object']\n",
    "\n",
    "# Creating a loop \n",
    "\n",
    "for cat in categorical_columns: \n",
    "    telco_data[cat] = telco_data[cat].str.lower().str.replace(' ', '_')\n",
    "    \n",
    "# Converting churn to int. \n",
    "telco_data['churn'] = (telco_data['churn'] == 'yes').astype(int)\n",
    "    \n",
    "telco_data.head().T"
   ]
  },
  {
   "cell_type": "code",
   "execution_count": 10,
   "id": "3e866a54",
   "metadata": {},
   "outputs": [
    {
     "data": {
      "text/plain": [
       "customerid          0\n",
       "gender              0\n",
       "seniorcitizen       0\n",
       "partner             0\n",
       "dependents          0\n",
       "tenure              0\n",
       "phoneservice        0\n",
       "multiplelines       0\n",
       "internetservice     0\n",
       "onlinesecurity      0\n",
       "onlinebackup        0\n",
       "deviceprotection    0\n",
       "techsupport         0\n",
       "streamingtv         0\n",
       "streamingmovies     0\n",
       "contract            0\n",
       "paperlessbilling    0\n",
       "paymentmethod       0\n",
       "monthlycharges      0\n",
       "totalcharges        0\n",
       "churn               0\n",
       "dtype: int64"
      ]
     },
     "execution_count": 10,
     "metadata": {},
     "output_type": "execute_result"
    }
   ],
   "source": [
    "# Checking for null. \n",
    "telco_data.isna().sum()"
   ]
  },
  {
   "cell_type": "code",
   "execution_count": 11,
   "id": "7371f1cb",
   "metadata": {},
   "outputs": [
    {
     "data": {
      "text/plain": [
       "0"
      ]
     },
     "execution_count": 11,
     "metadata": {},
     "output_type": "execute_result"
    }
   ],
   "source": [
    "# Converting totalcharge column to number. \n",
    "telco_data['totalcharges'] = pd.to_numeric(telco_data['totalcharges'], errors='coerce')\n",
    "\n",
    "# Filling null values with 0. \n",
    "telco_data['totalcharges'] = telco_data['totalcharges'].fillna(0)\n",
    "\n",
    "# checking for null. \n",
    "telco_data['totalcharges'].isna().sum()"
   ]
  },
  {
   "cell_type": "code",
   "execution_count": 12,
   "id": "47c2d51e",
   "metadata": {},
   "outputs": [],
   "source": [
    "# Setting up data validation dataset. \n",
    "telco_full_train, telco_test = train_test_split(telco_data, test_size = 0.20, random_state = 1)\n",
    "\n",
    "# Setting up training dataset.\n",
    "telco_train, telco_val = train_test_split(telco_full_train, test_size = 0.25, random_state = 1)\n",
    "\n",
    "# Creating y features. \n",
    "telco_full_ytrain = telco_full_train['churn']\n",
    "telco_ytrain = telco_train['churn'].values\n",
    "telco_ytest = telco_test['churn'].values\n",
    "telco_yval = telco_val['churn'].values\n",
    "\n",
    "# Deleting churn from dataset. \n",
    "del telco_full_train['churn']\n",
    "del telco_train['churn']\n",
    "del telco_val['churn']\n",
    "del telco_test['churn']"
   ]
  },
  {
   "cell_type": "code",
   "execution_count": 13,
   "id": "63701cc0",
   "metadata": {},
   "outputs": [],
   "source": [
    "# Converting data to one hot encodeing.\n",
    "\n",
    "# Creating Dictvetorizer instance.\n",
    "dv = DictVectorizer(sparse=False)\n",
    "\n",
    "# Converting data to dict. \n",
    "dict_train = telco_train.to_dict(orient = 'records')\n",
    "\n",
    "# Fitting and transforming dict_data. \n",
    "x_train = dv.fit_transform(dict_train)"
   ]
  },
  {
   "cell_type": "code",
   "execution_count": 14,
   "id": "195d099a",
   "metadata": {},
   "outputs": [
    {
     "data": {
      "text/plain": [
       "customerid          False\n",
       "gender              False\n",
       "seniorcitizen       False\n",
       "partner             False\n",
       "dependents          False\n",
       "tenure              False\n",
       "phoneservice        False\n",
       "multiplelines       False\n",
       "internetservice     False\n",
       "onlinesecurity      False\n",
       "onlinebackup        False\n",
       "deviceprotection    False\n",
       "techsupport         False\n",
       "streamingtv         False\n",
       "streamingmovies     False\n",
       "contract            False\n",
       "paperlessbilling    False\n",
       "paymentmethod       False\n",
       "monthlycharges      False\n",
       "totalcharges        False\n",
       "dtype: bool"
      ]
     },
     "execution_count": 14,
     "metadata": {},
     "output_type": "execute_result"
    }
   ],
   "source": [
    "telco_train.isnull().any()"
   ]
  },
  {
   "cell_type": "code",
   "execution_count": 15,
   "id": "8589a5b5",
   "metadata": {},
   "outputs": [
    {
     "name": "stderr",
     "output_type": "stream",
     "text": [
      "C:\\Users\\User1\\anaconda3\\envs\\ml-zoomcamp\\lib\\site-packages\\sklearn\\linear_model\\_logistic.py:444: ConvergenceWarning: lbfgs failed to converge (status=1):\n",
      "STOP: TOTAL NO. of ITERATIONS REACHED LIMIT.\n",
      "\n",
      "Increase the number of iterations (max_iter) or scale the data as shown in:\n",
      "    https://scikit-learn.org/stable/modules/preprocessing.html\n",
      "Please also refer to the documentation for alternative solver options:\n",
      "    https://scikit-learn.org/stable/modules/linear_model.html#logistic-regression\n",
      "  n_iter_i = _check_optimize_result(\n"
     ]
    },
    {
     "data": {
      "text/html": [
       "<style>#sk-container-id-1 {color: black;background-color: white;}#sk-container-id-1 pre{padding: 0;}#sk-container-id-1 div.sk-toggleable {background-color: white;}#sk-container-id-1 label.sk-toggleable__label {cursor: pointer;display: block;width: 100%;margin-bottom: 0;padding: 0.3em;box-sizing: border-box;text-align: center;}#sk-container-id-1 label.sk-toggleable__label-arrow:before {content: \"▸\";float: left;margin-right: 0.25em;color: #696969;}#sk-container-id-1 label.sk-toggleable__label-arrow:hover:before {color: black;}#sk-container-id-1 div.sk-estimator:hover label.sk-toggleable__label-arrow:before {color: black;}#sk-container-id-1 div.sk-toggleable__content {max-height: 0;max-width: 0;overflow: hidden;text-align: left;background-color: #f0f8ff;}#sk-container-id-1 div.sk-toggleable__content pre {margin: 0.2em;color: black;border-radius: 0.25em;background-color: #f0f8ff;}#sk-container-id-1 input.sk-toggleable__control:checked~div.sk-toggleable__content {max-height: 200px;max-width: 100%;overflow: auto;}#sk-container-id-1 input.sk-toggleable__control:checked~label.sk-toggleable__label-arrow:before {content: \"▾\";}#sk-container-id-1 div.sk-estimator input.sk-toggleable__control:checked~label.sk-toggleable__label {background-color: #d4ebff;}#sk-container-id-1 div.sk-label input.sk-toggleable__control:checked~label.sk-toggleable__label {background-color: #d4ebff;}#sk-container-id-1 input.sk-hidden--visually {border: 0;clip: rect(1px 1px 1px 1px);clip: rect(1px, 1px, 1px, 1px);height: 1px;margin: -1px;overflow: hidden;padding: 0;position: absolute;width: 1px;}#sk-container-id-1 div.sk-estimator {font-family: monospace;background-color: #f0f8ff;border: 1px dotted black;border-radius: 0.25em;box-sizing: border-box;margin-bottom: 0.5em;}#sk-container-id-1 div.sk-estimator:hover {background-color: #d4ebff;}#sk-container-id-1 div.sk-parallel-item::after {content: \"\";width: 100%;border-bottom: 1px solid gray;flex-grow: 1;}#sk-container-id-1 div.sk-label:hover label.sk-toggleable__label {background-color: #d4ebff;}#sk-container-id-1 div.sk-serial::before {content: \"\";position: absolute;border-left: 1px solid gray;box-sizing: border-box;top: 0;bottom: 0;left: 50%;z-index: 0;}#sk-container-id-1 div.sk-serial {display: flex;flex-direction: column;align-items: center;background-color: white;padding-right: 0.2em;padding-left: 0.2em;position: relative;}#sk-container-id-1 div.sk-item {position: relative;z-index: 1;}#sk-container-id-1 div.sk-parallel {display: flex;align-items: stretch;justify-content: center;background-color: white;position: relative;}#sk-container-id-1 div.sk-item::before, #sk-container-id-1 div.sk-parallel-item::before {content: \"\";position: absolute;border-left: 1px solid gray;box-sizing: border-box;top: 0;bottom: 0;left: 50%;z-index: -1;}#sk-container-id-1 div.sk-parallel-item {display: flex;flex-direction: column;z-index: 1;position: relative;background-color: white;}#sk-container-id-1 div.sk-parallel-item:first-child::after {align-self: flex-end;width: 50%;}#sk-container-id-1 div.sk-parallel-item:last-child::after {align-self: flex-start;width: 50%;}#sk-container-id-1 div.sk-parallel-item:only-child::after {width: 0;}#sk-container-id-1 div.sk-dashed-wrapped {border: 1px dashed gray;margin: 0 0.4em 0.5em 0.4em;box-sizing: border-box;padding-bottom: 0.4em;background-color: white;}#sk-container-id-1 div.sk-label label {font-family: monospace;font-weight: bold;display: inline-block;line-height: 1.2em;}#sk-container-id-1 div.sk-label-container {text-align: center;}#sk-container-id-1 div.sk-container {/* jupyter's `normalize.less` sets `[hidden] { display: none; }` but bootstrap.min.css set `[hidden] { display: none !important; }` so we also need the `!important` here to be able to override the default hidden behavior on the sphinx rendered scikit-learn.org. See: https://github.com/scikit-learn/scikit-learn/issues/21755 */display: inline-block !important;position: relative;}#sk-container-id-1 div.sk-text-repr-fallback {display: none;}</style><div id=\"sk-container-id-1\" class=\"sk-top-container\"><div class=\"sk-text-repr-fallback\"><pre>LogisticRegression()</pre><b>In a Jupyter environment, please rerun this cell to show the HTML representation or trust the notebook. <br />On GitHub, the HTML representation is unable to render, please try loading this page with nbviewer.org.</b></div><div class=\"sk-container\" hidden><div class=\"sk-item\"><div class=\"sk-estimator sk-toggleable\"><input class=\"sk-toggleable__control sk-hidden--visually\" id=\"sk-estimator-id-1\" type=\"checkbox\" checked><label for=\"sk-estimator-id-1\" class=\"sk-toggleable__label sk-toggleable__label-arrow\">LogisticRegression</label><div class=\"sk-toggleable__content\"><pre>LogisticRegression()</pre></div></div></div></div></div>"
      ],
      "text/plain": [
       "LogisticRegression()"
      ]
     },
     "execution_count": 15,
     "metadata": {},
     "output_type": "execute_result"
    }
   ],
   "source": [
    "# Training Logistics Regression. \n",
    "\n",
    "# Creating instanse. \n",
    "model = LogisticRegression()\n",
    "model.fit(x_train, telco_ytrain)"
   ]
  },
  {
   "cell_type": "code",
   "execution_count": 16,
   "id": "9009b2d5",
   "metadata": {},
   "outputs": [
    {
     "data": {
      "text/plain": [
       "0.8048261178140526"
      ]
     },
     "execution_count": 16,
     "metadata": {},
     "output_type": "execute_result"
    }
   ],
   "source": [
    "# convertin data to dict.\n",
    "dict_val = telco_val.to_dict(orient = 'records')\n",
    "x_val = dv.transform(dict_val)\n",
    "\n",
    "# Predicting Y with validation dataset. \n",
    "y_pred = model.predict_proba(x_val)[:, 1]\n",
    "\n",
    "# Creating threshold \n",
    "churn_decision = (y_pred >= 0.5)\n",
    "\n",
    "# checking probability of churn\n",
    "(telco_yval.astype(int) == churn_decision).mean()"
   ]
  },
  {
   "cell_type": "markdown",
   "id": "7dc40761",
   "metadata": {},
   "source": [
    "## Accuracy "
   ]
  },
  {
   "cell_type": "code",
   "execution_count": 17,
   "id": "b3d208ed",
   "metadata": {},
   "outputs": [],
   "source": [
    "from sklearn.metrics import accuracy_score"
   ]
  },
  {
   "cell_type": "code",
   "execution_count": 18,
   "id": "170dcf3c",
   "metadata": {},
   "outputs": [
    {
     "data": {
      "text/plain": [
       "0.8048261178140526"
      ]
     },
     "execution_count": 18,
     "metadata": {},
     "output_type": "execute_result"
    }
   ],
   "source": [
    "# Accuracy score for valiation dataset. \n",
    "accuracy_score(telco_yval, y_pred >= 0.5)"
   ]
  },
  {
   "cell_type": "code",
   "execution_count": 19,
   "id": "41e8345d",
   "metadata": {},
   "outputs": [
    {
     "data": {
      "text/plain": [
       "array([0.  , 0.05, 0.1 , 0.15, 0.2 , 0.25, 0.3 , 0.35, 0.4 , 0.45, 0.5 ,\n",
       "       0.55, 0.6 , 0.65, 0.7 , 0.75, 0.8 , 0.85, 0.9 , 0.95, 1.  ])"
      ]
     },
     "execution_count": 19,
     "metadata": {},
     "output_type": "execute_result"
    }
   ],
   "source": [
    "# Testing Threshold.\n",
    "threshold = np.linspace(0,1, 21)\n",
    "\n",
    "threshold"
   ]
  },
  {
   "cell_type": "code",
   "execution_count": 20,
   "id": "19c12f46",
   "metadata": {},
   "outputs": [
    {
     "name": "stdout",
     "output_type": "stream",
     "text": [
      "0.0: 0.274\n",
      "0.05: 0.507\n",
      "0.1: 0.598\n",
      "0.15: 0.661\n",
      "0.2: 0.703\n",
      "0.25: 0.739\n",
      "0.3: 0.755\n",
      "0.35: 0.764\n",
      "0.4: 0.784\n",
      "0.45: 0.794\n",
      "0.5: 0.805\n",
      "0.55: 0.796\n",
      "0.6: 0.787\n",
      "0.65: 0.779\n",
      "0.7: 0.757\n",
      "0.75: 0.735\n",
      "0.8: 0.726\n",
      "0.85: 0.726\n",
      "0.9: 0.726\n",
      "0.95: 0.726\n",
      "1.0: 0.726\n"
     ]
    }
   ],
   "source": [
    "# Create a loop to test threshold accuracy\n",
    "accuracy = []\n",
    "\n",
    "for t in threshold:\n",
    "    score = accuracy_score(telco_yval, y_pred >= t)\n",
    "    accuracy.append(score)\n",
    "    print(f\"{t.round(2)}: {score.round(3)}\")"
   ]
  },
  {
   "cell_type": "code",
   "execution_count": 21,
   "id": "b55c817b",
   "metadata": {},
   "outputs": [
    {
     "data": {
      "image/png": "[encoded data removed]",
      "text/plain": [
       "<Figure size 1000x500 with 1 Axes>"
      ]
     },
     "metadata": {},
     "output_type": "display_data"
    }
   ],
   "source": [
    "# Plot Size.\n",
    "plt.figure(figsize = [10, 5])\n",
    "# Plot a line plot to visualize the \n",
    "plt.plot(threshold, accuracy)\n",
    "\n",
    "# Plot Annotation. \n",
    "plt.title('Accuracy & Threshold')\n",
    "plt.xlabel('Threshold Value')\n",
    "plt.ylabel('Accuracy Score')\n",
    "\n",
    "# Show Plot\n",
    "plt.show();"
   ]
  },
  {
   "cell_type": "markdown",
   "id": "e8f402d6",
   "metadata": {},
   "source": [
    "## Confusion Table. \n"
   ]
  },
  {
   "cell_type": "code",
   "execution_count": 22,
   "id": "0897e2bb",
   "metadata": {},
   "outputs": [],
   "source": [
    "# Deriving Table values. \n",
    "tp = ((y_pred > 0.5) & (telco_yval == 1)).sum()\n",
    "tn = ((y_pred < 0.5) & (telco_yval == 0)).sum()\n",
    "fp = ((y_pred > 0.5) & (telco_yval == 0)).sum()\n",
    "fn = ((y_pred < 0.5) & (telco_yval == 1)).sum()"
   ]
  },
  {
   "cell_type": "code",
   "execution_count": 23,
   "id": "8ddb9aed",
   "metadata": {},
   "outputs": [
    {
     "data": {
      "text/plain": [
       "(213, 921, 102, 173)"
      ]
     },
     "execution_count": 23,
     "metadata": {},
     "output_type": "execute_result"
    }
   ],
   "source": [
    "# Checking values. \n",
    "tp,tn,fp,fn"
   ]
  },
  {
   "cell_type": "code",
   "execution_count": 24,
   "id": "7b2fab03",
   "metadata": {},
   "outputs": [
    {
     "data": {
      "text/plain": [
       "array([213, 921, 102, 173])"
      ]
     },
     "execution_count": 24,
     "metadata": {},
     "output_type": "execute_result"
    }
   ],
   "source": [
    "# Viewing tabular result. \n",
    "confusion_table = np.array([tp, tn, fp, fn ])\n",
    "\n",
    "# viewing \n",
    "confusion_table"
   ]
  },
  {
   "cell_type": "markdown",
   "id": "bb6bb8c8",
   "metadata": {},
   "source": [
    "## Precision & Recall. \n",
    "\n",
    "This is an alternative measurement for accuracy score and it's base of confusion table."
   ]
  },
  {
   "cell_type": "markdown",
   "id": "0b290414",
   "metadata": {},
   "source": [
    "### Precision Score. \n",
    "This is the fraction of correct prediction positive records divided by the total positive predictions. \n",
    "\n",
    "p = tp/ (fp + tp) "
   ]
  },
  {
   "cell_type": "code",
   "execution_count": 25,
   "id": "1803f4c6",
   "metadata": {},
   "outputs": [
    {
     "data": {
      "text/plain": [
       "0.6761904761904762"
      ]
     },
     "execution_count": 25,
     "metadata": {},
     "output_type": "execute_result"
    }
   ],
   "source": [
    "# Getting p prediction. \n",
    "p = tp/ (tp + fp)\n",
    "\n",
    "# Checking values. \n",
    "p"
   ]
  },
  {
   "cell_type": "markdown",
   "id": "b10f2a5e",
   "metadata": {},
   "source": [
    "### Recall Score. \n",
    "This is the fraction of correctly identify predicted positive values divided by the total positive actual value. "
   ]
  },
  {
   "cell_type": "code",
   "execution_count": 26,
   "id": "d8c87611",
   "metadata": {},
   "outputs": [
    {
     "data": {
      "text/plain": [
       "0.5518134715025906"
      ]
     },
     "execution_count": 26,
     "metadata": {},
     "output_type": "execute_result"
    }
   ],
   "source": [
    "# Calculating r recall score. \n",
    "r = tp/ (tp + fn)\n",
    "\n",
    "# Checking result. \n",
    "r"
   ]
  },
  {
   "cell_type": "code",
   "execution_count": 27,
   "id": "437bf812",
   "metadata": {},
   "outputs": [
    {
     "data": {
      "text/plain": [
       "(0.805, 0.676, 0.552)"
      ]
     },
     "execution_count": 27,
     "metadata": {},
     "output_type": "execute_result"
    }
   ],
   "source": [
    "# Comparing metric values. \n",
    "accuracy_score = accuracy_score(telco_yval, y_pred >= 0.5).round(3)\n",
    "r_score = r.round(3)\n",
    "p_score = p.round(3)\n",
    "\n",
    "# Viewing \n",
    "accuracy_score, p_score, r_score"
   ]
  },
  {
   "cell_type": "markdown",
   "id": "3d1002ff",
   "metadata": {},
   "source": [
    "## ROC Curve. "
   ]
  },
  {
   "cell_type": "code",
   "execution_count": 28,
   "id": "100c5582",
   "metadata": {},
   "outputs": [
    {
     "data": {
      "text/plain": [
       "(0.55, 0.16)"
      ]
     },
     "execution_count": 28,
     "metadata": {},
     "output_type": "execute_result"
    }
   ],
   "source": [
    "# TPR & FPR\n",
    "\n",
    "# TPR Score.\n",
    "tpr = tp/ (tp + fn)\n",
    "\n",
    "# FPR Score. \n",
    "fpr = fn/ (fn + tn)\n",
    "\n",
    "\n",
    "# Checking result. \n",
    "tpr.round(2), fpr.round(2)"
   ]
  },
  {
   "cell_type": "code",
   "execution_count": 29,
   "id": "a09a1973",
   "metadata": {},
   "outputs": [
    {
     "data": {
      "text/html": [
       "<div>\n",
       "<style scoped>\n",
       "    .dataframe tbody tr th:only-of-type {\n",
       "        vertical-align: middle;\n",
       "    }\n",
       "\n",
       "    .dataframe tbody tr th {\n",
       "        vertical-align: top;\n",
       "    }\n",
       "\n",
       "    .dataframe thead th {\n",
       "        text-align: right;\n",
       "    }\n",
       "</style>\n",
       "<table border=\"1\" class=\"dataframe\">\n",
       "  <thead>\n",
       "    <tr style=\"text-align: right;\">\n",
       "      <th></th>\n",
       "      <th>threshold</th>\n",
       "      <th>tp</th>\n",
       "      <th>fp</th>\n",
       "      <th>tn</th>\n",
       "      <th>fn</th>\n",
       "      <th>fpr</th>\n",
       "      <th>tpr</th>\n",
       "    </tr>\n",
       "  </thead>\n",
       "  <tbody>\n",
       "    <tr>\n",
       "      <th>0</th>\n",
       "      <td>0.0</td>\n",
       "      <td>386</td>\n",
       "      <td>1023</td>\n",
       "      <td>0</td>\n",
       "      <td>0</td>\n",
       "      <td>1.000000</td>\n",
       "      <td>1.000000</td>\n",
       "    </tr>\n",
       "    <tr>\n",
       "      <th>10</th>\n",
       "      <td>0.1</td>\n",
       "      <td>367</td>\n",
       "      <td>547</td>\n",
       "      <td>476</td>\n",
       "      <td>19</td>\n",
       "      <td>0.534702</td>\n",
       "      <td>0.950777</td>\n",
       "    </tr>\n",
       "    <tr>\n",
       "      <th>20</th>\n",
       "      <td>0.2</td>\n",
       "      <td>335</td>\n",
       "      <td>368</td>\n",
       "      <td>655</td>\n",
       "      <td>51</td>\n",
       "      <td>0.359726</td>\n",
       "      <td>0.867876</td>\n",
       "    </tr>\n",
       "    <tr>\n",
       "      <th>30</th>\n",
       "      <td>0.3</td>\n",
       "      <td>291</td>\n",
       "      <td>250</td>\n",
       "      <td>773</td>\n",
       "      <td>95</td>\n",
       "      <td>0.244379</td>\n",
       "      <td>0.753886</td>\n",
       "    </tr>\n",
       "    <tr>\n",
       "      <th>40</th>\n",
       "      <td>0.4</td>\n",
       "      <td>256</td>\n",
       "      <td>174</td>\n",
       "      <td>849</td>\n",
       "      <td>130</td>\n",
       "      <td>0.170088</td>\n",
       "      <td>0.663212</td>\n",
       "    </tr>\n",
       "    <tr>\n",
       "      <th>50</th>\n",
       "      <td>0.5</td>\n",
       "      <td>213</td>\n",
       "      <td>102</td>\n",
       "      <td>921</td>\n",
       "      <td>173</td>\n",
       "      <td>0.099707</td>\n",
       "      <td>0.551813</td>\n",
       "    </tr>\n",
       "    <tr>\n",
       "      <th>60</th>\n",
       "      <td>0.6</td>\n",
       "      <td>140</td>\n",
       "      <td>54</td>\n",
       "      <td>969</td>\n",
       "      <td>246</td>\n",
       "      <td>0.052786</td>\n",
       "      <td>0.362694</td>\n",
       "    </tr>\n",
       "    <tr>\n",
       "      <th>70</th>\n",
       "      <td>0.7</td>\n",
       "      <td>55</td>\n",
       "      <td>11</td>\n",
       "      <td>1012</td>\n",
       "      <td>331</td>\n",
       "      <td>0.010753</td>\n",
       "      <td>0.142487</td>\n",
       "    </tr>\n",
       "    <tr>\n",
       "      <th>80</th>\n",
       "      <td>0.8</td>\n",
       "      <td>0</td>\n",
       "      <td>0</td>\n",
       "      <td>1023</td>\n",
       "      <td>386</td>\n",
       "      <td>0.000000</td>\n",
       "      <td>0.000000</td>\n",
       "    </tr>\n",
       "    <tr>\n",
       "      <th>90</th>\n",
       "      <td>0.9</td>\n",
       "      <td>0</td>\n",
       "      <td>0</td>\n",
       "      <td>1023</td>\n",
       "      <td>386</td>\n",
       "      <td>0.000000</td>\n",
       "      <td>0.000000</td>\n",
       "    </tr>\n",
       "    <tr>\n",
       "      <th>100</th>\n",
       "      <td>1.0</td>\n",
       "      <td>0</td>\n",
       "      <td>0</td>\n",
       "      <td>1023</td>\n",
       "      <td>386</td>\n",
       "      <td>0.000000</td>\n",
       "      <td>0.000000</td>\n",
       "    </tr>\n",
       "  </tbody>\n",
       "</table>\n",
       "</div>"
      ],
      "text/plain": [
       "     threshold   tp    fp    tn   fn       fpr       tpr\n",
       "0          0.0  386  1023     0    0  1.000000  1.000000\n",
       "10         0.1  367   547   476   19  0.534702  0.950777\n",
       "20         0.2  335   368   655   51  0.359726  0.867876\n",
       "30         0.3  291   250   773   95  0.244379  0.753886\n",
       "40         0.4  256   174   849  130  0.170088  0.663212\n",
       "50         0.5  213   102   921  173  0.099707  0.551813\n",
       "60         0.6  140    54   969  246  0.052786  0.362694\n",
       "70         0.7   55    11  1012  331  0.010753  0.142487\n",
       "80         0.8    0     0  1023  386  0.000000  0.000000\n",
       "90         0.9    0     0  1023  386  0.000000  0.000000\n",
       "100        1.0    0     0  1023  386  0.000000  0.000000"
      ]
     },
     "execution_count": 29,
     "metadata": {},
     "output_type": "execute_result"
    }
   ],
   "source": [
    "# Evaluating different threshold.\n",
    "threshold = np.linspace(0, 1, 101)\n",
    "\n",
    "# Score List. \n",
    "score = []\n",
    "\n",
    "# Creating loop\n",
    "for t in threshold: \n",
    "    tp = ((y_pred >= t) & (telco_yval == 1)).sum()\n",
    "    fp = ((y_pred >= t) & (telco_yval == 0)).sum()\n",
    "    tn = ((y_pred < t) & (telco_yval == 0)).sum()\n",
    "    fn = ((y_pred < t) & (telco_yval == 1)).sum()\n",
    "    \n",
    "    score.append((t, tp, fp, tn, fn))\n",
    "\n",
    "# Converting Data to a dataframe. \n",
    "df_score = pd.DataFrame(score)\n",
    "df_score.columns = ['threshold', 'tp', 'fp', 'tn', 'fn']\n",
    "\n",
    "# Getting tpr & fpv. \n",
    "df_score['fpr'] = df_score.fp / (df_score.fp + df_score.tn)\n",
    "df_score['tpr'] = df_score.tp / (df_score.tp + df_score.fn)\n",
    "\n",
    "# Checking data frame. \n",
    "df_score[::10]"
   ]
  },
  {
   "cell_type": "code",
   "execution_count": 30,
   "id": "42ce1b12",
   "metadata": {},
   "outputs": [
    {
     "data": {
      "text/plain": [
       "<matplotlib.legend.Legend at 0x2383135ef10>"
      ]
     },
     "execution_count": 30,
     "metadata": {},
     "output_type": "execute_result"
    },
    {
     "data": {
      "image/png": "[encoded data removed]",
      "text/plain": [
       "<Figure size 500x600 with 1 Axes>"
      ]
     },
     "metadata": {},
     "output_type": "display_data"
    }
   ],
   "source": [
    "# Visualizing TPR and FPR. \n",
    "plt.figure(figsize = [5, 6])\n",
    "\n",
    "plt.plot(df_score.threshold, df_score.tpr , label = 'TPR')\n",
    "plt.plot(df_score.threshold, df_score.fpr, label= 'FPR')\n",
    "\n",
    "plt.legend()"
   ]
  },
  {
   "cell_type": "markdown",
   "id": "301d2b9a",
   "metadata": {},
   "source": [
    "### Random Model. "
   ]
  },
  {
   "cell_type": "code",
   "execution_count": 31,
   "id": "7eb43ef2",
   "metadata": {},
   "outputs": [
    {
     "data": {
      "text/plain": [
       "array([0.18163835, 0.64261822, 0.16273302, ..., 0.13310616, 0.41215636,\n",
       "       0.45581894])"
      ]
     },
     "execution_count": 31,
     "metadata": {},
     "output_type": "execute_result"
    }
   ],
   "source": [
    "# Getting random y prediction. \n",
    "y_rand = np.random.uniform(0, 1, len(telco_yval))\n",
    "\n",
    "# checking values. \n",
    "y_rand"
   ]
  },
  {
   "cell_type": "code",
   "execution_count": 32,
   "id": "1bea035a",
   "metadata": {},
   "outputs": [],
   "source": [
    "# Defining the tpr-fpr-score. \n",
    "def tpr_fpr_score(y_val, y_predict): \n",
    "    # Evaluating different threshold.\n",
    "    threshold = np.linspace(0, 1, 101)\n",
    "\n",
    "    # Score List. \n",
    "    score = []\n",
    "    \n",
    "    # Creating loop\n",
    "    for t in threshold: \n",
    "        tp = ((y_predict >= t) & (y_val == 1)).sum()\n",
    "        fp = ((y_predict >= t) & (y_val == 0)).sum()\n",
    "        tn = ((y_predict < t) & (y_val == 0)).sum()\n",
    "        fn = ((y_predict < t) & (y_val == 1)).sum()\n",
    "        \n",
    "        score.append((t, tp, fp, tn, fn))\n",
    "\n",
    "    # Converting Data to a dataframe. \n",
    "    df_score = pd.DataFrame(score)\n",
    "    df_score.columns = ['threshold', 'tp', 'fp', 'tn', 'fn']\n",
    "    \n",
    "    # Getting tpr & fpv. \n",
    "    df_score['fpr'] = df_score.fp / (df_score.fp + df_score.tn)\n",
    "    df_score['tpr'] = df_score.tp / (df_score.tp + df_score.fn)\n",
    "\n",
    "    return df_score \n",
    "    "
   ]
  },
  {
   "cell_type": "code",
   "execution_count": 33,
   "id": "32021a37",
   "metadata": {},
   "outputs": [
    {
     "data": {
      "text/html": [
       "<div>\n",
       "<style scoped>\n",
       "    .dataframe tbody tr th:only-of-type {\n",
       "        vertical-align: middle;\n",
       "    }\n",
       "\n",
       "    .dataframe tbody tr th {\n",
       "        vertical-align: top;\n",
       "    }\n",
       "\n",
       "    .dataframe thead th {\n",
       "        text-align: right;\n",
       "    }\n",
       "</style>\n",
       "<table border=\"1\" class=\"dataframe\">\n",
       "  <thead>\n",
       "    <tr style=\"text-align: right;\">\n",
       "      <th></th>\n",
       "      <th>threshold</th>\n",
       "      <th>tp</th>\n",
       "      <th>fp</th>\n",
       "      <th>tn</th>\n",
       "      <th>fn</th>\n",
       "      <th>fpr</th>\n",
       "      <th>tpr</th>\n",
       "    </tr>\n",
       "  </thead>\n",
       "  <tbody>\n",
       "    <tr>\n",
       "      <th>0</th>\n",
       "      <td>0.0</td>\n",
       "      <td>386</td>\n",
       "      <td>1023</td>\n",
       "      <td>0</td>\n",
       "      <td>0</td>\n",
       "      <td>1.000000</td>\n",
       "      <td>1.000000</td>\n",
       "    </tr>\n",
       "    <tr>\n",
       "      <th>10</th>\n",
       "      <td>0.1</td>\n",
       "      <td>342</td>\n",
       "      <td>923</td>\n",
       "      <td>100</td>\n",
       "      <td>44</td>\n",
       "      <td>0.902248</td>\n",
       "      <td>0.886010</td>\n",
       "    </tr>\n",
       "    <tr>\n",
       "      <th>20</th>\n",
       "      <td>0.2</td>\n",
       "      <td>304</td>\n",
       "      <td>795</td>\n",
       "      <td>228</td>\n",
       "      <td>82</td>\n",
       "      <td>0.777126</td>\n",
       "      <td>0.787565</td>\n",
       "    </tr>\n",
       "    <tr>\n",
       "      <th>30</th>\n",
       "      <td>0.3</td>\n",
       "      <td>255</td>\n",
       "      <td>683</td>\n",
       "      <td>340</td>\n",
       "      <td>131</td>\n",
       "      <td>0.667644</td>\n",
       "      <td>0.660622</td>\n",
       "    </tr>\n",
       "    <tr>\n",
       "      <th>40</th>\n",
       "      <td>0.4</td>\n",
       "      <td>213</td>\n",
       "      <td>594</td>\n",
       "      <td>429</td>\n",
       "      <td>173</td>\n",
       "      <td>0.580645</td>\n",
       "      <td>0.551813</td>\n",
       "    </tr>\n",
       "    <tr>\n",
       "      <th>50</th>\n",
       "      <td>0.5</td>\n",
       "      <td>182</td>\n",
       "      <td>493</td>\n",
       "      <td>530</td>\n",
       "      <td>204</td>\n",
       "      <td>0.481916</td>\n",
       "      <td>0.471503</td>\n",
       "    </tr>\n",
       "    <tr>\n",
       "      <th>60</th>\n",
       "      <td>0.6</td>\n",
       "      <td>141</td>\n",
       "      <td>394</td>\n",
       "      <td>629</td>\n",
       "      <td>245</td>\n",
       "      <td>0.385142</td>\n",
       "      <td>0.365285</td>\n",
       "    </tr>\n",
       "    <tr>\n",
       "      <th>70</th>\n",
       "      <td>0.7</td>\n",
       "      <td>111</td>\n",
       "      <td>297</td>\n",
       "      <td>726</td>\n",
       "      <td>275</td>\n",
       "      <td>0.290323</td>\n",
       "      <td>0.287565</td>\n",
       "    </tr>\n",
       "    <tr>\n",
       "      <th>80</th>\n",
       "      <td>0.8</td>\n",
       "      <td>76</td>\n",
       "      <td>194</td>\n",
       "      <td>829</td>\n",
       "      <td>310</td>\n",
       "      <td>0.189638</td>\n",
       "      <td>0.196891</td>\n",
       "    </tr>\n",
       "    <tr>\n",
       "      <th>90</th>\n",
       "      <td>0.9</td>\n",
       "      <td>43</td>\n",
       "      <td>97</td>\n",
       "      <td>926</td>\n",
       "      <td>343</td>\n",
       "      <td>0.094819</td>\n",
       "      <td>0.111399</td>\n",
       "    </tr>\n",
       "    <tr>\n",
       "      <th>100</th>\n",
       "      <td>1.0</td>\n",
       "      <td>0</td>\n",
       "      <td>0</td>\n",
       "      <td>1023</td>\n",
       "      <td>386</td>\n",
       "      <td>0.000000</td>\n",
       "      <td>0.000000</td>\n",
       "    </tr>\n",
       "  </tbody>\n",
       "</table>\n",
       "</div>"
      ],
      "text/plain": [
       "     threshold   tp    fp    tn   fn       fpr       tpr\n",
       "0          0.0  386  1023     0    0  1.000000  1.000000\n",
       "10         0.1  342   923   100   44  0.902248  0.886010\n",
       "20         0.2  304   795   228   82  0.777126  0.787565\n",
       "30         0.3  255   683   340  131  0.667644  0.660622\n",
       "40         0.4  213   594   429  173  0.580645  0.551813\n",
       "50         0.5  182   493   530  204  0.481916  0.471503\n",
       "60         0.6  141   394   629  245  0.385142  0.365285\n",
       "70         0.7  111   297   726  275  0.290323  0.287565\n",
       "80         0.8   76   194   829  310  0.189638  0.196891\n",
       "90         0.9   43    97   926  343  0.094819  0.111399\n",
       "100        1.0    0     0  1023  386  0.000000  0.000000"
      ]
     },
     "execution_count": 33,
     "metadata": {},
     "output_type": "execute_result"
    }
   ],
   "source": [
    "# y_rand data frame.\n",
    "df_rand = tpr_fpr_score(telco_yval, y_rand)\n",
    "\n",
    "# Checking values. \n",
    "df_rand[::10]"
   ]
  },
  {
   "cell_type": "code",
   "execution_count": 34,
   "id": "160a122a",
   "metadata": {},
   "outputs": [
    {
     "data": {
      "image/png": "[encoded data removed]",
      "text/plain": [
       "<Figure size 500x600 with 1 Axes>"
      ]
     },
     "metadata": {},
     "output_type": "display_data"
    }
   ],
   "source": [
    "# Visualizing TPR and FPR. \n",
    "plt.figure(figsize = [5, 6])\n",
    "\n",
    "plt.plot(df_rand.threshold, df_rand.tpr , label = 'TPR')\n",
    "plt.plot(df_rand.threshold, df_rand.fpr, label= 'FPR')\n",
    "\n",
    "plt.legend();"
   ]
  },
  {
   "cell_type": "markdown",
   "id": "0bea82f4",
   "metadata": {},
   "source": [
    "### Ideal Model. \n"
   ]
  },
  {
   "cell_type": "code",
   "execution_count": 35,
   "id": "f48c5c4a",
   "metadata": {},
   "outputs": [
    {
     "data": {
      "text/plain": [
       "(1409, 1409, 386, 1023)"
      ]
     },
     "execution_count": 35,
     "metadata": {},
     "output_type": "execute_result"
    }
   ],
   "source": [
    "# Get the y_val negative and positive \n",
    "num_pos = (telco_yval == 1).sum()\n",
    "num_neg = (telco_yval == 0).sum()\n",
    "\n",
    "# Repeat number as ideal model. \n",
    "y_ideal = np.repeat([0, 1], [num_neg, num_pos])\n",
    "y_ideal_pred = np.linspace(0, 1, len(telco_yval))\n",
    "\n",
    "# Check result. \n",
    "len(y_ideal),len(y_ideal_pred), num_pos, num_neg"
   ]
  },
  {
   "cell_type": "code",
   "execution_count": 36,
   "id": "4a1255c8",
   "metadata": {},
   "outputs": [
    {
     "data": {
      "text/html": [
       "<div>\n",
       "<style scoped>\n",
       "    .dataframe tbody tr th:only-of-type {\n",
       "        vertical-align: middle;\n",
       "    }\n",
       "\n",
       "    .dataframe tbody tr th {\n",
       "        vertical-align: top;\n",
       "    }\n",
       "\n",
       "    .dataframe thead th {\n",
       "        text-align: right;\n",
       "    }\n",
       "</style>\n",
       "<table border=\"1\" class=\"dataframe\">\n",
       "  <thead>\n",
       "    <tr style=\"text-align: right;\">\n",
       "      <th></th>\n",
       "      <th>threshold</th>\n",
       "      <th>tp</th>\n",
       "      <th>fp</th>\n",
       "      <th>tn</th>\n",
       "      <th>fn</th>\n",
       "      <th>fpr</th>\n",
       "      <th>tpr</th>\n",
       "    </tr>\n",
       "  </thead>\n",
       "  <tbody>\n",
       "    <tr>\n",
       "      <th>0</th>\n",
       "      <td>0.0</td>\n",
       "      <td>386</td>\n",
       "      <td>1023</td>\n",
       "      <td>0</td>\n",
       "      <td>0</td>\n",
       "      <td>1.000000</td>\n",
       "      <td>1.000000</td>\n",
       "    </tr>\n",
       "    <tr>\n",
       "      <th>10</th>\n",
       "      <td>0.1</td>\n",
       "      <td>386</td>\n",
       "      <td>882</td>\n",
       "      <td>141</td>\n",
       "      <td>0</td>\n",
       "      <td>0.862170</td>\n",
       "      <td>1.000000</td>\n",
       "    </tr>\n",
       "    <tr>\n",
       "      <th>20</th>\n",
       "      <td>0.2</td>\n",
       "      <td>386</td>\n",
       "      <td>741</td>\n",
       "      <td>282</td>\n",
       "      <td>0</td>\n",
       "      <td>0.724340</td>\n",
       "      <td>1.000000</td>\n",
       "    </tr>\n",
       "    <tr>\n",
       "      <th>30</th>\n",
       "      <td>0.3</td>\n",
       "      <td>386</td>\n",
       "      <td>600</td>\n",
       "      <td>423</td>\n",
       "      <td>0</td>\n",
       "      <td>0.586510</td>\n",
       "      <td>1.000000</td>\n",
       "    </tr>\n",
       "    <tr>\n",
       "      <th>40</th>\n",
       "      <td>0.4</td>\n",
       "      <td>386</td>\n",
       "      <td>459</td>\n",
       "      <td>564</td>\n",
       "      <td>0</td>\n",
       "      <td>0.448680</td>\n",
       "      <td>1.000000</td>\n",
       "    </tr>\n",
       "    <tr>\n",
       "      <th>50</th>\n",
       "      <td>0.5</td>\n",
       "      <td>386</td>\n",
       "      <td>319</td>\n",
       "      <td>704</td>\n",
       "      <td>0</td>\n",
       "      <td>0.311828</td>\n",
       "      <td>1.000000</td>\n",
       "    </tr>\n",
       "    <tr>\n",
       "      <th>60</th>\n",
       "      <td>0.6</td>\n",
       "      <td>386</td>\n",
       "      <td>178</td>\n",
       "      <td>845</td>\n",
       "      <td>0</td>\n",
       "      <td>0.173998</td>\n",
       "      <td>1.000000</td>\n",
       "    </tr>\n",
       "    <tr>\n",
       "      <th>70</th>\n",
       "      <td>0.7</td>\n",
       "      <td>386</td>\n",
       "      <td>37</td>\n",
       "      <td>986</td>\n",
       "      <td>0</td>\n",
       "      <td>0.036168</td>\n",
       "      <td>1.000000</td>\n",
       "    </tr>\n",
       "    <tr>\n",
       "      <th>80</th>\n",
       "      <td>0.8</td>\n",
       "      <td>282</td>\n",
       "      <td>0</td>\n",
       "      <td>1023</td>\n",
       "      <td>104</td>\n",
       "      <td>0.000000</td>\n",
       "      <td>0.730570</td>\n",
       "    </tr>\n",
       "    <tr>\n",
       "      <th>90</th>\n",
       "      <td>0.9</td>\n",
       "      <td>141</td>\n",
       "      <td>0</td>\n",
       "      <td>1023</td>\n",
       "      <td>245</td>\n",
       "      <td>0.000000</td>\n",
       "      <td>0.365285</td>\n",
       "    </tr>\n",
       "    <tr>\n",
       "      <th>100</th>\n",
       "      <td>1.0</td>\n",
       "      <td>1</td>\n",
       "      <td>0</td>\n",
       "      <td>1023</td>\n",
       "      <td>385</td>\n",
       "      <td>0.000000</td>\n",
       "      <td>0.002591</td>\n",
       "    </tr>\n",
       "  </tbody>\n",
       "</table>\n",
       "</div>"
      ],
      "text/plain": [
       "     threshold   tp    fp    tn   fn       fpr       tpr\n",
       "0          0.0  386  1023     0    0  1.000000  1.000000\n",
       "10         0.1  386   882   141    0  0.862170  1.000000\n",
       "20         0.2  386   741   282    0  0.724340  1.000000\n",
       "30         0.3  386   600   423    0  0.586510  1.000000\n",
       "40         0.4  386   459   564    0  0.448680  1.000000\n",
       "50         0.5  386   319   704    0  0.311828  1.000000\n",
       "60         0.6  386   178   845    0  0.173998  1.000000\n",
       "70         0.7  386    37   986    0  0.036168  1.000000\n",
       "80         0.8  282     0  1023  104  0.000000  0.730570\n",
       "90         0.9  141     0  1023  245  0.000000  0.365285\n",
       "100        1.0    1     0  1023  385  0.000000  0.002591"
      ]
     },
     "execution_count": 36,
     "metadata": {},
     "output_type": "execute_result"
    }
   ],
   "source": [
    "# y_ideal data frame.\n",
    "df_ideal = tpr_fpr_score(y_ideal, y_ideal_pred)\n",
    "\n",
    "# view result\n",
    "df_ideal[::10]"
   ]
  },
  {
   "cell_type": "code",
   "execution_count": 37,
   "id": "340be91b",
   "metadata": {},
   "outputs": [
    {
     "data": {
      "image/png": "[encoded data removed]",
      "text/plain": [
       "<Figure size 500x600 with 1 Axes>"
      ]
     },
     "metadata": {},
     "output_type": "display_data"
    }
   ],
   "source": [
    "# # Visualizing TPR and FPR. \n",
    "plt.figure(figsize = [5, 6])\n",
    "\n",
    "plt.plot(df_ideal.threshold, df_ideal.tpr , label = 'TPR')\n",
    "plt.plot(df_ideal.threshold, df_ideal.fpr, label= 'FPR')\n",
    "\n",
    "plt.legend();"
   ]
  },
  {
   "cell_type": "markdown",
   "id": "2dd6c5fe",
   "metadata": {},
   "source": [
    "### Getting it all Togeter. "
   ]
  },
  {
   "cell_type": "code",
   "execution_count": 38,
   "id": "c01d5f8a",
   "metadata": {},
   "outputs": [
    {
     "data": {
      "image/png": "[encoded data removed]",
      "text/plain": [
       "<Figure size 500x600 with 1 Axes>"
      ]
     },
     "metadata": {},
     "output_type": "display_data"
    }
   ],
   "source": [
    "# Viewing the real, random, and ideal graph together. \n",
    "plt.figure(figsize = [5, 6])\n",
    "\n",
    "plt.plot(df_score.threshold, df_score.tpr , label = 'Real TPR')\n",
    "plt.plot(df_score.threshold, df_score.fpr, label= 'Real FPR')\n",
    "\n",
    "# plt.plot(df_rand.threshold, df_rand.tpr , label = 'Random TPR')\n",
    "# plt.plot(df_rand.threshold, df_rand.fpr, label= 'Rendom FPR')\n",
    "\n",
    "plt.plot(df_ideal.threshold, df_ideal.tpr , label = 'Ideal TPR')\n",
    "plt.plot(df_ideal.threshold, df_ideal.fpr, label= 'Ideal FPR')\n",
    "\n",
    "plt.xlabel('Threshold Values')\n",
    "plt.ylabel('TPR & FPR Scores')\n",
    "plt.legend();"
   ]
  },
  {
   "cell_type": "code",
   "execution_count": 39,
   "id": "3c3a34c6",
   "metadata": {},
   "outputs": [
    {
     "data": {
      "text/plain": [
       "<matplotlib.legend.Legend at 0x23831468040>"
      ]
     },
     "execution_count": 39,
     "metadata": {},
     "output_type": "execute_result"
    },
    {
     "data": {
      "image/png": "[encoded data removed]",
      "text/plain": [
       "<Figure size 500x600 with 1 Axes>"
      ]
     },
     "metadata": {},
     "output_type": "display_data"
    }
   ],
   "source": [
    "# Plotting the TPR & FRP. \n",
    "plt.figure(figsize = [5, 6])\n",
    "\n",
    "# Plotting a line plot \n",
    "plt.plot(df_rand.fpr, df_rand.tpr, label = 'Random Model')\n",
    "plt.plot(df_score.fpr, df_score.tpr, label = 'Real Model')\n",
    "plt.plot(df_ideal.fpr, df_ideal.tpr, label = 'Ideal Model')\n",
    "\n",
    "# Plot Ledend.\n",
    "plt.legend()"
   ]
  },
  {
   "cell_type": "code",
   "execution_count": 40,
   "id": "6e505537",
   "metadata": {},
   "outputs": [],
   "source": [
    "# importing package from sklearn. \n",
    "from sklearn.metrics import roc_curve\n",
    "\n",
    "# Viewing Doc. \n",
    "# roc_curve?"
   ]
  },
  {
   "cell_type": "markdown",
   "id": "0f7f9d8c",
   "metadata": {},
   "source": [
    "## ROC AUC"
   ]
  },
  {
   "cell_type": "code",
   "execution_count": 41,
   "id": "deff706b",
   "metadata": {},
   "outputs": [],
   "source": [
    "# Import Packages.\n",
    "from sklearn.metrics import auc \n",
    "\n",
    "auc?"
   ]
  },
  {
   "cell_type": "code",
   "execution_count": 42,
   "id": "9306cdcd",
   "metadata": {},
   "outputs": [
    {
     "data": {
      "text/plain": [
       "0.8433718768834932"
      ]
     },
     "execution_count": 42,
     "metadata": {},
     "output_type": "execute_result"
    }
   ],
   "source": [
    "auc(df_score.fpr, df_score.tpr)"
   ]
  },
  {
   "cell_type": "code",
   "execution_count": 43,
   "id": "b40a44a8",
   "metadata": {},
   "outputs": [],
   "source": [
    "# Alternative Packages. \n",
    "from sklearn.metrics import roc_auc_score\n",
    "\n",
    "roc_auc_score?"
   ]
  },
  {
   "cell_type": "code",
   "execution_count": 45,
   "id": "70189f00",
   "metadata": {},
   "outputs": [],
   "source": [
    "# Testing on ideal df. \n",
    "# roc_auc_score(y_ideal_pred, df_ideal)"
   ]
  },
  {
   "cell_type": "markdown",
   "id": "c608f2bf",
   "metadata": {},
   "source": [
    "## Cross Validation. "
   ]
  },
  {
   "cell_type": "code",
   "execution_count": 46,
   "id": "f99408c3",
   "metadata": {},
   "outputs": [],
   "source": [
    "# Import kfold package. \n",
    "from sklearn.model_selection import KFold "
   ]
  },
  {
   "cell_type": "code",
   "execution_count": 47,
   "id": "6cd6b888",
   "metadata": {},
   "outputs": [],
   "source": [
    "# Setting up kfold. \n",
    "kfold = KFold(n_splits = 10, shuffle = True, random_state = 1)"
   ]
  },
  {
   "cell_type": "code",
   "execution_count": 52,
   "id": "17d88153",
   "metadata": {},
   "outputs": [],
   "source": [
    "LogisticRegression?"
   ]
  },
  {
   "cell_type": "code",
   "execution_count": 53,
   "id": "a348cb55",
   "metadata": {},
   "outputs": [],
   "source": [
    "# Defining a training function. \n",
    "def train(df_train, df_ytrain, c = 1.0): \n",
    "    dict_train = df_train.to_dict(orient = 'records')\n",
    "    dv = DictVectorizer(sparse = False)\n",
    "    x_train = dv.fit_transform(dict_train)\n",
    "    \n",
    "    model = LogisticRegression(max_iter = 1000, C = c)\n",
    "    model.fit(x_train, df_ytrain)\n",
    "    \n",
    "    return model, dv\n",
    "\n",
    "# Define predict function.\n",
    "def predict(model, dv, df_val): \n",
    "    dict_val = df_val.to_dict(orient = 'records')\n",
    "    \n",
    "    x_val = dv.transform(dict_val)\n",
    "\n",
    "    y_pred = model.predict_proba(x_val)[:, 1]\n",
    "    \n",
    "    return y_pred "
   ]
  },
  {
   "cell_type": "code",
   "execution_count": 65,
   "id": "4935be06",
   "metadata": {},
   "outputs": [],
   "source": [
    "from tqdm.auto import tqdm"
   ]
  },
  {
   "cell_type": "code",
   "execution_count": null,
   "id": "bf9cc48a",
   "metadata": {},
   "outputs": [
    {
     "data": {
      "application/vnd.jupyter.widget-view+json": {
       "model_id": "72d47c98bccb4b0785cb28abee48624f",
       "version_major": 2,
       "version_minor": 0
      },
      "text/plain": [
       "  0%|          | 0/7 [00:00<?, ?it/s]"
      ]
     },
     "metadata": {},
     "output_type": "display_data"
    },
    {
     "name": "stdout",
     "output_type": "stream",
     "text": [
      "C= 0.001 0.824 +- 0.010\n",
      "C= 0.01 0.840 +- 0.008\n",
      "C= 0.1 0.841 +- 0.007\n"
     ]
    },
    {
     "name": "stderr",
     "output_type": "stream",
     "text": [
      "C:\\Users\\User1\\anaconda3\\envs\\ml-zoomcamp\\lib\\site-packages\\sklearn\\linear_model\\_logistic.py:444: ConvergenceWarning: lbfgs failed to converge (status=1):\n",
      "STOP: TOTAL NO. of ITERATIONS REACHED LIMIT.\n",
      "\n",
      "Increase the number of iterations (max_iter) or scale the data as shown in:\n",
      "    https://scikit-learn.org/stable/modules/preprocessing.html\n",
      "Please also refer to the documentation for alternative solver options:\n",
      "    https://scikit-learn.org/stable/modules/linear_model.html#logistic-regression\n",
      "  n_iter_i = _check_optimize_result(\n",
      "C:\\Users\\User1\\anaconda3\\envs\\ml-zoomcamp\\lib\\site-packages\\sklearn\\linear_model\\_logistic.py:444: ConvergenceWarning: lbfgs failed to converge (status=1):\n",
      "STOP: TOTAL NO. of ITERATIONS REACHED LIMIT.\n",
      "\n",
      "Increase the number of iterations (max_iter) or scale the data as shown in:\n",
      "    https://scikit-learn.org/stable/modules/preprocessing.html\n",
      "Please also refer to the documentation for alternative solver options:\n",
      "    https://scikit-learn.org/stable/modules/linear_model.html#logistic-regression\n",
      "  n_iter_i = _check_optimize_result(\n",
      "C:\\Users\\User1\\anaconda3\\envs\\ml-zoomcamp\\lib\\site-packages\\sklearn\\linear_model\\_logistic.py:444: ConvergenceWarning: lbfgs failed to converge (status=1):\n",
      "STOP: TOTAL NO. of ITERATIONS REACHED LIMIT.\n",
      "\n",
      "Increase the number of iterations (max_iter) or scale the data as shown in:\n",
      "    https://scikit-learn.org/stable/modules/preprocessing.html\n",
      "Please also refer to the documentation for alternative solver options:\n",
      "    https://scikit-learn.org/stable/modules/linear_model.html#logistic-regression\n",
      "  n_iter_i = _check_optimize_result(\n",
      "C:\\Users\\User1\\anaconda3\\envs\\ml-zoomcamp\\lib\\site-packages\\sklearn\\linear_model\\_logistic.py:444: ConvergenceWarning: lbfgs failed to converge (status=1):\n",
      "STOP: TOTAL NO. of ITERATIONS REACHED LIMIT.\n",
      "\n",
      "Increase the number of iterations (max_iter) or scale the data as shown in:\n",
      "    https://scikit-learn.org/stable/modules/preprocessing.html\n",
      "Please also refer to the documentation for alternative solver options:\n",
      "    https://scikit-learn.org/stable/modules/linear_model.html#logistic-regression\n",
      "  n_iter_i = _check_optimize_result(\n",
      "C:\\Users\\User1\\anaconda3\\envs\\ml-zoomcamp\\lib\\site-packages\\sklearn\\linear_model\\_logistic.py:444: ConvergenceWarning: lbfgs failed to converge (status=1):\n",
      "STOP: TOTAL NO. of ITERATIONS REACHED LIMIT.\n",
      "\n",
      "Increase the number of iterations (max_iter) or scale the data as shown in:\n",
      "    https://scikit-learn.org/stable/modules/preprocessing.html\n",
      "Please also refer to the documentation for alternative solver options:\n",
      "    https://scikit-learn.org/stable/modules/linear_model.html#logistic-regression\n",
      "  n_iter_i = _check_optimize_result(\n"
     ]
    },
    {
     "name": "stdout",
     "output_type": "stream",
     "text": [
      "C= 0.5 0.835 +- 0.004\n"
     ]
    },
    {
     "name": "stderr",
     "output_type": "stream",
     "text": [
      "C:\\Users\\User1\\anaconda3\\envs\\ml-zoomcamp\\lib\\site-packages\\sklearn\\linear_model\\_logistic.py:444: ConvergenceWarning: lbfgs failed to converge (status=1):\n",
      "STOP: TOTAL NO. of ITERATIONS REACHED LIMIT.\n",
      "\n",
      "Increase the number of iterations (max_iter) or scale the data as shown in:\n",
      "    https://scikit-learn.org/stable/modules/preprocessing.html\n",
      "Please also refer to the documentation for alternative solver options:\n",
      "    https://scikit-learn.org/stable/modules/linear_model.html#logistic-regression\n",
      "  n_iter_i = _check_optimize_result(\n",
      "C:\\Users\\User1\\anaconda3\\envs\\ml-zoomcamp\\lib\\site-packages\\sklearn\\linear_model\\_logistic.py:444: ConvergenceWarning: lbfgs failed to converge (status=1):\n",
      "STOP: TOTAL NO. of ITERATIONS REACHED LIMIT.\n",
      "\n",
      "Increase the number of iterations (max_iter) or scale the data as shown in:\n",
      "    https://scikit-learn.org/stable/modules/preprocessing.html\n",
      "Please also refer to the documentation for alternative solver options:\n",
      "    https://scikit-learn.org/stable/modules/linear_model.html#logistic-regression\n",
      "  n_iter_i = _check_optimize_result(\n",
      "C:\\Users\\User1\\anaconda3\\envs\\ml-zoomcamp\\lib\\site-packages\\sklearn\\linear_model\\_logistic.py:444: ConvergenceWarning: lbfgs failed to converge (status=1):\n",
      "STOP: TOTAL NO. of ITERATIONS REACHED LIMIT.\n",
      "\n",
      "Increase the number of iterations (max_iter) or scale the data as shown in:\n",
      "    https://scikit-learn.org/stable/modules/preprocessing.html\n",
      "Please also refer to the documentation for alternative solver options:\n",
      "    https://scikit-learn.org/stable/modules/linear_model.html#logistic-regression\n",
      "  n_iter_i = _check_optimize_result(\n",
      "C:\\Users\\User1\\anaconda3\\envs\\ml-zoomcamp\\lib\\site-packages\\sklearn\\linear_model\\_logistic.py:444: ConvergenceWarning: lbfgs failed to converge (status=1):\n",
      "STOP: TOTAL NO. of ITERATIONS REACHED LIMIT.\n",
      "\n",
      "Increase the number of iterations (max_iter) or scale the data as shown in:\n",
      "    https://scikit-learn.org/stable/modules/preprocessing.html\n",
      "Please also refer to the documentation for alternative solver options:\n",
      "    https://scikit-learn.org/stable/modules/linear_model.html#logistic-regression\n",
      "  n_iter_i = _check_optimize_result(\n",
      "C:\\Users\\User1\\anaconda3\\envs\\ml-zoomcamp\\lib\\site-packages\\sklearn\\linear_model\\_logistic.py:444: ConvergenceWarning: lbfgs failed to converge (status=1):\n",
      "STOP: TOTAL NO. of ITERATIONS REACHED LIMIT.\n",
      "\n",
      "Increase the number of iterations (max_iter) or scale the data as shown in:\n",
      "    https://scikit-learn.org/stable/modules/preprocessing.html\n",
      "Please also refer to the documentation for alternative solver options:\n",
      "    https://scikit-learn.org/stable/modules/linear_model.html#logistic-regression\n",
      "  n_iter_i = _check_optimize_result(\n"
     ]
    },
    {
     "name": "stdout",
     "output_type": "stream",
     "text": [
      "C= 1.0 0.839 +- 0.006\n"
     ]
    },
    {
     "name": "stderr",
     "output_type": "stream",
     "text": [
      "C:\\Users\\User1\\anaconda3\\envs\\ml-zoomcamp\\lib\\site-packages\\sklearn\\linear_model\\_logistic.py:444: ConvergenceWarning: lbfgs failed to converge (status=1):\n",
      "STOP: TOTAL NO. of ITERATIONS REACHED LIMIT.\n",
      "\n",
      "Increase the number of iterations (max_iter) or scale the data as shown in:\n",
      "    https://scikit-learn.org/stable/modules/preprocessing.html\n",
      "Please also refer to the documentation for alternative solver options:\n",
      "    https://scikit-learn.org/stable/modules/linear_model.html#logistic-regression\n",
      "  n_iter_i = _check_optimize_result(\n",
      "C:\\Users\\User1\\anaconda3\\envs\\ml-zoomcamp\\lib\\site-packages\\sklearn\\linear_model\\_logistic.py:444: ConvergenceWarning: lbfgs failed to converge (status=1):\n",
      "STOP: TOTAL NO. of ITERATIONS REACHED LIMIT.\n",
      "\n",
      "Increase the number of iterations (max_iter) or scale the data as shown in:\n",
      "    https://scikit-learn.org/stable/modules/preprocessing.html\n",
      "Please also refer to the documentation for alternative solver options:\n",
      "    https://scikit-learn.org/stable/modules/linear_model.html#logistic-regression\n",
      "  n_iter_i = _check_optimize_result(\n"
     ]
    },
    {
     "name": "stdout",
     "output_type": "stream",
     "text": [
      "C= 5.0 0.841 +- 0.006\n"
     ]
    },
    {
     "name": "stderr",
     "output_type": "stream",
     "text": [
      "C:\\Users\\User1\\anaconda3\\envs\\ml-zoomcamp\\lib\\site-packages\\sklearn\\linear_model\\_logistic.py:444: ConvergenceWarning: lbfgs failed to converge (status=1):\n",
      "STOP: TOTAL NO. of ITERATIONS REACHED LIMIT.\n",
      "\n",
      "Increase the number of iterations (max_iter) or scale the data as shown in:\n",
      "    https://scikit-learn.org/stable/modules/preprocessing.html\n",
      "Please also refer to the documentation for alternative solver options:\n",
      "    https://scikit-learn.org/stable/modules/linear_model.html#logistic-regression\n",
      "  n_iter_i = _check_optimize_result(\n",
      "C:\\Users\\User1\\anaconda3\\envs\\ml-zoomcamp\\lib\\site-packages\\sklearn\\linear_model\\_logistic.py:444: ConvergenceWarning: lbfgs failed to converge (status=1):\n",
      "STOP: TOTAL NO. of ITERATIONS REACHED LIMIT.\n",
      "\n",
      "Increase the number of iterations (max_iter) or scale the data as shown in:\n",
      "    https://scikit-learn.org/stable/modules/preprocessing.html\n",
      "Please also refer to the documentation for alternative solver options:\n",
      "    https://scikit-learn.org/stable/modules/linear_model.html#logistic-regression\n",
      "  n_iter_i = _check_optimize_result(\n"
     ]
    }
   ],
   "source": [
    "n_split = 5 \n",
    "\n",
    "for c in tqdm([0.001, 0.01, 0.1, 0.5, 1.0, 5.0, 10.0]):\n",
    "    kfold = KFold(n_splits = n_split, shuffle = True, random_state = 1)\n",
    "    score = []\n",
    "\n",
    "    for train_idx, val_idx in kfold.split(telco_full_train):\n",
    "        df_train = telco_full_train.iloc[train_idx]\n",
    "        df_val = telco_full_train.iloc[val_idx]\n",
    "    \n",
    "        y_train = telco_full_ytrain.iloc[train_idx].values\n",
    "        y_val = telco_full_ytrain.iloc[val_idx].values\n",
    "    \n",
    "        model, dv = train(df_train, y_train, c= c)\n",
    "        y_pred = predict(model, dv, df_val)\n",
    "    \n",
    "        auc = roc_auc_score(y_val, y_pred)\n",
    "        score.append(auc)\n",
    "    \n",
    "    # Checking result. \n",
    "    print('C= %s %.3f +- %.3f' % (c, np.mean(score), np.std(score)) )"
   ]
  },
  {
   "cell_type": "code",
   "execution_count": null,
   "id": "0f73d532",
   "metadata": {},
   "outputs": [],
   "source": []
  }
 ],
 "metadata": {
  "kernelspec": {
   "display_name": "Python 3 (ipykernel)",
   "language": "python",
   "name": "python3"
  },
  "language_info": {
   "codemirror_mode": {
    "name": "ipython",
    "version": 3
   },
   "file_extension": ".py",
   "mimetype": "text/x-python",
   "name": "python",
   "nbconvert_exporter": "python",
   "pygments_lexer": "ipython3",
   "version": "3.9.13"
  }
 },
 "nbformat": 4,
 "nbformat_minor": 5
}
